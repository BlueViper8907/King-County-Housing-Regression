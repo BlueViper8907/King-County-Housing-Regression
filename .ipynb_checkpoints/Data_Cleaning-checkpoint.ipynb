{
 "cells": [
  {
   "cell_type": "code",
   "execution_count": 9,
   "metadata": {},
   "outputs": [],
   "source": [
    "import pandas as pd\n",
    "import numpy as np\n",
    "import scipy \n",
    "import sklearn\n",
    "import datetime\n",
    "from scipy import stats"
   ]
  },
  {
   "cell_type": "code",
   "execution_count": 16,
   "metadata": {},
   "outputs": [],
   "source": [
    "# read data\n",
    "kc_columns = ['id', 'date', 'price', 'bedrooms', 'bathrooms', 'sqft_living', 'sqft_lot', 'floors', 'waterfront', 'view', \n",
    "              'condition', 'grade', 'sqft_above', 'sqft_basement', 'yr_built', 'yr_renovated', 'zipcode', 'lat', 'long', 'sqft_living15',\n",
    "              'sqft_lot15']\n",
    "\n",
    "kc_dtypes = {'id': int, 'date' : str,  'price': float, 'bedrooms' : int, 'bathrooms' : float, 'sqft_living': int, 'sqft_lot': int, 'floors': float, \n",
    "             'waterfront': float, 'view' : float, 'condition': float, 'grade': int, 'sqft_above': int, 'yr_built': int,\n",
    "             'yr_renovated': float, 'zipcode': float, 'lat': float, 'long': float, 'sqft_living15': int, 'sqft_lot15': int}\n",
    "\n",
    "kc_data = pd.read_csv('dsc-phase-2-project/data/kc_house_data.csv', dtype = kc_dtypes, parse_dates = ['date'])\n",
    "\n",
    "kc_data['sqft_basement'] = kc_data['sqft_basement'].replace({'?': 0})\n",
    "kc_data['sqft_basement'] = kc_data['sqft_basement'].astype(dtype=float, errors='ignore')"
   ]
  },
  {
   "cell_type": "code",
   "execution_count": 17,
   "metadata": {},
   "outputs": [],
   "source": [
    "#look for outliers, in bedrooms, we can clearly see a single outlier, for other columns, filtering by z score will be easiest \n",
    "kc_data[kc_data['bedrooms'] == 33]\n",
    "# wouldn't be realistic for a house with 33 bedrooms to only have a sqft_living of 1620 and only 1 3/4 bathrooms so it looks like a typo\n",
    "# will adjust to 3 \n",
    "kc_data[kc_data['bedrooms'] == 33] = kc_data[kc_data['bedrooms'] == 33].replace(33,3)"
   ]
  },
  {
   "cell_type": "code",
   "execution_count": 19,
   "metadata": {},
   "outputs": [],
   "source": [
    "#setting waterfront NaN values equal to the ratio of waterfront/non-waterfront properties, will want to try and narrow by zipcode \n",
    "#filling NaN with easily seperatable/changable values helpful \n",
    "kc_data['waterfront'] = kc_data['waterfront'].fillna(146/19221)\n",
    "kc_data['view'] = kc_data['view'].fillna((957 + (508*2) + (330*3) + (317*4))/21534)\n",
    "kc_data['yr_renovated'] = kc_data['waterfront'].fillna(0)"
   ]
  },
  {
   "cell_type": "code",
   "execution_count": 18,
   "metadata": {},
   "outputs": [],
   "source": [
    "#here are the columns i think it's reasonable to filter by z score, filtering these 3 removes about 100 rows \n",
    "find_outliers = ['sqft_basement', 'sqft_above', 'price']\n",
    "\n",
    "for column in find_outliers:\n",
    "    z_score = stats.zscore(kc_data[[column]])\n",
    "    abs_z_score = np.abs(z_score)\n",
    "    filtered_entries = (abs_z_score < 3).all(axis=1)\n",
    "    kc_data[str(column + '_z')] = kc_data[column][filtered_entries]\n",
    "    kc_data = kc_data.dropna(axis=0)"
   ]
  },
  {
   "cell_type": "code",
   "execution_count": 20,
   "metadata": {},
   "outputs": [],
   "source": [
    "#Convert to integer for whole number year\n",
    "kc_data['yr_renovated'] = kc_data['yr_renovated'].astype('int')"
   ]
  },
  {
   "cell_type": "code",
   "execution_count": 21,
   "metadata": {},
   "outputs": [
    {
     "name": "stdout",
     "output_type": "stream",
     "text": [
      "0\n"
     ]
    },
    {
     "data": {
      "text/html": [
       "<div>\n",
       "<style scoped>\n",
       "    .dataframe tbody tr th:only-of-type {\n",
       "        vertical-align: middle;\n",
       "    }\n",
       "\n",
       "    .dataframe tbody tr th {\n",
       "        vertical-align: top;\n",
       "    }\n",
       "\n",
       "    .dataframe thead th {\n",
       "        text-align: right;\n",
       "    }\n",
       "</style>\n",
       "<table border=\"1\" class=\"dataframe\">\n",
       "  <thead>\n",
       "    <tr style=\"text-align: right;\">\n",
       "      <th></th>\n",
       "      <th>id</th>\n",
       "      <th>date</th>\n",
       "      <th>price</th>\n",
       "      <th>bedrooms</th>\n",
       "      <th>bathrooms</th>\n",
       "      <th>sqft_living</th>\n",
       "      <th>sqft_lot</th>\n",
       "      <th>floors</th>\n",
       "      <th>waterfront</th>\n",
       "      <th>view</th>\n",
       "      <th>...</th>\n",
       "      <th>yr_built</th>\n",
       "      <th>yr_renovated</th>\n",
       "      <th>zipcode</th>\n",
       "      <th>lat</th>\n",
       "      <th>long</th>\n",
       "      <th>sqft_living15</th>\n",
       "      <th>sqft_lot15</th>\n",
       "      <th>sqft_basement_z</th>\n",
       "      <th>sqft_above_z</th>\n",
       "      <th>price_z</th>\n",
       "    </tr>\n",
       "  </thead>\n",
       "  <tbody>\n",
       "  </tbody>\n",
       "</table>\n",
       "<p>0 rows × 24 columns</p>\n",
       "</div>"
      ],
      "text/plain": [
       "Empty DataFrame\n",
       "Columns: [id, date, price, bedrooms, bathrooms, sqft_living, sqft_lot, floors, waterfront, view, condition, grade, sqft_above, sqft_basement, yr_built, yr_renovated, zipcode, lat, long, sqft_living15, sqft_lot15, sqft_basement_z, sqft_above_z, price_z]\n",
       "Index: []\n",
       "\n",
       "[0 rows x 24 columns]"
      ]
     },
     "execution_count": 21,
     "metadata": {},
     "output_type": "execute_result"
    }
   ],
   "source": [
    "#check for duplicates\n",
    "duplicates = kc_data[kc_data.duplicated()]\n",
    "print(len(duplicates))\n",
    "duplicates.head()\n",
    "#none found! Now that we are free of outliers, duplicates, null valules, etc, we can consider our data cleaned "
   ]
  },
  {
   "cell_type": "code",
   "execution_count": 22,
   "metadata": {},
   "outputs": [
    {
     "name": "stdout",
     "output_type": "stream",
     "text": [
      "<class 'pandas.core.frame.DataFrame'>\n",
      "Int64Index: 15118 entries, 1 to 21596\n",
      "Data columns (total 24 columns):\n",
      " #   Column           Non-Null Count  Dtype         \n",
      "---  ------           --------------  -----         \n",
      " 0   id               15118 non-null  int32         \n",
      " 1   date             15118 non-null  datetime64[ns]\n",
      " 2   price            15118 non-null  float64       \n",
      " 3   bedrooms         15118 non-null  int32         \n",
      " 4   bathrooms        15118 non-null  float64       \n",
      " 5   sqft_living      15118 non-null  int32         \n",
      " 6   sqft_lot         15118 non-null  int32         \n",
      " 7   floors           15118 non-null  float64       \n",
      " 8   waterfront       15118 non-null  float64       \n",
      " 9   view             15118 non-null  float64       \n",
      " 10  condition        15118 non-null  float64       \n",
      " 11  grade            15118 non-null  int32         \n",
      " 12  sqft_above       15118 non-null  int32         \n",
      " 13  sqft_basement    15118 non-null  float64       \n",
      " 14  yr_built         15118 non-null  int32         \n",
      " 15  yr_renovated     15118 non-null  int32         \n",
      " 16  zipcode          15118 non-null  float64       \n",
      " 17  lat              15118 non-null  float64       \n",
      " 18  long             15118 non-null  float64       \n",
      " 19  sqft_living15    15118 non-null  int32         \n",
      " 20  sqft_lot15       15118 non-null  int32         \n",
      " 21  sqft_basement_z  15118 non-null  float64       \n",
      " 22  sqft_above_z     15118 non-null  float64       \n",
      " 23  price_z          15118 non-null  float64       \n",
      "dtypes: datetime64[ns](1), float64(13), int32(10)\n",
      "memory usage: 2.3 MB\n"
     ]
    }
   ],
   "source": [
    "kc_data.info()"
   ]
  },
  {
   "cell_type": "code",
   "execution_count": null,
   "metadata": {},
   "outputs": [],
   "source": []
  }
 ],
 "metadata": {
  "kernelspec": {
   "display_name": "Python 3",
   "language": "python",
   "name": "python3"
  },
  "language_info": {
   "codemirror_mode": {
    "name": "ipython",
    "version": 3
   },
   "file_extension": ".py",
   "mimetype": "text/x-python",
   "name": "python",
   "nbconvert_exporter": "python",
   "pygments_lexer": "ipython3",
   "version": "3.8.5"
  }
 },
 "nbformat": 4,
 "nbformat_minor": 4
}
