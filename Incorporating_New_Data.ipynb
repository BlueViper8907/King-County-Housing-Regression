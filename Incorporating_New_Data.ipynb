{
 "cells": [
  {
   "cell_type": "code",
   "execution_count": 1,
   "metadata": {},
   "outputs": [],
   "source": [
    "import pandas as pd\n",
    "import numpy as np\n",
    "import seaborn as sns \n",
    "import matplotlib.pyplot as plt \n",
    "import sklearn \n",
    "import math \n",
    "import scipy\n",
    "import datetime \n",
    "import mlxtend\n",
    "from statsmodels.formula.api import ols\n",
    "from statsmodels.stats.outliers_influence import variance_inflation_factor"
   ]
  },
  {
   "cell_type": "code",
   "execution_count": 2,
   "metadata": {},
   "outputs": [],
   "source": [
    "import pandas as pd \n",
    "import statsmodels.api as sm\n",
    "import scipy.stats as stats\n",
    "import numpy as np\n",
    "import os\n",
    "%matplotlib inline\n",
    "from mlxtend.feature_selection import SequentialFeatureSelector as SFS\n",
    "from math import sqrt\n",
    "from scipy import stats"
   ]
  },
  {
   "cell_type": "code",
   "execution_count": 3,
   "metadata": {},
   "outputs": [],
   "source": [
    "from sklearn import linear_model\n",
    "from sklearn.linear_model import LinearRegression\n",
    "from sklearn.model_selection import train_test_split\n",
    "from sklearn.metrics import mean_squared_error, r2_score\n",
    "from sklearn.neighbors import NearestNeighbors, KNeighborsClassifier, KNeighborsRegressor\n",
    "from sklearn.model_selection import cross_val_predict, KFold\n",
    "from sklearn.preprocessing import StandardScaler\n",
    "from sklearn.pipeline import make_pipeline"
   ]
  },
  {
   "cell_type": "code",
   "execution_count": 4,
   "metadata": {},
   "outputs": [],
   "source": [
    "pd.options.display.max_rows = 4000"
   ]
  },
  {
   "cell_type": "code",
   "execution_count": 5,
   "metadata": {},
   "outputs": [],
   "source": [
    "kc_dtypes = {'id': int, 'date' : str,  'price': float, 'bedrooms' : int, 'bathrooms' : float, 'sqft_living': int, 'sqft_lot': int, 'floors': float, \n",
    "             'waterfront': float, 'view' : float, 'condition': float, 'grade': int, 'sqft_above': int, 'yr_built': int,\n",
    "             'yr_renovated': float, 'zipcode': float, 'lat': float, 'long': float, 'sqft_living15': int, 'sqft_lot15': int}\n",
    "\n",
    "\n",
    "flatiron_data = pd.read_csv(r'~\\Documents\\Flatiron\\data\\data\\Cleaned_Dataset.csv', parse_dates = ['date'], dtype=kc_dtypes)"
   ]
  },
  {
   "cell_type": "code",
   "execution_count": 6,
   "metadata": {},
   "outputs": [],
   "source": [
    "parcel_dtypes = {'Major' : int, 'Minor' : int, 'PlatLot' : str, 'PlatBlock' : str, 'Range' : int, 'Township' : int, 'Section' : int,\n",
    "                 'QuarterSection' : str, 'PropType' : str, 'DistrictName' : str , 'CurrentZoning':str, 'Unbuildable': int,  'WfntAccessRights' :str, \n",
    "                 'WfntProximityInfluence':str, 'PowerLines': str, 'OtherNuisances' : str ,  'DNRLease': str, 'AdjacentGolfFairway':str, \n",
    "                 'AdjacentGreenbelt':str, 'Easements' :str, 'OtherDesignation':str, 'DeedRestrictions':str, 'DevelopmentRightsPurch': str, \n",
    "                 'CoalMineHazard': str, 'CriticalDrainage':str, 'ErosionHazard':str, 'LandfillBuffer':str, 'HundredYrFloodPlain':str,\n",
    "                 'SeismicHazard': str, 'LandslideHazard':str, 'SteepSlopeHazard':str, 'Stream':str, 'Wetland':str, 'SpeciesOfConcern':str,\n",
    "                 'SensitiveAreaTract':str, 'WaterProblems':str, 'TranspConcurrency': str, 'OtherProblems':str, 'id': int }"
   ]
  },
  {
   "cell_type": "code",
   "execution_count": 7,
   "metadata": {},
   "outputs": [],
   "source": [
    "kc_parcels = pd.read_csv(r'~\\Documents\\Flatiron\\data\\data\\EXTR_Parcel.csv', encoding='ISO-8859-1', dtype=parcel_dtypes)\n",
    "kc_resident = pd.read_csv(r'~\\Documents\\Flatiron\\data\\data\\EXTR_ResBldg.csv', encoding='ISO-8859-1', low_memory=False)"
   ]
  },
  {
   "cell_type": "code",
   "execution_count": 8,
   "metadata": {},
   "outputs": [],
   "source": [
    "#kc_condos1 = pd.read_csv(r'~\\Documents\\Flatiron\\data\\data\\EXTR_CondoComplex.csv', encoding='ISO-8859-1', low_memory=False)\n",
    "#kc_condos2 = pd.read_csv(r'~\\Documents\\Flatiron\\data\\data\\EXTR_CondoUnit2.csv', encoding='ISO-8859-1', low_memory=False)"
   ]
  },
  {
   "cell_type": "code",
   "execution_count": 9,
   "metadata": {},
   "outputs": [],
   "source": [
    "kc_appraisal = pd.read_csv(r'~\\Documents\\Flatiron\\data\\data\\EXTR_RealPropApplHist_V.csv', encoding='ISO-8859-1', low_memory=False)\n",
    "#kc_breakdown = pd.read_csv(r'~\\Documents\\Flatiron\\data\\data\\EXTR_UnitBreakdown.csv', encoding='ISO-8859-1', low_memory=False)"
   ]
  },
  {
   "cell_type": "code",
   "execution_count": 10,
   "metadata": {},
   "outputs": [],
   "source": [
    "kc_resident = kc_resident.drop('ZipCode', axis=1).drop('DirectionSuffix', axis=1).drop('DirectionPrefix', axis=1)\n",
    "kc_parcels = kc_parcels.drop('PlatName', axis=1).drop('PropName', axis=1).drop('SpecArea', axis =1).drop('SpecSubArea',  axis=1)"
   ]
  },
  {
   "cell_type": "code",
   "execution_count": 11,
   "metadata": {},
   "outputs": [],
   "source": [
    "#kc_data.columns = kc_data.columns.droplevel(0)\n",
    "#flatiron_data.columns = pd.MultiIndex.from_product([flatiron_data.columns, ['FI']])\n",
    "#kc_appraisal.columns = pd.MultiIndex.from_product([kc_appraisal.columns, ['APP']])\n",
    "\n",
    "kc_parcels = kc_parcels[['SqFtLot',\n",
    "       'Access', 'Topography', 'StreetSurface', 'RestrictiveSzShape',\n",
    "       'InadequateParking', 'PcntUnusable', 'Unbuildable', 'MtRainier',\n",
    "       'Olympics', 'Cascades', 'Territorial', 'SeattleSkyline', 'PugetSound',\n",
    "       'LakeWashington', 'LakeSammamish', 'SmallLakeRiverCreek', 'OtherView',\n",
    "       'WfntLocation', 'WfntFootage', 'WfntPoorQuality',\n",
    "       'WfntAccessRights', 'WfntProximityInfluence',\n",
    "       'TidelandShoreland', 'LotDepthFactor', 'TrafficNoise', 'AirportNoise',\n",
    "       'PowerLines', 'OtherNuisances', 'NbrBldgSites', 'Contamination',\n",
    "       'DNRLease', 'AdjacentGreenbelt', 'HistoricSite',\n",
    "       'CurrentUseDesignation', 'NativeGrowthProtEsmt', 'Easements',\n",
    "       'OtherDesignation', 'DeedRestrictions', 'DevelopmentRightsPurch',\n",
    "       'CoalMineHazard', 'CriticalDrainage', 'ErosionHazard', 'LandfillBuffer',\n",
    "       'HundredYrFloodPlain', 'LandslideHazard',\n",
    "       'SteepSlopeHazard', 'Stream', 'Wetland',\n",
    "       'SensitiveAreaTract', 'WaterProblems', \n",
    "       'OtherProblems', 'id']].copy()\n",
    "\n",
    "#kc_resident = kc_resident[['BldgNbr', 'NbrLivingUnits', 'Address',\n",
    "#       'BuildingNumber', 'Fraction', 'StreetName', 'StreetType', 'Stories',\n",
    "#       'BldgGrade', 'BldgGradeVar', 'SqFt1stFloor', 'SqFtHalfFloor',\n",
    "#       'SqFt2ndFloor', 'SqFtUpperFloor', 'SqFtUnfinFull', 'SqFtUnfinHalf',\n",
    "#       'SqFtTotLiving', 'SqFtTotBasement', 'SqFtFinBasement',\n",
    "#       'FinBasementGrade', 'SqFtGarageBasement', 'SqFtGarageAttached',\n",
    "#       'DaylightBasement', 'SqFtOpenPorch', 'SqFtEnclosedPorch', 'SqFtDeck',\n",
    "#       'HeatSystem', 'HeatSource', 'BrickStone', 'ViewUtilization', 'Bedrooms',\n",
    "#       'BathHalfCount', 'Bath3qtrCount', 'BathFullCount', 'FpSingleStory',\n",
    "#       'FpMultiStory', 'FpFreestanding', 'FpAdditional', 'YrBuilt',\n",
    "#       'YrRenovated', 'PcntComplete', 'Obsolescence', 'PcntNetCondition',\n",
    " #      'Condition', 'AddnlCost', 'id']].copy()\n",
    "\n",
    "\n",
    "kc_appraisal = kc_appraisal[['RollYr', 'RevalOrMaint', 'LandVal', 'ImpsVal',\n",
    "       'NewDollars', 'id']].copy()\n",
    "\n",
    "#kc_breakdown = kc_breakdown[[ 'SqFt', 'NbrBedrooms', 'NbrBaths', 'id']].copy()\n"
   ]
  },
  {
   "cell_type": "code",
   "execution_count": 12,
   "metadata": {},
   "outputs": [
    {
     "data": {
      "text/plain": [
       "Major                   int64\n",
       "Minor                   int64\n",
       "BldgNbr                 int64\n",
       "NbrLivingUnits          int64\n",
       "Address                object\n",
       "BuildingNumber         object\n",
       "Fraction               object\n",
       "StreetName             object\n",
       "StreetType             object\n",
       "Stories               float64\n",
       "BldgGrade               int64\n",
       "SqFt1stFloor            int64\n",
       "SqFtHalfFloor           int64\n",
       "SqFt2ndFloor            int64\n",
       "SqFtUpperFloor          int64\n",
       "SqFtUnfinFull           int64\n",
       "SqFtUnfinHalf           int64\n",
       "SqFtTotLiving           int64\n",
       "SqFtTotBasement         int64\n",
       "SqFtFinBasement         int64\n",
       "FinBasementGrade        int64\n",
       "SqFtGarageBasement      int64\n",
       "SqFtGarageAttached      int64\n",
       "DaylightBasement       object\n",
       "SqFtOpenPorch           int64\n",
       "SqFtEnclosedPorch       int64\n",
       "SqFtDeck                int64\n",
       "HeatSystem              int64\n",
       "HeatSource              int64\n",
       "BrickStone              int64\n",
       "ViewUtilization        object\n",
       "Bedrooms                int64\n",
       "BathHalfCount           int64\n",
       "Bath3qtrCount           int64\n",
       "BathFullCount           int64\n",
       "FpSingleStory           int64\n",
       "FpMultiStory            int64\n",
       "FpFreestanding          int64\n",
       "FpAdditional            int64\n",
       "YrBuilt                 int64\n",
       "YrRenovated             int64\n",
       "PcntComplete            int64\n",
       "Obsolescence            int64\n",
       "PcntNetCondition        int64\n",
       "Condition               int64\n",
       "AddnlCost               int64\n",
       "dtype: object"
      ]
     },
     "execution_count": 12,
     "metadata": {},
     "output_type": "execute_result"
    }
   ],
   "source": [
    "kc_resident.dtypes"
   ]
  },
  {
   "cell_type": "code",
   "execution_count": 13,
   "metadata": {},
   "outputs": [],
   "source": [
    "#kc_condos1['Minor'] = '0000'\n",
    "#kc_condos2['Minor'] = '0000'"
   ]
  },
  {
   "cell_type": "code",
   "execution_count": 14,
   "metadata": {},
   "outputs": [],
   "source": [
    "kc_web_df = [kc_parcels, kc_appraisal, kc_resident]#, kc_condos1, kc_condos2  kc_resident, kc_breakdown, "
   ]
  },
  {
   "cell_type": "code",
   "execution_count": 15,
   "metadata": {},
   "outputs": [],
   "source": [
    "for dataframe in kc_web_df:\n",
    "    \n",
    "    i = 0\n",
    "    j = 0\n",
    "    \n",
    "    dataframe['Major'] = dataframe['Major'].astype(str)\n",
    "    dataframe['Major'] = dataframe['Major'].str.strip()    \n",
    "    dataframe['Minor'] = dataframe['Minor'].astype(str)\n",
    "    dataframe['Minor'] = dataframe['Minor'].str.strip()\n",
    "    \n",
    "    for row in dataframe:\n",
    "        while len(str(dataframe['Minor'][i])) + j < 4:\n",
    "            dataframe['Major'][i]*10\n",
    "            j += 1\n",
    "            \n",
    "            \n",
    "    dataframe['id'] = dataframe['Major'] + dataframe['Minor']\n",
    "    dataframe = dataframe.convert_dtypes(convert_integer=False)\n",
    "   \n",
    "    i += 1"
   ]
  },
  {
   "cell_type": "code",
   "execution_count": 18,
   "metadata": {},
   "outputs": [],
   "source": [
    "#kc_appraisal.columns = pd.MultiIndex.from_product([kc_appraisal.columns, ['APP']])\n",
    "\n",
    "kc_parcels = kc_parcels[['id', 'SqFtLot', 'InadequateParking']].copy()\n",
    "\n",
    "kc_resident = kc_resident[['BldgNbr', 'NbrLivingUnits', 'Address',\n",
    "       'BuildingNumber', 'Fraction', 'StreetName', 'StreetType', 'Stories',\n",
    "       'BldgGrade', 'SqFt1stFloor', 'SqFtHalfFloor',\n",
    "       'SqFt2ndFloor', 'SqFtUpperFloor', 'SqFtUnfinFull', 'SqFtUnfinHalf',\n",
    "       'SqFtTotLiving', 'SqFtTotBasement', 'SqFtFinBasement',\n",
    "       'FinBasementGrade', 'SqFtGarageBasement', 'SqFtGarageAttached',\n",
    "       'DaylightBasement', 'SqFtOpenPorch', 'SqFtEnclosedPorch', 'SqFtDeck',\n",
    "       'HeatSystem', 'HeatSource', 'BrickStone', 'ViewUtilization', 'Bedrooms',\n",
    "       'BathHalfCount', 'Bath3qtrCount', 'BathFullCount', 'FpSingleStory',\n",
    "       'FpMultiStory', 'FpFreestanding', 'FpAdditional', 'YrBuilt',\n",
    "       'YrRenovated', 'PcntComplete', 'Obsolescence', 'PcntNetCondition',\n",
    "       'Condition', 'AddnlCost', 'id']].copy()\n",
    "\n",
    "\n",
    "kc_appraisal = kc_appraisal[['id', 'RollYr', 'LandVal', 'ImpsVal',\n",
    "       'NewDollars']].copy()\n",
    "\n",
    "#kc_breakdown = kc_breakdown[[ 'SqFt', 'NbrBedrooms', 'NbrBaths', 'id']].copy()\n"
   ]
  },
  {
   "cell_type": "code",
   "execution_count": 19,
   "metadata": {},
   "outputs": [
    {
     "name": "stdout",
     "output_type": "stream",
     "text": [
      "Index(['id', 'SqFtLot', 'InadequateParking'], dtype='object')\n"
     ]
    }
   ],
   "source": [
    "print(kc_parcels.columns)"
   ]
  },
  {
   "cell_type": "code",
   "execution_count": 20,
   "metadata": {},
   "outputs": [],
   "source": [
    "kc_appraisal = kc_appraisal.loc[kc_appraisal['RollYr'] == 2021].copy()\n",
    "kc_appraisal = kc_appraisal.drop('RollYr', axis =1)"
   ]
  },
  {
   "cell_type": "code",
   "execution_count": 21,
   "metadata": {},
   "outputs": [],
   "source": [
    "kc_data = kc_appraisal.merge(kc_parcels, how='outer', on='id')\n",
    "kc_data = kc_data.merge(kc_resident, how='outer', on='id')\n",
    "kc_data = kc_data.replace({'?': 0, '': 0, ' ': 0, 'N': 0, 'Y': 1})"
   ]
  },
  {
   "cell_type": "code",
   "execution_count": 22,
   "metadata": {},
   "outputs": [],
   "source": [
    "kc_data['AppraisedVal'] =  kc_data['LandVal'] + kc_data['ImpsVal'] + kc_data['NewDollars']"
   ]
  },
  {
   "cell_type": "code",
   "execution_count": 23,
   "metadata": {},
   "outputs": [
    {
     "data": {
      "text/plain": [
       "Index(['id', 'LandVal', 'ImpsVal', 'NewDollars', 'SqFtLot',\n",
       "       'InadequateParking', 'BldgNbr', 'NbrLivingUnits', 'Address',\n",
       "       'BuildingNumber', 'Fraction', 'StreetName', 'StreetType', 'Stories',\n",
       "       'BldgGrade', 'SqFt1stFloor', 'SqFtHalfFloor', 'SqFt2ndFloor',\n",
       "       'SqFtUpperFloor', 'SqFtUnfinFull', 'SqFtUnfinHalf', 'SqFtTotLiving',\n",
       "       'SqFtTotBasement', 'SqFtFinBasement', 'FinBasementGrade',\n",
       "       'SqFtGarageBasement', 'SqFtGarageAttached', 'DaylightBasement',\n",
       "       'SqFtOpenPorch', 'SqFtEnclosedPorch', 'SqFtDeck', 'HeatSystem',\n",
       "       'HeatSource', 'BrickStone', 'ViewUtilization', 'Bedrooms',\n",
       "       'BathHalfCount', 'Bath3qtrCount', 'BathFullCount', 'FpSingleStory',\n",
       "       'FpMultiStory', 'FpFreestanding', 'FpAdditional', 'YrBuilt',\n",
       "       'YrRenovated', 'PcntComplete', 'Obsolescence', 'PcntNetCondition',\n",
       "       'Condition', 'AddnlCost', 'AppraisedVal'],\n",
       "      dtype='object')"
      ]
     },
     "execution_count": 23,
     "metadata": {},
     "output_type": "execute_result"
    }
   ],
   "source": [
    "kc_data.columns"
   ]
  },
  {
   "cell_type": "code",
   "execution_count": 24,
   "metadata": {},
   "outputs": [],
   "source": [
    "# Define the problem\n",
    "outcome = 'AppraisedVal'\n",
    "x_cols = ['LandVal', 'ImpsVal', 'NewDollars', 'SqFtLot', 'InadequateParking',\n",
    "       'BldgNbr', 'NbrLivingUnits', 'Address',\n",
    "       'BuildingNumber', 'Fraction', 'StreetName', 'StreetType', 'Stories',\n",
    "       'BldgGrade', 'SqFt1stFloor', 'SqFtHalfFloor',\n",
    "       'SqFt2ndFloor', 'SqFtUpperFloor', 'SqFtUnfinFull', 'SqFtUnfinHalf',\n",
    "       'SqFtTotLiving', 'SqFtTotBasement', 'SqFtFinBasement',\n",
    "       'FinBasementGrade', 'SqFtGarageBasement', 'SqFtGarageAttached',\n",
    "       'DaylightBasement', 'SqFtOpenPorch', 'SqFtEnclosedPorch', 'SqFtDeck',\n",
    "       'HeatSystem', 'HeatSource', 'BrickStone', 'ViewUtilization', 'Bedrooms',\n",
    "       'BathHalfCount', 'Bath3qtrCount', 'BathFullCount', 'FpSingleStory',\n",
    "       'FpMultiStory', 'FpFreestanding', 'FpAdditional', 'YrBuilt',\n",
    "       'YrRenovated', 'PcntComplete', 'Obsolescence', 'PcntNetCondition',\n",
    "       'Condition', 'AddnlCost']"
   ]
  },
  {
   "cell_type": "code",
   "execution_count": 26,
   "metadata": {},
   "outputs": [],
   "source": [
    "kc_columns = ['LandVal', 'ImpsVal', 'NewDollars', 'SqFtLot', 'InadequateParking',\n",
    "       'BldgNbr', 'NbrLivingUnits', 'Address',\n",
    "       'BuildingNumber', 'Fraction', 'StreetName', 'StreetType', 'Stories',\n",
    "       'BldgGrade', 'SqFt1stFloor', 'SqFtHalfFloor',\n",
    "       'SqFt2ndFloor', 'SqFtUpperFloor', 'SqFtUnfinFull', 'SqFtUnfinHalf',\n",
    "       'SqFtTotLiving', 'SqFtTotBasement', 'SqFtFinBasement',\n",
    "       'FinBasementGrade', 'SqFtGarageBasement', 'SqFtGarageAttached',\n",
    "       'DaylightBasement', 'SqFtOpenPorch', 'SqFtEnclosedPorch', 'SqFtDeck',\n",
    "       'HeatSystem', 'HeatSource', 'BrickStone', 'ViewUtilization', 'Bedrooms',\n",
    "       'BathHalfCount', 'Bath3qtrCount', 'BathFullCount', 'FpSingleStory',\n",
    "       'FpMultiStory', 'FpFreestanding', 'FpAdditional', 'YrBuilt',\n",
    "       'YrRenovated', 'PcntComplete', 'Obsolescence', 'PcntNetCondition',\n",
    "       'Condition', 'AddnlCost']"
   ]
  },
  {
   "cell_type": "code",
   "execution_count": 27,
   "metadata": {},
   "outputs": [],
   "source": [
    "zcolumns = []\n",
    "\n",
    "   \n",
    "for column in kc_data:\n",
    "    if kc_data[column].dtypes == int: \n",
    "        if kc_data[column].sum() == 0:\n",
    "            kc_data = kc_data.drop(column, axis=1)\n",
    "    elif  kc_data[column].dtypes == float: \n",
    "        if kc_data[column].sum() == 0.0:\n",
    "            kc_data = kc_data.drop(column, axis=1)"
   ]
  },
  {
   "cell_type": "code",
   "execution_count": 28,
   "metadata": {},
   "outputs": [],
   "source": [
    "#kc_data['View'] = kc_data['MtRainier'] + kc_data['Olympics'] + "
   ]
  },
  {
   "cell_type": "code",
   "execution_count": 33,
   "metadata": {},
   "outputs": [
    {
     "ename": "AttributeError",
     "evalue": "'Index' object has no attribute 'dtypes'",
     "output_type": "error",
     "traceback": [
      "\u001b[1;31m---------------------------------------------------------------------------\u001b[0m",
      "\u001b[1;31mAttributeError\u001b[0m                            Traceback (most recent call last)",
      "\u001b[1;32m<ipython-input-33-7146c02a1dc9>\u001b[0m in \u001b[0;36m<module>\u001b[1;34m\u001b[0m\n\u001b[0;32m      1\u001b[0m \u001b[0mkc_data\u001b[0m \u001b[1;33m=\u001b[0m \u001b[0mkc_data\u001b[0m\u001b[1;33m.\u001b[0m\u001b[0mdropna\u001b[0m\u001b[1;33m(\u001b[0m\u001b[0maxis\u001b[0m\u001b[1;33m=\u001b[0m\u001b[1;36m0\u001b[0m\u001b[1;33m)\u001b[0m\u001b[1;33m\u001b[0m\u001b[1;33m\u001b[0m\u001b[0m\n\u001b[1;32m----> 2\u001b[1;33m \u001b[0mkc_data\u001b[0m\u001b[1;33m.\u001b[0m\u001b[0mcolumns\u001b[0m\u001b[1;33m.\u001b[0m\u001b[0mdtypes\u001b[0m\u001b[1;33m\u001b[0m\u001b[1;33m\u001b[0m\u001b[0m\n\u001b[0m",
      "\u001b[1;31mAttributeError\u001b[0m: 'Index' object has no attribute 'dtypes'"
     ]
    }
   ],
   "source": [
    "kc_data = kc_data.dropna(axis=0)\n",
    "kc_data.columns.dtypes"
   ]
  },
  {
   "cell_type": "code",
   "execution_count": 30,
   "metadata": {},
   "outputs": [
    {
     "ename": "TypeError",
     "evalue": "can only concatenate str (not \"int\") to str",
     "output_type": "error",
     "traceback": [
      "\u001b[1;31m---------------------------------------------------------------------------\u001b[0m",
      "\u001b[1;31mTypeError\u001b[0m                                 Traceback (most recent call last)",
      "\u001b[1;32m<ipython-input-30-38f4371b9fb6>\u001b[0m in \u001b[0;36m<module>\u001b[1;34m\u001b[0m\n\u001b[0;32m      1\u001b[0m \u001b[1;32mfor\u001b[0m \u001b[0mcol\u001b[0m \u001b[1;32min\u001b[0m \u001b[0mkc_columns\u001b[0m\u001b[1;33m:\u001b[0m\u001b[1;33m\u001b[0m\u001b[1;33m\u001b[0m\u001b[0m\n\u001b[0;32m      2\u001b[0m     \u001b[0mcol_zscore\u001b[0m \u001b[1;33m=\u001b[0m \u001b[0mstr\u001b[0m\u001b[1;33m(\u001b[0m\u001b[0mcol\u001b[0m \u001b[1;33m+\u001b[0m \u001b[1;34m'_zscore'\u001b[0m\u001b[1;33m)\u001b[0m\u001b[1;33m\u001b[0m\u001b[1;33m\u001b[0m\u001b[0m\n\u001b[1;32m----> 3\u001b[1;33m     \u001b[0mkc_data\u001b[0m\u001b[1;33m[\u001b[0m\u001b[0mcol_zscore\u001b[0m\u001b[1;33m]\u001b[0m \u001b[1;33m=\u001b[0m \u001b[1;33m(\u001b[0m\u001b[0mkc_data\u001b[0m\u001b[1;33m[\u001b[0m\u001b[0mcol\u001b[0m\u001b[1;33m]\u001b[0m \u001b[1;33m-\u001b[0m \u001b[0mkc_data\u001b[0m\u001b[1;33m[\u001b[0m\u001b[0mcol\u001b[0m\u001b[1;33m]\u001b[0m\u001b[1;33m.\u001b[0m\u001b[0mmean\u001b[0m\u001b[1;33m(\u001b[0m\u001b[1;33m)\u001b[0m\u001b[1;33m)\u001b[0m\u001b[1;33m/\u001b[0m\u001b[0mkc_data\u001b[0m\u001b[1;33m[\u001b[0m\u001b[0mcol\u001b[0m\u001b[1;33m]\u001b[0m\u001b[1;33m.\u001b[0m\u001b[0mstd\u001b[0m\u001b[1;33m(\u001b[0m\u001b[1;33m)\u001b[0m\u001b[1;33m\u001b[0m\u001b[1;33m\u001b[0m\u001b[0m\n\u001b[0m\u001b[0;32m      4\u001b[0m     \u001b[0mkc_data\u001b[0m \u001b[1;33m=\u001b[0m \u001b[0mkc_data\u001b[0m\u001b[1;33m.\u001b[0m\u001b[0mloc\u001b[0m\u001b[1;33m[\u001b[0m\u001b[0mkc_data\u001b[0m\u001b[1;33m[\u001b[0m\u001b[0mcol_zscore\u001b[0m\u001b[1;33m]\u001b[0m \u001b[1;33m<\u001b[0m \u001b[1;36m2\u001b[0m\u001b[1;33m]\u001b[0m\u001b[1;33m\u001b[0m\u001b[1;33m\u001b[0m\u001b[0m\n\u001b[0;32m      5\u001b[0m     \u001b[0mkc_data\u001b[0m \u001b[1;33m=\u001b[0m \u001b[0mkc_data\u001b[0m\u001b[1;33m.\u001b[0m\u001b[0mloc\u001b[0m\u001b[1;33m[\u001b[0m\u001b[0mkc_data\u001b[0m\u001b[1;33m[\u001b[0m\u001b[0mcol_zscore\u001b[0m\u001b[1;33m]\u001b[0m \u001b[1;33m>\u001b[0m \u001b[1;33m(\u001b[0m\u001b[1;33m-\u001b[0m\u001b[1;36m2\u001b[0m\u001b[1;33m)\u001b[0m\u001b[1;33m]\u001b[0m\u001b[1;33m\u001b[0m\u001b[1;33m\u001b[0m\u001b[0m\n",
      "\u001b[1;32m~\\anaconda3\\lib\\site-packages\\pandas\\core\\generic.py\u001b[0m in \u001b[0;36mstat_func\u001b[1;34m(self, axis, skipna, level, numeric_only, **kwargs)\u001b[0m\n\u001b[0;32m  11466\u001b[0m         \u001b[1;32mif\u001b[0m \u001b[0mlevel\u001b[0m \u001b[1;32mis\u001b[0m \u001b[1;32mnot\u001b[0m \u001b[1;32mNone\u001b[0m\u001b[1;33m:\u001b[0m\u001b[1;33m\u001b[0m\u001b[1;33m\u001b[0m\u001b[0m\n\u001b[0;32m  11467\u001b[0m             \u001b[1;32mreturn\u001b[0m \u001b[0mself\u001b[0m\u001b[1;33m.\u001b[0m\u001b[0m_agg_by_level\u001b[0m\u001b[1;33m(\u001b[0m\u001b[0mname\u001b[0m\u001b[1;33m,\u001b[0m \u001b[0maxis\u001b[0m\u001b[1;33m=\u001b[0m\u001b[0maxis\u001b[0m\u001b[1;33m,\u001b[0m \u001b[0mlevel\u001b[0m\u001b[1;33m=\u001b[0m\u001b[0mlevel\u001b[0m\u001b[1;33m,\u001b[0m \u001b[0mskipna\u001b[0m\u001b[1;33m=\u001b[0m\u001b[0mskipna\u001b[0m\u001b[1;33m)\u001b[0m\u001b[1;33m\u001b[0m\u001b[1;33m\u001b[0m\u001b[0m\n\u001b[1;32m> 11468\u001b[1;33m         return self._reduce(\n\u001b[0m\u001b[0;32m  11469\u001b[0m             \u001b[0mfunc\u001b[0m\u001b[1;33m,\u001b[0m \u001b[0mname\u001b[0m\u001b[1;33m=\u001b[0m\u001b[0mname\u001b[0m\u001b[1;33m,\u001b[0m \u001b[0maxis\u001b[0m\u001b[1;33m=\u001b[0m\u001b[0maxis\u001b[0m\u001b[1;33m,\u001b[0m \u001b[0mskipna\u001b[0m\u001b[1;33m=\u001b[0m\u001b[0mskipna\u001b[0m\u001b[1;33m,\u001b[0m \u001b[0mnumeric_only\u001b[0m\u001b[1;33m=\u001b[0m\u001b[0mnumeric_only\u001b[0m\u001b[1;33m\u001b[0m\u001b[1;33m\u001b[0m\u001b[0m\n\u001b[0;32m  11470\u001b[0m         )\n",
      "\u001b[1;32m~\\anaconda3\\lib\\site-packages\\pandas\\core\\series.py\u001b[0m in \u001b[0;36m_reduce\u001b[1;34m(self, op, name, axis, skipna, numeric_only, filter_type, **kwds)\u001b[0m\n\u001b[0;32m   4234\u001b[0m                 )\n\u001b[0;32m   4235\u001b[0m             \u001b[1;32mwith\u001b[0m \u001b[0mnp\u001b[0m\u001b[1;33m.\u001b[0m\u001b[0merrstate\u001b[0m\u001b[1;33m(\u001b[0m\u001b[0mall\u001b[0m\u001b[1;33m=\u001b[0m\u001b[1;34m\"ignore\"\u001b[0m\u001b[1;33m)\u001b[0m\u001b[1;33m:\u001b[0m\u001b[1;33m\u001b[0m\u001b[1;33m\u001b[0m\u001b[0m\n\u001b[1;32m-> 4236\u001b[1;33m                 \u001b[1;32mreturn\u001b[0m \u001b[0mop\u001b[0m\u001b[1;33m(\u001b[0m\u001b[0mdelegate\u001b[0m\u001b[1;33m,\u001b[0m \u001b[0mskipna\u001b[0m\u001b[1;33m=\u001b[0m\u001b[0mskipna\u001b[0m\u001b[1;33m,\u001b[0m \u001b[1;33m**\u001b[0m\u001b[0mkwds\u001b[0m\u001b[1;33m)\u001b[0m\u001b[1;33m\u001b[0m\u001b[1;33m\u001b[0m\u001b[0m\n\u001b[0m\u001b[0;32m   4237\u001b[0m \u001b[1;33m\u001b[0m\u001b[0m\n\u001b[0;32m   4238\u001b[0m     \u001b[1;32mdef\u001b[0m \u001b[0m_reindex_indexer\u001b[0m\u001b[1;33m(\u001b[0m\u001b[0mself\u001b[0m\u001b[1;33m,\u001b[0m \u001b[0mnew_index\u001b[0m\u001b[1;33m,\u001b[0m \u001b[0mindexer\u001b[0m\u001b[1;33m,\u001b[0m \u001b[0mcopy\u001b[0m\u001b[1;33m)\u001b[0m\u001b[1;33m:\u001b[0m\u001b[1;33m\u001b[0m\u001b[1;33m\u001b[0m\u001b[0m\n",
      "\u001b[1;32m~\\anaconda3\\lib\\site-packages\\pandas\\core\\nanops.py\u001b[0m in \u001b[0;36m_f\u001b[1;34m(*args, **kwargs)\u001b[0m\n\u001b[0;32m     69\u001b[0m             \u001b[1;32mtry\u001b[0m\u001b[1;33m:\u001b[0m\u001b[1;33m\u001b[0m\u001b[1;33m\u001b[0m\u001b[0m\n\u001b[0;32m     70\u001b[0m                 \u001b[1;32mwith\u001b[0m \u001b[0mnp\u001b[0m\u001b[1;33m.\u001b[0m\u001b[0merrstate\u001b[0m\u001b[1;33m(\u001b[0m\u001b[0minvalid\u001b[0m\u001b[1;33m=\u001b[0m\u001b[1;34m\"ignore\"\u001b[0m\u001b[1;33m)\u001b[0m\u001b[1;33m:\u001b[0m\u001b[1;33m\u001b[0m\u001b[1;33m\u001b[0m\u001b[0m\n\u001b[1;32m---> 71\u001b[1;33m                     \u001b[1;32mreturn\u001b[0m \u001b[0mf\u001b[0m\u001b[1;33m(\u001b[0m\u001b[1;33m*\u001b[0m\u001b[0margs\u001b[0m\u001b[1;33m,\u001b[0m \u001b[1;33m**\u001b[0m\u001b[0mkwargs\u001b[0m\u001b[1;33m)\u001b[0m\u001b[1;33m\u001b[0m\u001b[1;33m\u001b[0m\u001b[0m\n\u001b[0m\u001b[0;32m     72\u001b[0m             \u001b[1;32mexcept\u001b[0m \u001b[0mValueError\u001b[0m \u001b[1;32mas\u001b[0m \u001b[0me\u001b[0m\u001b[1;33m:\u001b[0m\u001b[1;33m\u001b[0m\u001b[1;33m\u001b[0m\u001b[0m\n\u001b[0;32m     73\u001b[0m                 \u001b[1;31m# we want to transform an object array\u001b[0m\u001b[1;33m\u001b[0m\u001b[1;33m\u001b[0m\u001b[1;33m\u001b[0m\u001b[0m\n",
      "\u001b[1;32m~\\anaconda3\\lib\\site-packages\\pandas\\core\\nanops.py\u001b[0m in \u001b[0;36mf\u001b[1;34m(values, axis, skipna, **kwds)\u001b[0m\n\u001b[0;32m    127\u001b[0m                     \u001b[0mresult\u001b[0m \u001b[1;33m=\u001b[0m \u001b[0malt\u001b[0m\u001b[1;33m(\u001b[0m\u001b[0mvalues\u001b[0m\u001b[1;33m,\u001b[0m \u001b[0maxis\u001b[0m\u001b[1;33m=\u001b[0m\u001b[0maxis\u001b[0m\u001b[1;33m,\u001b[0m \u001b[0mskipna\u001b[0m\u001b[1;33m=\u001b[0m\u001b[0mskipna\u001b[0m\u001b[1;33m,\u001b[0m \u001b[1;33m**\u001b[0m\u001b[0mkwds\u001b[0m\u001b[1;33m)\u001b[0m\u001b[1;33m\u001b[0m\u001b[1;33m\u001b[0m\u001b[0m\n\u001b[0;32m    128\u001b[0m             \u001b[1;32melse\u001b[0m\u001b[1;33m:\u001b[0m\u001b[1;33m\u001b[0m\u001b[1;33m\u001b[0m\u001b[0m\n\u001b[1;32m--> 129\u001b[1;33m                 \u001b[0mresult\u001b[0m \u001b[1;33m=\u001b[0m \u001b[0malt\u001b[0m\u001b[1;33m(\u001b[0m\u001b[0mvalues\u001b[0m\u001b[1;33m,\u001b[0m \u001b[0maxis\u001b[0m\u001b[1;33m=\u001b[0m\u001b[0maxis\u001b[0m\u001b[1;33m,\u001b[0m \u001b[0mskipna\u001b[0m\u001b[1;33m=\u001b[0m\u001b[0mskipna\u001b[0m\u001b[1;33m,\u001b[0m \u001b[1;33m**\u001b[0m\u001b[0mkwds\u001b[0m\u001b[1;33m)\u001b[0m\u001b[1;33m\u001b[0m\u001b[1;33m\u001b[0m\u001b[0m\n\u001b[0m\u001b[0;32m    130\u001b[0m \u001b[1;33m\u001b[0m\u001b[0m\n\u001b[0;32m    131\u001b[0m             \u001b[1;32mreturn\u001b[0m \u001b[0mresult\u001b[0m\u001b[1;33m\u001b[0m\u001b[1;33m\u001b[0m\u001b[0m\n",
      "\u001b[1;32m~\\anaconda3\\lib\\site-packages\\pandas\\core\\nanops.py\u001b[0m in \u001b[0;36mnanmean\u001b[1;34m(values, axis, skipna, mask)\u001b[0m\n\u001b[0;32m    561\u001b[0m         \u001b[0mdtype_count\u001b[0m \u001b[1;33m=\u001b[0m \u001b[0mdtype\u001b[0m\u001b[1;33m\u001b[0m\u001b[1;33m\u001b[0m\u001b[0m\n\u001b[0;32m    562\u001b[0m     \u001b[0mcount\u001b[0m \u001b[1;33m=\u001b[0m \u001b[0m_get_counts\u001b[0m\u001b[1;33m(\u001b[0m\u001b[0mvalues\u001b[0m\u001b[1;33m.\u001b[0m\u001b[0mshape\u001b[0m\u001b[1;33m,\u001b[0m \u001b[0mmask\u001b[0m\u001b[1;33m,\u001b[0m \u001b[0maxis\u001b[0m\u001b[1;33m,\u001b[0m \u001b[0mdtype\u001b[0m\u001b[1;33m=\u001b[0m\u001b[0mdtype_count\u001b[0m\u001b[1;33m)\u001b[0m\u001b[1;33m\u001b[0m\u001b[1;33m\u001b[0m\u001b[0m\n\u001b[1;32m--> 563\u001b[1;33m     \u001b[0mthe_sum\u001b[0m \u001b[1;33m=\u001b[0m \u001b[0m_ensure_numeric\u001b[0m\u001b[1;33m(\u001b[0m\u001b[0mvalues\u001b[0m\u001b[1;33m.\u001b[0m\u001b[0msum\u001b[0m\u001b[1;33m(\u001b[0m\u001b[0maxis\u001b[0m\u001b[1;33m,\u001b[0m \u001b[0mdtype\u001b[0m\u001b[1;33m=\u001b[0m\u001b[0mdtype_sum\u001b[0m\u001b[1;33m)\u001b[0m\u001b[1;33m)\u001b[0m\u001b[1;33m\u001b[0m\u001b[1;33m\u001b[0m\u001b[0m\n\u001b[0m\u001b[0;32m    564\u001b[0m \u001b[1;33m\u001b[0m\u001b[0m\n\u001b[0;32m    565\u001b[0m     \u001b[1;32mif\u001b[0m \u001b[0maxis\u001b[0m \u001b[1;32mis\u001b[0m \u001b[1;32mnot\u001b[0m \u001b[1;32mNone\u001b[0m \u001b[1;32mand\u001b[0m \u001b[0mgetattr\u001b[0m\u001b[1;33m(\u001b[0m\u001b[0mthe_sum\u001b[0m\u001b[1;33m,\u001b[0m \u001b[1;34m\"ndim\"\u001b[0m\u001b[1;33m,\u001b[0m \u001b[1;32mFalse\u001b[0m\u001b[1;33m)\u001b[0m\u001b[1;33m:\u001b[0m\u001b[1;33m\u001b[0m\u001b[1;33m\u001b[0m\u001b[0m\n",
      "\u001b[1;32m~\\anaconda3\\lib\\site-packages\\numpy\\core\\_methods.py\u001b[0m in \u001b[0;36m_sum\u001b[1;34m(a, axis, dtype, out, keepdims, initial, where)\u001b[0m\n\u001b[0;32m     45\u001b[0m def _sum(a, axis=None, dtype=None, out=None, keepdims=False,\n\u001b[0;32m     46\u001b[0m          initial=_NoValue, where=True):\n\u001b[1;32m---> 47\u001b[1;33m     \u001b[1;32mreturn\u001b[0m \u001b[0mumr_sum\u001b[0m\u001b[1;33m(\u001b[0m\u001b[0ma\u001b[0m\u001b[1;33m,\u001b[0m \u001b[0maxis\u001b[0m\u001b[1;33m,\u001b[0m \u001b[0mdtype\u001b[0m\u001b[1;33m,\u001b[0m \u001b[0mout\u001b[0m\u001b[1;33m,\u001b[0m \u001b[0mkeepdims\u001b[0m\u001b[1;33m,\u001b[0m \u001b[0minitial\u001b[0m\u001b[1;33m,\u001b[0m \u001b[0mwhere\u001b[0m\u001b[1;33m)\u001b[0m\u001b[1;33m\u001b[0m\u001b[1;33m\u001b[0m\u001b[0m\n\u001b[0m\u001b[0;32m     48\u001b[0m \u001b[1;33m\u001b[0m\u001b[0m\n\u001b[0;32m     49\u001b[0m def _prod(a, axis=None, dtype=None, out=None, keepdims=False,\n",
      "\u001b[1;31mTypeError\u001b[0m: can only concatenate str (not \"int\") to str"
     ]
    }
   ],
   "source": [
    "for col in kc_columns:\n",
    "    col_zscore = str(col + '_zscore')\n",
    "    kc_data[col_zscore] = (kc_data[col] - kc_data[col].mean())/kc_data[col].std()\n",
    "    kc_data = kc_data.loc[kc_data[col_zscore] < 2]\n",
    "    kc_data = kc_data.loc[kc_data[col_zscore] > (-2)]\n",
    "    kc_data = kc_data.drop(col_zscore, axis = 1)\n",
    "    zcolumns.append(col_zscore)"
   ]
  },
  {
   "cell_type": "code",
   "execution_count": null,
   "metadata": {},
   "outputs": [],
   "source": [
    "zcolumns"
   ]
  },
  {
   "cell_type": "code",
   "execution_count": null,
   "metadata": {},
   "outputs": [],
   "source": [
    "# Fitting the actual model\n",
    "predictors = '+'.join(x_cols)\n",
    "formula = outcome + '~' + predictors\n",
    "model = ols(formula=formula, data=kc_data).fit()\n",
    "model.summary()"
   ]
  },
  {
   "cell_type": "code",
   "execution_count": null,
   "metadata": {},
   "outputs": [],
   "source": [
    "#kc_data = pd.concat(objs=[kc_appraisal, kc_parcels], join='outer', axis=1, keys='id')\n",
    "#kc_data.columns = kc_data.columns.droplevel(0)\n",
    "#kc_data = pd.concat(objs=[kc_resident, kc_data], join='outer', axis=1, keys='id')\n",
    "#kc_data.columns = kc_data.columns.droplevel(0)\n",
    "#kc_data = pd.concat(objs=[flatiron_data, kc_data], join='outer', axis=1, keys='id')\n",
    "#kc_data.columns = kc_data.columns.droplevel(0)\n",
    "#kc_data = pd.concat(objs=[kc_breakdown, kc_data], join='outer', axis=1, keys='id')\n",
    "#kc_data.columns = kc_data.columns.droplevel(0)\n",
    "#kc_data = kc_data.replace({'?': 0, '': 0, ' ': 0, 'N': 0, 'Y': 1})"
   ]
  },
  {
   "cell_type": "code",
   "execution_count": null,
   "metadata": {},
   "outputs": [],
   "source": [
    "fig_dims = (24, 16)\n",
    "fig, ax = plt.subplots(figsize = fig_dims)\n",
    "sns.heatmap(kc_data.corr(), ax=ax)\n",
    "plt.show()"
   ]
  },
  {
   "cell_type": "code",
   "execution_count": null,
   "metadata": {},
   "outputs": [],
   "source": []
  }
 ],
 "metadata": {
  "kernelspec": {
   "display_name": "Python 3",
   "language": "python",
   "name": "python3"
  },
  "language_info": {
   "codemirror_mode": {
    "name": "ipython",
    "version": 3
   },
   "file_extension": ".py",
   "mimetype": "text/x-python",
   "name": "python",
   "nbconvert_exporter": "python",
   "pygments_lexer": "ipython3",
   "version": "3.8.5"
  }
 },
 "nbformat": 4,
 "nbformat_minor": 4
}
