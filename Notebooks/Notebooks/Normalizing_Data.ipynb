{
 "cells": [
  {
   "cell_type": "code",
   "execution_count": 1,
   "metadata": {},
   "outputs": [],
   "source": [
    "import pandas as pd\n",
    "import scipy\n",
    "from scipy import stats\n",
    "import numpy as np\n",
    "import datetime\n",
    "import matplotlib as plt\n",
    "from sklearn import linear_model\n",
    "from sklearn.linear_model import LinearRegression\n",
    "from sklearn.model_selection import train_test_split\n",
    "from sklearn.metrics import mean_squared_error, r2_score\n",
    "from statsmodels.stats.outliers_influence import variance_inflation_factor\n",
    "from sklearn.model_selection import cross_val_predict, KFold\n",
    "from sklearn.neighbors import NearestNeighbors, KNeighborsClassifier, KNeighborsRegressor\n",
    "from sklearn.pipeline import make_pipeline\n",
    "from sklearn.preprocessing import StandardScaler\n",
    "from statsmodels.formula.api import ols\n",
    "import sklearn\n",
    "import numpy as np\n",
    "import datetime\n",
    "import seaborn as sns\n",
    "import matplotlib.pyplot as plt\n",
    "import scipy \n",
    "import arcgis"
   ]
  },
  {
   "cell_type": "code",
   "execution_count": 2,
   "metadata": {},
   "outputs": [],
   "source": [
    "\n",
    "\n",
    "# read data\n",
    "kc_columns = ['price', 'bedrooms', 'bathrooms', 'sqft_living', 'sqft_lot', 'floors', 'condition', 'grade', 'sqft_above',\n",
    "              'sqft_basement', 'yr_built']\n",
    "\n",
    "kc_dtypes = {'id': int, 'date' : str,  'price': float, 'bedrooms' : int, 'bathrooms' : float, 'sqft_living': int, 'sqft_lot': int,\n",
    "             'floors': float, 'waterfront': float, 'view' : float, 'condition': float, 'grade': int, 'sqft_above': int,\n",
    "             'yr_built': int, 'yr_renovated': float, 'zipcode': float, 'lat': float, 'long': float}\n",
    "\n",
    "kc_data = pd.read_csv('data/kc_house_data.csv', dtype = kc_dtypes, parse_dates = ['date'])\n",
    "\n",
    "kc_data['sqft_basement'] = kc_data['sqft_basement'].replace({'?': 0})\n",
    "kc_data['sqft_basement'] = kc_data['sqft_basement'].astype(dtype=float, errors='ignore')"
   ]
  },
  {
   "cell_type": "code",
   "execution_count": 3,
   "metadata": {},
   "outputs": [],
   "source": [
    "#drop unnessecary columns and fix data\n",
    "kc_data = kc_data.drop('sqft_living15', 1).drop('sqft_lot15', 1)\n",
    "\n",
    "#look for outliers, in bedrooms, we can clearly see a single outlier, for other columns, filtering by z score will be easiest\n",
    "kc_data[kc_data['bedrooms'] == 33]\n",
    "# wouldn't be realistic for a house with 33 bedrooms to only have a sqft_living of 1620 and only 1 3/4 bathrooms so it looks like a typo\n",
    "# will adjust to 3\n",
    "kc_data[kc_data['bedrooms'] == 33] = kc_data[kc_data['bedrooms'] == 33].replace(33,3)"
   ]
  },
  {
   "cell_type": "code",
   "execution_count": 4,
   "metadata": {},
   "outputs": [],
   "source": [
    "#setting waterfront NaN values equal to the ratio of waterfront/non-waterfront properties, will want to try and narrow by zipcode\n",
    "#filling NaN with easily seperatable/changable values helpful\n",
    "kc_data['waterfront'] = kc_data['waterfront'].fillna(146/19221)\n",
    "kc_data['view'] = kc_data['view'].fillna((957 + (508*2) + (330*3) + (317*4))/21534)\n",
    "kc_data['yr_renovated'] = kc_data['waterfront'].fillna(0)"
   ]
  },
  {
   "cell_type": "code",
   "execution_count": 5,
   "metadata": {},
   "outputs": [],
   "source": [
    "#Convert to integer for whole number year\n",
    "kc_data['yr_renovated'] = kc_data['yr_renovated'].astype('int')"
   ]
  },
  {
   "cell_type": "code",
   "execution_count": 6,
   "metadata": {},
   "outputs": [],
   "source": [
    "def norm_feat(column):\n",
    "    \"\"\"Give column from data frame, returns column z scores\"\"\"\n",
    "    return (column - column.mean())/column.std()\n",
    "for column in kc_columns:\n",
    "    kc_data[column] = norm_feat(kc_data[column])"
   ]
  },
  {
   "cell_type": "code",
   "execution_count": 7,
   "metadata": {},
   "outputs": [],
   "source": [
    "for column in kc_columns:\n",
    "    kc_data[column] = kc_data.loc[kc_data[column] < 3]"
   ]
  },
  {
   "cell_type": "code",
   "execution_count": 8,
   "metadata": {},
   "outputs": [],
   "source": [
    "for col in kc_columns:\n",
    "    col_zscore = col + '_zscore'\n",
    "    kc_data[col_zscore] = (kc_data[col] - kc_data[col].mean())/kc_data[col].std(ddof=0)"
   ]
  },
  {
   "cell_type": "code",
   "execution_count": 9,
   "metadata": {},
   "outputs": [],
   "source": [
    "for col in kc_columns:\n",
    "    kc_data.drop(col, 1, inplace=True)"
   ]
  },
  {
   "cell_type": "code",
   "execution_count": 10,
   "metadata": {},
   "outputs": [
    {
     "data": {
      "text/plain": [
       "0        -1.21876\n",
       "1         1.78023\n",
       "2         1.12459\n",
       "3        -1.50958\n",
       "4         1.64222\n",
       "           ...   \n",
       "21592     0.22523\n",
       "21593    -1.66214\n",
       "21594     1.28106\n",
       "21595    0.248947\n",
       "21596     1.28106\n",
       "Name: price_zscore, Length: 21597, dtype: object"
      ]
     },
     "execution_count": 10,
     "metadata": {},
     "output_type": "execute_result"
    }
   ],
   "source": [
    "kc_data.price_zscore"
   ]
  },
  {
   "cell_type": "code",
   "execution_count": 12,
   "metadata": {},
   "outputs": [
    {
     "name": "stdout",
     "output_type": "stream",
     "text": [
      "<class 'pandas.core.frame.DataFrame'>\n",
      "RangeIndex: 21597 entries, 0 to 21596\n",
      "Data columns (total 19 columns):\n",
      " #   Column                Non-Null Count  Dtype         \n",
      "---  ------                --------------  -----         \n",
      " 0   id                    21597 non-null  int32         \n",
      " 1   date                  21597 non-null  datetime64[ns]\n",
      " 2   waterfront            21597 non-null  float64       \n",
      " 3   view                  21597 non-null  float64       \n",
      " 4   yr_renovated          21597 non-null  int32         \n",
      " 5   zipcode               21597 non-null  float64       \n",
      " 6   lat                   21597 non-null  float64       \n",
      " 7   long                  21597 non-null  float64       \n",
      " 8   price_zscore          21191 non-null  object        \n",
      " 9   bedrooms_zscore       21536 non-null  object        \n",
      " 10  bathrooms_zscore      21410 non-null  object        \n",
      " 11  sqft_living_zscore    21349 non-null  object        \n",
      " 12  sqft_lot_zscore       21251 non-null  object        \n",
      " 13  floors_zscore         21590 non-null  object        \n",
      " 14  condition_zscore      21597 non-null  object        \n",
      " 15  grade_zscore          21495 non-null  object        \n",
      " 16  sqft_above_zscore     21344 non-null  object        \n",
      " 17  sqft_basement_zscore  21351 non-null  object        \n",
      " 18  yr_built_zscore       21597 non-null  object        \n",
      "dtypes: datetime64[ns](1), float64(5), int32(2), object(11)\n",
      "memory usage: 3.0+ MB\n"
     ]
    }
   ],
   "source": [
    "kc_data.info()"
   ]
  },
  {
   "cell_type": "code",
   "execution_count": 11,
   "metadata": {},
   "outputs": [],
   "source": [
    "kc_data.to_csv('data/Normalized_Dataset.csv', index=False)"
   ]
  }
 ],
 "metadata": {
  "kernelspec": {
   "display_name": "Python 3",
   "language": "python",
   "name": "python3"
  },
  "language_info": {
   "codemirror_mode": {
    "name": "ipython",
    "version": 3
   },
   "file_extension": ".py",
   "mimetype": "text/x-python",
   "name": "python",
   "nbconvert_exporter": "python",
   "pygments_lexer": "ipython3",
   "version": "3.7.6"
  }
 },
 "nbformat": 4,
 "nbformat_minor": 4
}
