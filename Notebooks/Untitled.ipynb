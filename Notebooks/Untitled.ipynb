{
 "cells": [
  {
   "cell_type": "code",
   "execution_count": 1,
   "metadata": {},
   "outputs": [],
   "source": [
    "import requests #imported to use webscrape\n",
    "from requests import get #pulled get to use for scraping\n",
    "from random import randint #pulled randint to use as a buffer for time\n",
    "from time import sleep #pulled sleep to slow the crawl rate of the scraper\n",
    "from bs4 import BeautifulSoup #pulled to webscrape\n"
   ]
  },
  {
   "cell_type": "code",
   "execution_count": 216,
   "metadata": {
    "scrolled": false
   },
   "outputs": [],
   "source": [
    "headers = []\n",
    "categories = []\n",
    "\n",
    "#     pages = len(df)\n",
    "#     for page in pages:\n",
    "page = requests.get('https://blue.kingcounty.com/Assessor/eRealProperty/Detail.aspx?ParcelNbr=9324800737')\n",
    "        \n",
    "soup = BeautifulSoup(page.text, 'html.parser')\n",
    "        \n",
    "# \"\"\"pulling from lister-item mode-advanced pulls all the information for each of the movies on the page to easily pull \n",
    "# the Html tags as attributes of an item\"\"\"\n",
    "container = soup.findAll(id = 'TABLE1') \n",
    "#         \"\"\" for loop looking for each of the catagories in each of the containers\"\"\"\n",
    "for tables in container:\n",
    "#             \"\"\"nv is so we can seperate the gross income and seperate it from the votes set into their own \"\"\"\n",
    "    header = getattr(tables.find('tr'),'text',None)\n",
    "    if header is None:\n",
    "        continue\n",
    "    else:\n",
    "        headers.append(header)\n",
    "#     table = tables.find_all('table', class_ = 'GridViewStyle')\n",
    "#     for tag in table:\n",
    "#         header = getattr(tag.find('td'), 'text',None)\n",
    "#         if header is None:\n",
    "#             continue \n",
    "#         else:\n",
    "#             headers.append(header.strip('\\n'))\n",
    "#         headers.append(header.tr.text)\n",
    "#         categories.append(getattr(tag.find('tr'),'text',None))\n",
    "#         headers.append(header)\n",
    "#         for head in header:\n",
    "#             test = head.find('td')\n",
    "#             categories.append(test)\n",
    "    \n",
    "            "
   ]
  },
  {
   "cell_type": "code",
   "execution_count": 217,
   "metadata": {},
   "outputs": [
    {
     "data": {
      "text/plain": [
       "['\\nPARCEL DATA\\n']"
      ]
     },
     "execution_count": 217,
     "metadata": {},
     "output_type": "execute_result"
    }
   ],
   "source": [
    "headers\n"
   ]
  },
  {
   "cell_type": "code",
   "execution_count": 204,
   "metadata": {},
   "outputs": [
    {
     "data": {
      "text/plain": [
       "[]"
      ]
     },
     "execution_count": 204,
     "metadata": {},
     "output_type": "execute_result"
    }
   ],
   "source": [
    "categories\n"
   ]
  },
  {
   "cell_type": "code",
   "execution_count": null,
   "metadata": {},
   "outputs": [],
   "source": []
  }
 ],
 "metadata": {
  "kernelspec": {
   "display_name": "Python 3",
   "language": "python",
   "name": "python3"
  },
  "language_info": {
   "codemirror_mode": {
    "name": "ipython",
    "version": 3
   },
   "file_extension": ".py",
   "mimetype": "text/x-python",
   "name": "python",
   "nbconvert_exporter": "python",
   "pygments_lexer": "ipython3",
   "version": "3.7.6"
  }
 },
 "nbformat": 4,
 "nbformat_minor": 4
}
