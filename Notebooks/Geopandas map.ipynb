{
 "cells": [
  {
   "cell_type": "code",
   "execution_count": 81,
   "metadata": {},
   "outputs": [],
   "source": [
    "import pandas as pd\n",
    "import arcgis\n",
    "from arcgis import *\n",
    "from arcgis.features import GeoAccessor,GeoSeriesAccessor\n",
    "import numpy as np\n",
    "import matplotlib.pyplot as plt\n",
    "import seaborn as sns\n",
    "import numpy as np\n",
    "from arcgis.mapping import WebMap\n",
    "from IPython.display import display"
   ]
  },
  {
   "cell_type": "code",
   "execution_count": 83,
   "metadata": {},
   "outputs": [],
   "source": [
    "df = pd.read_csv('data/Cleaned_Dataset.csv')\n",
    "\n",
    "\n",
    "\n",
    "gis = GIS(\"http://www.arcgis.com/\", \"shadowsword_0\",\"Acidblade1\")"
   ]
  },
  {
   "cell_type": "code",
   "execution_count": 91,
   "metadata": {},
   "outputs": [],
   "source": [
    "lowtier = df[(df.price >= 210000) & (df.price <= 348000) ].copy()\n",
    "midtier = df[(df.price >= 348000) & (df.price <= 480000) ].copy()\n",
    "uppermidtier = df[(df.price >= 480000) & (df.price <= 640000) ].copy()\n",
    "hightier = df[(df.price >= 640000) & (df.price <= 900000)].copy()"
   ]
  },
  {
   "cell_type": "code",
   "execution_count": 160,
   "metadata": {},
   "outputs": [],
   "source": [
    "def gis_content():\n",
    "    item = gis.content.get('ff9e4774ee8641f48cccac97dca753db#data')\n",
    "    food = item.layers[0]\n",
    "    item = gis.content.get('3f263039314d44cc93384fe1f4229796#data')\n",
    "    flayer = item.layers[0]\n",
    "    public = flayer.query(where = \"ZIPCODE > 0\")\n",
    "    item = gis.content.get('d4a439bcf5d54e5f80cde3285d0cf3cd')\n",
    "    dataset = item.layers[0]\n",
    "    item = gis.content.get('175728366bb24060904323678963c60e')\n",
    "    flayer = item.layers[0]\n",
    "    private = flayer.query()\n",
    "    return (private,public,food) "
   ]
  },
  {
   "cell_type": "code",
   "execution_count": 170,
   "metadata": {},
   "outputs": [],
   "source": [
    "def Cleaning(dataframe):\n",
    "    data = dataframe.drop(['id','date', 'waterfront', 'view','condition', 'grade', 'sqft_above', 'sqft_basement', 'yr_built', 'yr_renovated', 'sqft_living15',\n",
    "              'sqft_lot15'],1)\n",
    "    return data"
   ]
  },
  {
   "cell_type": "code",
   "execution_count": 171,
   "metadata": {},
   "outputs": [],
   "source": [
    "def mapping(budget_df):\n",
    "    \"\"\"Taking in a dataframe to assign the budget through all fields. Takes schools into account as well. If not looking for schools\n",
    "        just enter through\"\"\"\n",
    "    private,public,food = gis_content()\n",
    "\n",
    "    pdx_map = gis.map('Seattle, WA')\n",
    "    pdx_map.basemap = 'streets-night-vector'\n",
    "    schools = input('Are you interested in schools? ')\n",
    "    if (schools == 'Yes') or (schools == 'yes') and (budget_df is not None):\n",
    "        interest = input('Private school or Public school: ')\n",
    "        if (interest =='Private') or (interest =='private'):\n",
    "             pdx_map.add_layer(private)\n",
    "        elif(interest =='Public') or (interest == 'public'):\n",
    "            pdx_map.add_layer(public)       \n",
    "       \n",
    "    data_sdf = pd.DataFrame.spatial.from_xy(budget_df, 'long','lat')\n",
    "    data = Cleaning(data_sdf)\n",
    "       \n",
    "    data.spatial.plot(map_widget=pdx_map, renderer_type = \"c\",marker_size = 5,\n",
    "                    symbol_type = 'simple',symbol_style='d',\n",
    "                    title='Pricing of houses',\n",
    "                    col='price',\n",
    "                    cmap='winter',  # matplotlib color map\n",
    "                    alpha=0.7,\n",
    "                    size = .5,\n",
    "                    outline_color=[0,0,0,0]\n",
    "                     )\n",
    "    pdx_map.add_layer(food)\n",
    "   \n",
    "    display(pdx_map)\n"
   ]
  },
  {
   "cell_type": "code",
   "execution_count": 173,
   "metadata": {
    "scrolled": true
   },
   "outputs": [
    {
     "name": "stdout",
     "output_type": "stream",
     "text": [
      "Are you interested in schools? \n"
     ]
    },
    {
     "data": {
      "application/vnd.jupyter.widget-view+json": {
       "model_id": "c9d8954347a6494ea53b8997048c182c",
       "version_major": 2,
       "version_minor": 0
      },
      "text/plain": [
       "MapView(layout=Layout(height='400px', width='100%'))"
      ]
     },
     "metadata": {},
     "output_type": "display_data"
    },
    {
     "data": {
      "text/html": [
       "<div class=\"map-static-img-preview-18ac8bc5-b89d-429e-887a-bc7ec2ec1b47\"><img src=\"\"></img></div>"
      ],
      "text/plain": [
       "<IPython.core.display.HTML object>"
      ]
     },
     "metadata": {},
     "output_type": "display_data"
    }
   ],
   "source": [
    "mapping(df)"
   ]
  },
  {
   "cell_type": "code",
   "execution_count": 172,
   "metadata": {},
   "outputs": [
    {
     "name": "stdout",
     "output_type": "stream",
     "text": [
      "Are you interested in schools? yes\n",
      "Private school or Public school: private\n"
     ]
    },
    {
     "data": {
      "application/vnd.jupyter.widget-view+json": {
       "model_id": "b0568bdde3ad491c9fa42730d2ad2a5d",
       "version_major": 2,
       "version_minor": 0
      },
      "text/plain": [
       "MapView(layout=Layout(height='400px', width='100%'))"
      ]
     },
     "metadata": {},
     "output_type": "display_data"
    },
    {
     "data": {
      "text/html": [
       "<div class=\"map-static-img-preview-40370ff9-edf9-4bc1-8f8c-1ed7bbcb6675\"><img src=\"\"></img></div>"
      ],
      "text/plain": [
       "<IPython.core.display.HTML object>"
      ]
     },
     "metadata": {},
     "output_type": "display_data"
    }
   ],
   "source": [
    "mapping(lowtier)"
   ]
  },
  {
   "cell_type": "code",
   "execution_count": 150,
   "metadata": {},
   "outputs": [
    {
     "name": "stdout",
     "output_type": "stream",
     "text": [
      "Are you interested in schools? yes\n",
      "Private school or Public school: private\n"
     ]
    },
    {
     "data": {
      "application/vnd.jupyter.widget-view+json": {
       "model_id": "57c4cc11ac42484b86e6cf8aa0281b04",
       "version_major": 2,
       "version_minor": 0
      },
      "text/plain": [
       "MapView(layout=Layout(height='400px', width='100%'))"
      ]
     },
     "metadata": {},
     "output_type": "display_data"
    },
    {
     "data": {
      "text/html": [
       "<div class=\"map-static-img-preview-a8543cde-61f7-464f-9054-0475f4e607b6\"><img src=\"\"></img></div>"
      ],
      "text/plain": [
       "<IPython.core.display.HTML object>"
      ]
     },
     "metadata": {},
     "output_type": "display_data"
    }
   ],
   "source": [
    "mapping(midtier)"
   ]
  },
  {
   "cell_type": "code",
   "execution_count": 153,
   "metadata": {},
   "outputs": [
    {
     "name": "stdout",
     "output_type": "stream",
     "text": [
      "Are you interested in schools? yes\n",
      "Private school or Public school: private\n"
     ]
    },
    {
     "data": {
      "application/vnd.jupyter.widget-view+json": {
       "model_id": "8d37c127a39946129c321f35ca56f88e",
       "version_major": 2,
       "version_minor": 0
      },
      "text/plain": [
       "MapView(layout=Layout(height='400px', width='100%'))"
      ]
     },
     "metadata": {},
     "output_type": "display_data"
    },
    {
     "data": {
      "text/html": [
       "<div class=\"map-static-img-preview-c8fc0bc6-bd9d-469c-8c53-38d81eb82ab8\"><img src=\"\"></img></div>"
      ],
      "text/plain": [
       "<IPython.core.display.HTML object>"
      ]
     },
     "metadata": {},
     "output_type": "display_data"
    }
   ],
   "source": [
    "mapping(uppermidtier)"
   ]
  },
  {
   "cell_type": "code",
   "execution_count": null,
   "metadata": {},
   "outputs": [],
   "source": []
  },
  {
   "cell_type": "code",
   "execution_count": null,
   "metadata": {},
   "outputs": [],
   "source": []
  },
  {
   "cell_type": "code",
   "execution_count": null,
   "metadata": {},
   "outputs": [],
   "source": []
  },
  {
   "cell_type": "code",
   "execution_count": null,
   "metadata": {},
   "outputs": [],
   "source": []
  },
  {
   "cell_type": "code",
   "execution_count": null,
   "metadata": {},
   "outputs": [],
   "source": []
  },
  {
   "cell_type": "code",
   "execution_count": null,
   "metadata": {},
   "outputs": [],
   "source": []
  },
  {
   "cell_type": "code",
   "execution_count": null,
   "metadata": {},
   "outputs": [],
   "source": []
  },
  {
   "cell_type": "code",
   "execution_count": null,
   "metadata": {},
   "outputs": [],
   "source": []
  }
 ],
 "metadata": {
  "kernelspec": {
   "display_name": "Python 3",
   "language": "python",
   "name": "python3"
  },
  "language_info": {
   "codemirror_mode": {
    "name": "ipython",
    "version": 3
   },
   "file_extension": ".py",
   "mimetype": "text/x-python",
   "name": "python",
   "nbconvert_exporter": "python",
   "pygments_lexer": "ipython3",
   "version": "3.7.6"
  }
 },
 "nbformat": 4,
 "nbformat_minor": 4
}
