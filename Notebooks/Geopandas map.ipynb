{
 "cells": [
  {
   "cell_type": "code",
   "execution_count": 9,
   "metadata": {},
   "outputs": [],
   "source": [
    "import pandas as pd\n",
    "import arcgis\n",
    "from arcgis import *\n",
    "from arcgis.features import GeoAccessor,GeoSeriesAccessor\n",
    "import numpy as np\n",
    "import matplotlib.pyplot as plt\n",
    "import seaborn as sns\n",
    "import numpy as np\n",
    "from arcgis.mapping import WebMap\n",
    "from IPython.display import display"
   ]
  },
  {
   "cell_type": "code",
   "execution_count": 10,
   "metadata": {},
   "outputs": [],
   "source": [
    "df = pd.read_csv('data/kc_house_data.csv')\n",
    "\n",
    "\n",
    "\n",
    "gis = GIS(\"http://www.arcgis.com/\", \"shadowsword_0\",\"Acidblade1\")"
   ]
  },
  {
   "cell_type": "code",
   "execution_count": 11,
   "metadata": {},
   "outputs": [],
   "source": [
    "def gis_content():\n",
    "#     item = gis.content.get('ff9e4774ee8641f48cccac97dca753db#data')\n",
    "#     flayer = item.layers[0]\n",
    "#     food = flayer.query(where = \"ESITE = '0000000'\").sdf.copy()\n",
    "    item = gis.content.get('3f263039314d44cc93384fe1f4229796#data')\n",
    "    flayer = item.layers[0]\n",
    "    public = flayer.query(where = \"ZIPCODE > 0\").sdf.copy()\n",
    "    \n",
    "    item = gis.content.get('0dfe37d2a68545a699b999804354dacf')\n",
    "    flayer = item.layers[0]\n",
    "    private = flayer.query(where = \"STATE = 'WA'\").sdf.copy()\n",
    "    \n",
    "    #Editing data for later use\n",
    "    public_df = public.drop(['FID','PIN','SCH_CLASS','CODE','FEATURE_ID','ESITE','MAJOR','MINOR','SHAPE'],1)\n",
    "    private_df = private.drop(['FID','NCESID','ZIP4','VAL_METHOD','VAL_DATE','SHELTER_ID','COUNTRY','SOURCE','SOURCEDATE','NAICS_CODE','FT_TEACHER','START_GRAD','END_GRADE','COUNTYFIPS','SHAPE','TYPE','STATUS','VAL_METHOD','VAL_DATE'],1)\n",
    "#     food_df = food.drop(['RECORD_ID','FACILITY_NAME','CHAIN_NAME','CHAIN_ESTABLISHMENT','SITE_ADDRESS','ABB_NAME','ESITE','FEATURE_ID'],1)\n",
    "    private_df = private_df.rename(columns ={'ZIP':'zipcode','LONGITUDE':'long','LATITUDE':'lat'})\n",
    "    public_df = public_df.rename(columns = {'LONG_CEN': 'long', 'LAT_CEN': 'lat','ZIPCODE':'zipcode'})\n",
    "    private_df['Private'] = 'yes'\n",
    "    public_df['Private'] = 'No'\n",
    "    public_df['zipcode'] = public_df['zipcode'].astype(str).astype(int)\n",
    "    private_df['zipcode'] = private_df['zipcode'].astype(str).astype(int)\n",
    "    public_df['Private'].astype(str)\n",
    "    \n",
    "    return (public_df,private_df) \n"
   ]
  },
  {
   "cell_type": "code",
   "execution_count": 12,
   "metadata": {},
   "outputs": [],
   "source": [
    "public,private = gis_content()"
   ]
  },
  {
   "cell_type": "code",
   "execution_count": 13,
   "metadata": {},
   "outputs": [],
   "source": [
    "\n",
    "def mapping(df):\n",
    "    \"\"\"Taking in a dataframe to assign the budget through all fields. Takes schools into account as well. If not looking for schools\n",
    "        just enter through\"\"\"\n",
    "#     mapp = gis.content.get('579a5ea9a24d4b85b237ef8e9cb578b4')\n",
    "    budget = int(input('What is your budget: '))\n",
    "    budget_df = df.loc[df.price<=budget].copy()\n",
    "    budget_df.is_copy = None\n",
    "    pdx_map = gis.map('Seattle WA')\n",
    "    pdx_map.basemap = 'streets-night-vector'\n",
    "    schools = input('Are you interested in schools? ')\n",
    "    if (schools == 'Yes') or (schools == 'yes') and (budget is not None):\n",
    "        interest = input('Private school,Public school or both? ')\n",
    "        if (interest =='Private') or (interest =='private'):\n",
    "            \n",
    "            \n",
    "            school_sdf = pd.DataFrame.spatial.from_xy(private,'long','lat')\n",
    "            school_sdf.spatial.plot(map_widget = pdx_map,renderer_type = \"c\",symbol_type = 'simple',symbol_style = 'o',title = 'Schools', \n",
    "                    col='zipcode',\n",
    "                    cmap='winter',  # matplotlib color map\n",
    "                    alpha=0.7,\n",
    "                    size = .5, \n",
    "                    outline_color=[0,0,0,0])\n",
    "        elif(interest =='Public') or (interest == 'public'):\n",
    "#           \n",
    "            school_sdf = pd.DataFrame.spatial.from_xy(public,'long','lat')\n",
    "            school_sdf.spatial.plot(map_widget = pdx_map, renderer_type = \"c\",symbol_type = 'simple',symbol_style = 'o',title = 'Public', \n",
    "                    col='zipcode',\n",
    "                    cmap='winter',  # matplotlib color map\n",
    "                    alpha=0.7,\n",
    "                    size = .5, \n",
    "                    outline_color=[0,0,0,0])\n",
    "        else:\n",
    "            school_sdf = pd.DataFrame.spatial.from_xy(all_schools,'LONGITUDE','LATITUDE')\n",
    "            school_sdf.spatial.plot(map_widget = pdx_map,renderer_type = \"c\",symbol_type = 'simple',symbol_style = 'o',title = 'Schools', \n",
    "                      col='zipcode',\n",
    "                      cmap='winter',  # matplotlib color map\n",
    "                    alpha=0.7,\n",
    "                    size = .5, \n",
    "                    outline_color=[0,0,0,0])\n",
    "        \n",
    "       \n",
    "    data_sdf = pd.DataFrame.spatial.from_xy(budget_df, 'long','lat')\n",
    "    \n",
    "       \n",
    "    data_sdf.spatial.plot(map_widget=pdx_map, renderer_type = \"c\",marker_size = 5\n",
    "                    ,symbol_type = 'simple',symbol_style='d',\n",
    "                    title='Pricing of houses',\n",
    "                    col='price',\n",
    "                    cmap='spring',  # matplotlib color map\n",
    "                    alpha=0.7,\n",
    "                    size = .5,\n",
    "                    outline_color=[0,0,0,0]\n",
    "                     )\n",
    "#     food_sdf = pd.DataFrame.spatial(food)\n",
    "#     food_sdf.plot(map_widget = pdx_map,renderer_type = \"c\",symbol_type = 'simple', symbol_style = 'x',\n",
    "#                   title='Pricing of houses',\n",
    "#                     col='price',  \n",
    "#                   cmap='spring',  # matplotlib color map\n",
    "#                     alpha=0.7,\n",
    "#                     size = .5,\n",
    "#                     outline_color=[0,0,0,0])\n",
    "    pdx_map.legend = True\n",
    "    display(pdx_map)\n",
    "#     display(mapp)\n",
    "# took legend out since the unique renderer_type makes it hard to assign general information through it. \n",
    "# Will work on getting that working so the distance from houses shows schools locally by zipcode.\n",
    "# sns.barplot(x = 'price',y = 'sqft_living',data = budget_df)"
   ]
  },
  {
   "cell_type": "code",
   "execution_count": 14,
   "metadata": {},
   "outputs": [
    {
     "name": "stdin",
     "output_type": "stream",
     "text": [
      "What is your budget:  150000\n",
      "Are you interested in schools?  yes\n",
      "Private school,Public school or both?  private\n"
     ]
    },
    {
     "data": {
      "application/vnd.jupyter.widget-view+json": {
       "model_id": "0a3d4847c08548cd91776b9ef6d8cf63",
       "version_major": 2,
       "version_minor": 0
      },
      "text/plain": [
       "MapView(layout=Layout(height='400px', width='100%'), legend=True)"
      ]
     },
     "metadata": {},
     "output_type": "display_data"
    },
    {
     "data": {
      "text/html": [
       "<div class=\"map-static-img-preview-fa7a5ebb-d4cc-4e78-86da-5bcdbaebc16c\"><img src=\"\"></img></div>"
      ],
      "text/plain": [
       "<IPython.core.display.HTML object>"
      ]
     },
     "metadata": {},
     "output_type": "display_data"
    }
   ],
   "source": [
    "mapping(df)"
   ]
  },
  {
   "cell_type": "code",
   "execution_count": 7,
   "metadata": {},
   "outputs": [
    {
     "data": {
      "text/html": [
       "<div>\n",
       "<style scoped>\n",
       "    .dataframe tbody tr th:only-of-type {\n",
       "        vertical-align: middle;\n",
       "    }\n",
       "\n",
       "    .dataframe tbody tr th {\n",
       "        vertical-align: top;\n",
       "    }\n",
       "\n",
       "    .dataframe thead th {\n",
       "        text-align: right;\n",
       "    }\n",
       "</style>\n",
       "<table border=\"1\" class=\"dataframe\">\n",
       "  <thead>\n",
       "    <tr style=\"text-align: right;\">\n",
       "      <th></th>\n",
       "      <th>NAME</th>\n",
       "      <th>ADDRESS</th>\n",
       "      <th>CITY</th>\n",
       "      <th>STATE</th>\n",
       "      <th>zipcode</th>\n",
       "      <th>TELEPHONE</th>\n",
       "      <th>POPULATION</th>\n",
       "      <th>COUNTY</th>\n",
       "      <th>lat</th>\n",
       "      <th>long</th>\n",
       "      <th>NAICS_DESC</th>\n",
       "      <th>WEBSITE</th>\n",
       "      <th>LEVEL_</th>\n",
       "      <th>ENROLLMENT</th>\n",
       "      <th>Private</th>\n",
       "    </tr>\n",
       "  </thead>\n",
       "  <tbody>\n",
       "    <tr>\n",
       "      <th>0</th>\n",
       "      <td>HOLY FAMILY ELEMENTARY SCHOOL</td>\n",
       "      <td>1002 CHESTNUT ST</td>\n",
       "      <td>CLARKSTON</td>\n",
       "      <td>WA</td>\n",
       "      <td>99403</td>\n",
       "      <td>(509) 758-6621</td>\n",
       "      <td>97</td>\n",
       "      <td>ASOTIN</td>\n",
       "      <td>46.411282</td>\n",
       "      <td>-117.051147</td>\n",
       "      <td>ELEMENTARY AND SECONDARY SCHOOLS</td>\n",
       "      <td>http://nces.ed.gov/GLOBALLOCATOR/sch_info_popu...</td>\n",
       "      <td>1</td>\n",
       "      <td>89</td>\n",
       "      <td>yes</td>\n",
       "    </tr>\n",
       "    <tr>\n",
       "      <th>1</th>\n",
       "      <td>BETHLEHEM LUTHERAN SCHOOL</td>\n",
       "      <td>2505 W 27TH AVE</td>\n",
       "      <td>KENNEWICK</td>\n",
       "      <td>WA</td>\n",
       "      <td>99337</td>\n",
       "      <td>(509) 582-5624</td>\n",
       "      <td>185</td>\n",
       "      <td>BENTON</td>\n",
       "      <td>46.195222</td>\n",
       "      <td>-119.126914</td>\n",
       "      <td>ELEMENTARY AND SECONDARY SCHOOLS</td>\n",
       "      <td>http://nces.ed.gov/GLOBALLOCATOR/sch_info_popu...</td>\n",
       "      <td>1</td>\n",
       "      <td>174</td>\n",
       "      <td>yes</td>\n",
       "    </tr>\n",
       "    <tr>\n",
       "      <th>2</th>\n",
       "      <td>CHILDREN'S GARDEN MONTESSORI</td>\n",
       "      <td>2440 GARLICK BLVD</td>\n",
       "      <td>RICHLAND</td>\n",
       "      <td>WA</td>\n",
       "      <td>99354</td>\n",
       "      <td>(509) 375-1638</td>\n",
       "      <td>45</td>\n",
       "      <td>BENTON</td>\n",
       "      <td>46.319501</td>\n",
       "      <td>-119.279506</td>\n",
       "      <td>ELEMENTARY AND SECONDARY SCHOOLS</td>\n",
       "      <td>http://nces.ed.gov/GLOBALLOCATOR/sch_info_popu...</td>\n",
       "      <td>1</td>\n",
       "      <td>42</td>\n",
       "      <td>yes</td>\n",
       "    </tr>\n",
       "    <tr>\n",
       "      <th>3</th>\n",
       "      <td>LIBERTY CHRISTIAN SCHOOL</td>\n",
       "      <td>2200 WILLIAMS BLVD</td>\n",
       "      <td>RICHLAND</td>\n",
       "      <td>WA</td>\n",
       "      <td>99354</td>\n",
       "      <td>(509) 946-0602</td>\n",
       "      <td>392</td>\n",
       "      <td>BENTON</td>\n",
       "      <td>46.285753</td>\n",
       "      <td>-119.300263</td>\n",
       "      <td>ELEMENTARY AND SECONDARY SCHOOLS</td>\n",
       "      <td>http://nces.ed.gov/GLOBALLOCATOR/sch_info_popu...</td>\n",
       "      <td>3</td>\n",
       "      <td>362</td>\n",
       "      <td>yes</td>\n",
       "    </tr>\n",
       "    <tr>\n",
       "      <th>4</th>\n",
       "      <td>CHILDRENS GATE MONTESSORI SCHOOL</td>\n",
       "      <td>1425 CHERRY ST</td>\n",
       "      <td>WENATCHEE</td>\n",
       "      <td>WA</td>\n",
       "      <td>98801</td>\n",
       "      <td>(509) 886-0533</td>\n",
       "      <td>8</td>\n",
       "      <td>CHELAN</td>\n",
       "      <td>47.415093</td>\n",
       "      <td>-120.336569</td>\n",
       "      <td>ELEMENTARY AND SECONDARY SCHOOLS</td>\n",
       "      <td>http://nces.ed.gov/GLOBALLOCATOR/sch_info_popu...</td>\n",
       "      <td>1</td>\n",
       "      <td>5</td>\n",
       "      <td>yes</td>\n",
       "    </tr>\n",
       "  </tbody>\n",
       "</table>\n",
       "</div>"
      ],
      "text/plain": [
       "                               NAME             ADDRESS       CITY STATE  \\\n",
       "0     HOLY FAMILY ELEMENTARY SCHOOL    1002 CHESTNUT ST  CLARKSTON    WA   \n",
       "1         BETHLEHEM LUTHERAN SCHOOL     2505 W 27TH AVE  KENNEWICK    WA   \n",
       "2      CHILDREN'S GARDEN MONTESSORI   2440 GARLICK BLVD   RICHLAND    WA   \n",
       "3          LIBERTY CHRISTIAN SCHOOL  2200 WILLIAMS BLVD   RICHLAND    WA   \n",
       "4  CHILDRENS GATE MONTESSORI SCHOOL      1425 CHERRY ST  WENATCHEE    WA   \n",
       "\n",
       "   zipcode       TELEPHONE  POPULATION  COUNTY        lat        long  \\\n",
       "0    99403  (509) 758-6621          97  ASOTIN  46.411282 -117.051147   \n",
       "1    99337  (509) 582-5624         185  BENTON  46.195222 -119.126914   \n",
       "2    99354  (509) 375-1638          45  BENTON  46.319501 -119.279506   \n",
       "3    99354  (509) 946-0602         392  BENTON  46.285753 -119.300263   \n",
       "4    98801  (509) 886-0533           8  CHELAN  47.415093 -120.336569   \n",
       "\n",
       "                         NAICS_DESC  \\\n",
       "0  ELEMENTARY AND SECONDARY SCHOOLS   \n",
       "1  ELEMENTARY AND SECONDARY SCHOOLS   \n",
       "2  ELEMENTARY AND SECONDARY SCHOOLS   \n",
       "3  ELEMENTARY AND SECONDARY SCHOOLS   \n",
       "4  ELEMENTARY AND SECONDARY SCHOOLS   \n",
       "\n",
       "                                             WEBSITE LEVEL_  ENROLLMENT  \\\n",
       "0  http://nces.ed.gov/GLOBALLOCATOR/sch_info_popu...      1          89   \n",
       "1  http://nces.ed.gov/GLOBALLOCATOR/sch_info_popu...      1         174   \n",
       "2  http://nces.ed.gov/GLOBALLOCATOR/sch_info_popu...      1          42   \n",
       "3  http://nces.ed.gov/GLOBALLOCATOR/sch_info_popu...      3         362   \n",
       "4  http://nces.ed.gov/GLOBALLOCATOR/sch_info_popu...      1           5   \n",
       "\n",
       "  Private  \n",
       "0     yes  \n",
       "1     yes  \n",
       "2     yes  \n",
       "3     yes  \n",
       "4     yes  "
      ]
     },
     "execution_count": 7,
     "metadata": {},
     "output_type": "execute_result"
    }
   ],
   "source": [
    "private.head()"
   ]
  },
  {
   "cell_type": "code",
   "execution_count": 16,
   "metadata": {},
   "outputs": [
    {
     "data": {
      "text/html": [
       "<div>\n",
       "<style scoped>\n",
       "    .dataframe tbody tr th:only-of-type {\n",
       "        vertical-align: middle;\n",
       "    }\n",
       "\n",
       "    .dataframe tbody tr th {\n",
       "        vertical-align: top;\n",
       "    }\n",
       "\n",
       "    .dataframe thead th {\n",
       "        text-align: right;\n",
       "    }\n",
       "</style>\n",
       "<table border=\"1\" class=\"dataframe\">\n",
       "  <thead>\n",
       "    <tr style=\"text-align: right;\">\n",
       "      <th></th>\n",
       "      <th>NAME</th>\n",
       "      <th>ABB_NAME</th>\n",
       "      <th>ADDRESS</th>\n",
       "      <th>zipcode</th>\n",
       "      <th>long</th>\n",
       "      <th>lat</th>\n",
       "      <th>DISTRICT</th>\n",
       "      <th>WEBSITE</th>\n",
       "      <th>Private</th>\n",
       "      <th>SHAPE</th>\n",
       "    </tr>\n",
       "  </thead>\n",
       "  <tbody>\n",
       "    <tr>\n",
       "      <th>0</th>\n",
       "      <td>Glacier Park School</td>\n",
       "      <td>Glacier Park</td>\n",
       "      <td>23700 SE 280th St</td>\n",
       "      <td>98038</td>\n",
       "      <td>-122.025583</td>\n",
       "      <td>47.351607</td>\n",
       "      <td>TAHOMA</td>\n",
       "      <td>http://www.tahoma.wednet.edu/SubSite/GPES/inde...</td>\n",
       "      <td>No</td>\n",
       "      <td>{\"spatialReference\": {\"wkid\": 4326}, \"x\": -122...</td>\n",
       "    </tr>\n",
       "    <tr>\n",
       "      <th>1</th>\n",
       "      <td>Rosa Parks School</td>\n",
       "      <td>Rosa Parks</td>\n",
       "      <td>22845 NE Cedar Park Crescent</td>\n",
       "      <td>98053</td>\n",
       "      <td>-122.034854</td>\n",
       "      <td>47.684738</td>\n",
       "      <td>LAKE WASHINGTON</td>\n",
       "      <td>http://publicportal.lwsd.org/schools/rosaparks...</td>\n",
       "      <td>No</td>\n",
       "      <td>{\"spatialReference\": {\"wkid\": 4326}, \"x\": -122...</td>\n",
       "    </tr>\n",
       "    <tr>\n",
       "      <th>2</th>\n",
       "      <td>Evergreen School</td>\n",
       "      <td>Evergreen</td>\n",
       "      <td>15201 Meridian Ave N</td>\n",
       "      <td>98133</td>\n",
       "      <td>-122.335278</td>\n",
       "      <td>47.738587</td>\n",
       "      <td>SHORELINE</td>\n",
       "      <td>http://www.evergreenschool.org/about-evergreen...</td>\n",
       "      <td>No</td>\n",
       "      <td>{\"spatialReference\": {\"wkid\": 4326}, \"x\": -122...</td>\n",
       "    </tr>\n",
       "    <tr>\n",
       "      <th>3</th>\n",
       "      <td>Seahawks Academy 6-8</td>\n",
       "      <td>Seahawks Academy 6-8</td>\n",
       "      <td>1600 S Columbian Way</td>\n",
       "      <td>98108</td>\n",
       "      <td>-122.312085</td>\n",
       "      <td>47.564131</td>\n",
       "      <td>SEATTLE</td>\n",
       "      <td>none</td>\n",
       "      <td>No</td>\n",
       "      <td>{\"spatialReference\": {\"wkid\": 4326}, \"x\": -122...</td>\n",
       "    </tr>\n",
       "    <tr>\n",
       "      <th>4</th>\n",
       "      <td>Family Learning Center</td>\n",
       "      <td>Family Learning Center</td>\n",
       "      <td>2315 173rd Ave NE</td>\n",
       "      <td>98052</td>\n",
       "      <td>-122.109820</td>\n",
       "      <td>47.630440</td>\n",
       "      <td>LAKE WASHINGTON</td>\n",
       "      <td>http://washington.schooltree.org/public/Family...</td>\n",
       "      <td>No</td>\n",
       "      <td>{\"spatialReference\": {\"wkid\": 4326}, \"x\": -122...</td>\n",
       "    </tr>\n",
       "  </tbody>\n",
       "</table>\n",
       "</div>"
      ],
      "text/plain": [
       "                     NAME                ABB_NAME  \\\n",
       "0     Glacier Park School            Glacier Park   \n",
       "1       Rosa Parks School              Rosa Parks   \n",
       "2        Evergreen School               Evergreen   \n",
       "3    Seahawks Academy 6-8    Seahawks Academy 6-8   \n",
       "4  Family Learning Center  Family Learning Center   \n",
       "\n",
       "                        ADDRESS  zipcode        long        lat  \\\n",
       "0             23700 SE 280th St    98038 -122.025583  47.351607   \n",
       "1  22845 NE Cedar Park Crescent    98053 -122.034854  47.684738   \n",
       "2          15201 Meridian Ave N    98133 -122.335278  47.738587   \n",
       "3          1600 S Columbian Way    98108 -122.312085  47.564131   \n",
       "4             2315 173rd Ave NE    98052 -122.109820  47.630440   \n",
       "\n",
       "          DISTRICT                                            WEBSITE Private  \\\n",
       "0           TAHOMA  http://www.tahoma.wednet.edu/SubSite/GPES/inde...      No   \n",
       "1  LAKE WASHINGTON  http://publicportal.lwsd.org/schools/rosaparks...      No   \n",
       "2        SHORELINE  http://www.evergreenschool.org/about-evergreen...      No   \n",
       "3          SEATTLE                                               none      No   \n",
       "4  LAKE WASHINGTON  http://washington.schooltree.org/public/Family...      No   \n",
       "\n",
       "                                               SHAPE  \n",
       "0  {\"spatialReference\": {\"wkid\": 4326}, \"x\": -122...  \n",
       "1  {\"spatialReference\": {\"wkid\": 4326}, \"x\": -122...  \n",
       "2  {\"spatialReference\": {\"wkid\": 4326}, \"x\": -122...  \n",
       "3  {\"spatialReference\": {\"wkid\": 4326}, \"x\": -122...  \n",
       "4  {\"spatialReference\": {\"wkid\": 4326}, \"x\": -122...  "
      ]
     },
     "execution_count": 16,
     "metadata": {},
     "output_type": "execute_result"
    }
   ],
   "source": [
    "public.head()\n",
    "\n",
    "\n"
   ]
  },
  {
   "cell_type": "code",
   "execution_count": null,
   "metadata": {},
   "outputs": [],
   "source": [
    "# pull data from https://blue.kingcounty.com/Assessor/eRealProperty/Detail.aspx?ParcelNbr=\n",
    "# adding the id number from each of the dataframes into the last bit of the code adding that to a new dataframe to work with the code"
   ]
  },
  {
   "cell_type": "code",
   "execution_count": 8,
   "metadata": {},
   "outputs": [
    {
     "data": {
      "text/html": [
       "<div class=\"item_container\" style=\"height: auto; overflow: hidden; border: 1px solid #cfcfcf; border-radius: 2px; background: #f6fafa; line-height: 1.21429em; padding: 10px;\">\n",
       "                    <div class=\"item_left\" style=\"width: 210px; float: left;\">\n",
       "                       <a href='http://shadowsword-0.maps.arcgis.com/home/item.html?id=579a5ea9a24d4b85b237ef8e9cb578b4' target='_blank'>\n",
       "                        <img src='data:image/png;base64,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' width='200' height='133' class=\"itemThumbnail\">\n",
       "                       </a>\n",
       "                    </div>\n",
       "\n",
       "                    <div class=\"item_right\"     style=\"float: none; width: auto; overflow: hidden;\">\n",
       "                        <a href='http://shadowsword-0.maps.arcgis.com/home/item.html?id=579a5ea9a24d4b85b237ef8e9cb578b4' target='_blank'><b>baseMap for project</b>\n",
       "                        </a>\n",
       "                        <br/><img src='http://shadowsword-0.maps.arcgis.com/home/js/jsapi/esri/css/images/item_type_icons/maps16.png' style=\"vertical-align:middle;\">Web Map by shadowsword_0\n",
       "                        <br/>Last Modified: December 05, 2020\n",
       "                        <br/>0 comments, 80 views\n",
       "                    </div>\n",
       "                </div>\n",
       "                "
      ],
      "text/plain": [
       "<Item title:\"baseMap for project\" type:Web Map owner:shadowsword_0>"
      ]
     },
     "execution_count": 8,
     "metadata": {},
     "output_type": "execute_result"
    }
   ],
   "source": [
    "item = gis.content.get('579a5ea9a24d4b85b237ef8e9cb578b4')\n",
    "item\n",
    "\n",
    "\n",
    "\n",
    "\n",
    "\n",
    "\n",
    "# online_map = WebMap(test_map)"
   ]
  },
  {
   "cell_type": "code",
   "execution_count": 33,
   "metadata": {},
   "outputs": [
    {
     "data": {
      "application/vnd.jupyter.widget-view+json": {
       "model_id": "d749a6315a234e119414334407b8358c",
       "version_major": 2,
       "version_minor": 0
      },
      "text/plain": [
       "MapView(hide_mode_switch=True, layout=Layout(height='400px', width='100%'))"
      ]
     },
     "metadata": {},
     "output_type": "display_data"
    },
    {
     "data": {
      "text/html": [
       "<div class=\"map-static-img-preview-084d0213-5b44-4974-9ae5-06facccc39ea\"><img src=\"\"></img></div>"
      ],
      "text/plain": [
       "<IPython.core.display.HTML object>"
      ]
     },
     "metadata": {},
     "output_type": "display_data"
    }
   ],
   "source": [
    "online_map"
   ]
  },
  {
   "cell_type": "code",
   "execution_count": 27,
   "metadata": {},
   "outputs": [
    {
     "data": {
      "text/plain": [
       "['dark-gray',\n",
       " 'dark-gray-vector',\n",
       " 'gray',\n",
       " 'gray-vector',\n",
       " 'hybrid',\n",
       " 'national-geographic',\n",
       " 'oceans',\n",
       " 'osm',\n",
       " 'satellite',\n",
       " 'streets',\n",
       " 'streets-navigation-vector',\n",
       " 'streets-night-vector',\n",
       " 'streets-relief-vector',\n",
       " 'streets-vector',\n",
       " 'terrain',\n",
       " 'topo',\n",
       " 'topo-vector']"
      ]
     },
     "execution_count": 27,
     "metadata": {},
     "output_type": "execute_result"
    }
   ],
   "source": []
  },
  {
   "cell_type": "code",
   "execution_count": null,
   "metadata": {},
   "outputs": [],
   "source": []
  }
 ],
 "metadata": {
  "kernelspec": {
   "display_name": "Python 3",
   "language": "python",
   "name": "python3"
  },
  "language_info": {
   "codemirror_mode": {
    "name": "ipython",
    "version": 3
   },
   "file_extension": ".py",
   "mimetype": "text/x-python",
   "name": "python",
   "nbconvert_exporter": "python",
   "pygments_lexer": "ipython3",
   "version": "3.7.6"
  }
 },
 "nbformat": 4,
 "nbformat_minor": 4
}
