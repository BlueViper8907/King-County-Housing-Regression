{
 "cells": [
  {
   "cell_type": "code",
   "execution_count": 1,
   "metadata": {},
   "outputs": [],
   "source": [
    "import pandas as pd\n",
    "import numpy as np\n",
    "import seaborn as sns\n",
    "import matplotlib.pyplot as plt\n",
    "import scipy \n",
    "import sklearn\n",
    "import datetime"
   ]
  },
  {
   "cell_type": "code",
   "execution_count": 2,
   "metadata": {},
   "outputs": [],
   "source": [
    "from sklearn import linear_model\n",
    "from sklearn.linear_model import LinearRegression\n",
    "from sklearn.model_selection import train_test_split\n",
    "from sklearn.metrics import mean_squared_error, r2_score\n",
    "from sklearn.neighbors import NearestNeighbors, KNeighborsClassifier, KNeighborsRegressor\n",
    "from sklearn.model_selection import cross_val_predict, KFold\n",
    "from sklearn.preprocessing import StandardScaler\n",
    "from sklearn.pipeline import make_pipeline"
   ]
  },
  {
   "cell_type": "code",
   "execution_count": 20,
   "metadata": {},
   "outputs": [],
   "source": [
    "from mlxtend.feature_selection import SequentialFeatureSelector as SFS\n",
    "from math import sqrt\n",
    "from scipy import stats\n",
    "from statistics import mean"
   ]
  },
  {
   "cell_type": "code",
   "execution_count": 4,
   "metadata": {},
   "outputs": [],
   "source": [
    "def calc_slope(xs,ys):\n",
    "    m = (((np.mean(xs)*np.mean(ys)) - np.mean(xs*ys)) /\n",
    "         ((np.mean(xs)**2) - np.mean(xs*xs)))\n",
    "    \n",
    "    return m\n",
    "\n",
    "def r_squared(y_real, y_predicted):\n",
    "    \n",
    "    # calculate the numerator\n",
    "    num = sq_err(y_real, y_predicted)\n",
    "    # calculate the denominator\n",
    "    denom = np.sum((y_real - y_real.mean())**2)\n",
    "    \n",
    "    return 1 - num/denom\n",
    "\n",
    "def sq_err(y_real, y_predicted):\n",
    "    squarred_error = np.sum((y_real - y_predicted)**2)\n",
    "    return squarred_error\n"
   ]
  },
  {
   "cell_type": "code",
   "execution_count": 72,
   "metadata": {},
   "outputs": [],
   "source": [
    "def best_fit_slope_and_intercept(xs,ys):\n",
    "    m = (((np.mean(xs)*np.mean(ys)) - np.mean(xs*ys)) /\n",
    "         ((np.mean(xs)**2) - np.mean(xs*xs)))\n",
    "    \n",
    "    b = np.mean(ys) - m*np.mean(xs)\n",
    "    \n",
    "    return m, b"
   ]
  },
  {
   "cell_type": "code",
   "execution_count": 7,
   "metadata": {},
   "outputs": [],
   "source": [
    "# read data\n",
    "kc_columns = ['id', 'date', 'price', 'bedrooms', 'bathrooms', 'sqft_living', 'sqft_lot', 'floors', 'waterfront', 'view', \n",
    "              'condition', 'grade', 'sqft_above', 'sqft_basement', 'yr_built', 'yr_renovated', 'zipcode', 'lat', 'long', 'sqft_living15',\n",
    "              'sqft_lot15']\n",
    "\n",
    "kc_dtypes = {'id': int, 'date' : str,  'price': float, 'bedrooms' : int, 'bathrooms' : float, 'sqft_living': int, 'sqft_lot': int, 'floors': float, \n",
    "             'waterfront': float, 'view' : float, 'condition': float, 'grade': int, 'sqft_above': int, 'yr_built': int,\n",
    "             'yr_renovated': float, 'zipcode': float, 'lat': float, 'long': float, 'sqft_living15': int, 'sqft_lot15': int}\n",
    "\n",
    "kc_data = pd.read_csv('dsc-phase-2-project/data/kc_house_data.csv', dtype = kc_dtypes, parse_dates = ['date'])\n",
    "\n",
    "kc_data['sqft_basement'] = kc_data['sqft_basement'].replace({'?': 0})\n",
    "kc_data['sqft_basement'] = kc_data['sqft_basement'].astype(dtype=float, errors='ignore')\n",
    "#single home with 33 rooms is an outlier for sure \n",
    "kc_data = kc_data.drop(index= 15856)"
   ]
  },
  {
   "cell_type": "code",
   "execution_count": 8,
   "metadata": {},
   "outputs": [],
   "source": [
    "#setting waterfront NaN values equal to the ratio of waterfront/non-waterfront properties, will want to try and narrow by zipcode \n",
    "#filling NaN with easily seperatable/changable values helpful \n",
    "kc_data['waterfront'] = kc_data['waterfront'].fillna(146/19221)\n",
    "kc_data['view'] = kc_data['view'].fillna((957 + (508*2) + (330*3) + (317*4))/21534)\n",
    "kc_data['yr_renovated'] = kc_data['waterfront'].fillna(0)"
   ]
  },
  {
   "cell_type": "code",
   "execution_count": 9,
   "metadata": {},
   "outputs": [
    {
     "name": "stdout",
     "output_type": "stream",
     "text": [
      "<class 'pandas.core.frame.DataFrame'>\n",
      "Int64Index: 21596 entries, 0 to 21596\n",
      "Data columns (total 21 columns):\n",
      " #   Column         Non-Null Count  Dtype         \n",
      "---  ------         --------------  -----         \n",
      " 0   id             21596 non-null  int32         \n",
      " 1   date           21596 non-null  datetime64[ns]\n",
      " 2   price          21596 non-null  float64       \n",
      " 3   bedrooms       21596 non-null  int32         \n",
      " 4   bathrooms      21596 non-null  float64       \n",
      " 5   sqft_living    21596 non-null  int32         \n",
      " 6   sqft_lot       21596 non-null  int32         \n",
      " 7   floors         21596 non-null  float64       \n",
      " 8   waterfront     21596 non-null  float64       \n",
      " 9   view           21596 non-null  float64       \n",
      " 10  condition      21596 non-null  float64       \n",
      " 11  grade          21596 non-null  int32         \n",
      " 12  sqft_above     21596 non-null  int32         \n",
      " 13  sqft_basement  21596 non-null  float64       \n",
      " 14  yr_built       21596 non-null  int32         \n",
      " 15  yr_renovated   21596 non-null  float64       \n",
      " 16  zipcode        21596 non-null  float64       \n",
      " 17  lat            21596 non-null  float64       \n",
      " 18  long           21596 non-null  float64       \n",
      " 19  sqft_living15  21596 non-null  int32         \n",
      " 20  sqft_lot15     21596 non-null  int32         \n",
      "dtypes: datetime64[ns](1), float64(11), int32(9)\n",
      "memory usage: 2.9 MB\n"
     ]
    }
   ],
   "source": [
    "kc_data.info()"
   ]
  },
  {
   "cell_type": "code",
   "execution_count": 10,
   "metadata": {},
   "outputs": [],
   "source": [
    "z_score = stats.zscore(kc_data[['sqft_basement']])\n",
    "abs_z_score = np.abs(z_score)\n",
    "filtered_entries = (abs_z_score < 3).all(axis=1)\n",
    "kc_data['basement_z'] = kc_data['sqft_basement'][filtered_entries]\n",
    "kc_data = kc_data.dropna(axis=0)"
   ]
  },
  {
   "cell_type": "code",
   "execution_count": 13,
   "metadata": {},
   "outputs": [],
   "source": [
    "z_score = stats.zscore(kc_data[['sqft_above']])\n",
    "abs_z_score = np.abs(z_score)\n",
    "filtered_entries = (abs_z_score < 3).all(axis=1)\n",
    "kc_data['sqft_above_z'] = kc_data['sqft_above'][filtered_entries]\n",
    "kc_data = kc_data.dropna(axis=0)"
   ]
  },
  {
   "cell_type": "code",
   "execution_count": 14,
   "metadata": {},
   "outputs": [],
   "source": [
    "z_score = stats.zscore(kc_data[['price']])\n",
    "abs_z_score = np.abs(z_score)\n",
    "filtered_entries = (abs_z_score < 3).all(axis=1)\n",
    "kc_data['price'] = kc_data['price'][filtered_entries]\n",
    "kc_data = kc_data.dropna(axis=0)"
   ]
  },
  {
   "cell_type": "code",
   "execution_count": 15,
   "metadata": {},
   "outputs": [],
   "source": [
    "# seperate your x and y, here I am looking at price, also need to get rid of date\n",
    "kcy = kc_data['price'].to_frame()\n",
    "kcx = kc_data[['id', 'bedrooms', 'bathrooms', 'sqft_living', 'sqft_lot', 'floors', 'waterfront', 'view', \n",
    "              'condition', 'grade', 'sqft_above', 'sqft_basement', 'yr_built', 'yr_renovated', 'zipcode', 'lat', 'long', 'sqft_living15',\n",
    "              'sqft_lot15']]"
   ]
  },
  {
   "cell_type": "code",
   "execution_count": 16,
   "metadata": {},
   "outputs": [],
   "source": [
    "# initialize regression\n",
    "reg = linear_model.LinearRegression()"
   ]
  },
  {
   "cell_type": "code",
   "execution_count": 17,
   "metadata": {},
   "outputs": [],
   "source": [
    "# split data into 80/20 training/testing\n",
    "x_train, x_test, y_train, y_test = train_test_split(kcx, kcy, test_size=0.2, random_state=42)"
   ]
  },
  {
   "cell_type": "code",
   "execution_count": 18,
   "metadata": {},
   "outputs": [
    {
     "data": {
      "text/plain": [
       "LinearRegression()"
      ]
     },
     "execution_count": 18,
     "metadata": {},
     "output_type": "execute_result"
    }
   ],
   "source": [
    "# train the model \n",
    "reg.fit(x_train, y_train)"
   ]
  },
  {
   "cell_type": "code",
   "execution_count": 34,
   "metadata": {},
   "outputs": [
    {
     "data": {
      "text/plain": [
       "7.5188223938223935"
      ]
     },
     "execution_count": 34,
     "metadata": {},
     "output_type": "execute_result"
    }
   ],
   "source": [
    "grade_test.mean()"
   ]
  },
  {
   "cell_type": "code",
   "execution_count": 73,
   "metadata": {},
   "outputs": [
    {
     "data": {
      "text/plain": [
       "[<matplotlib.lines.Line2D at 0x185cb40e8b0>]"
      ]
     },
     "execution_count": 73,
     "metadata": {},
     "output_type": "execute_result"
    },
    {
     "data": {
      "image/png": "[encoded data removed]",
      "text/plain": [
       "<Figure size 432x288 with 1 Axes>"
      ]
     },
     "metadata": {
      "needs_background": "light"
     },
     "output_type": "display_data"
    }
   ],
   "source": [
    "grade_test = x_test['bedrooms'].to_numpy(dtype=float)\n",
    "price_test = y_test.to_numpy(dtype=float)\n",
    "\n",
    "\n",
    "m, b = best_fit_slope_and_intercept(grade_test, price_test)\n",
    "regression_line = [(m*x)+b for x in price_test]\n",
    "\n",
    "plt.scatter(grade_test, price_test)\n",
    "plt.plot(grade_test, regression_line)"
   ]
  },
  {
   "cell_type": "code",
   "execution_count": 74,
   "metadata": {},
   "outputs": [],
   "source": [
    "# print test data predictions \n",
    "y_pred = reg.predict(x_test)\n",
    "y_pred = y_pred.round(decimals=2)"
   ]
  },
  {
   "cell_type": "code",
   "execution_count": 79,
   "metadata": {},
   "outputs": [
    {
     "data": {
      "text/plain": [
       "485105.8631008463"
      ]
     },
     "execution_count": 79,
     "metadata": {},
     "output_type": "execute_result"
    }
   ],
   "source": [
    "b"
   ]
  },
  {
   "cell_type": "code",
   "execution_count": 76,
   "metadata": {},
   "outputs": [
    {
     "data": {
      "text/plain": [
       "<matplotlib.collections.PathCollection at 0x185cb3d8160>"
      ]
     },
     "execution_count": 76,
     "metadata": {},
     "output_type": "execute_result"
    },
    {
     "data": {
      "image/png": "[encoded data removed]",
      "text/plain": [
       "<Figure size 432x288 with 1 Axes>"
      ]
     },
     "metadata": {
      "needs_background": "light"
     },
     "output_type": "display_data"
    }
   ],
   "source": [
    "grade_test = x_test['grade'].to_numpy(dtype=float)\n",
    "price_test = y_pred\n",
    "\n",
    "\n",
    "m, b = best_fit_slope_and_intercept(grade_test, price_test)\n",
    "regression_line = [(m*x)+b for x in grade_test]\n",
    "plt.plot(grade_test, regression_line)\n",
    "plt.scatter(grade_test, price_test)"
   ]
  },
  {
   "cell_type": "code",
   "execution_count": 77,
   "metadata": {},
   "outputs": [
    {
     "name": "stdout",
     "output_type": "stream",
     "text": [
      "485105.8631008642\n"
     ]
    },
    {
     "data": {
      "text/plain": [
       "<matplotlib.collections.PathCollection at 0x185cc42c4f0>"
      ]
     },
     "execution_count": 77,
     "metadata": {},
     "output_type": "execute_result"
    },
    {
     "data": {
      "image/png": "[encoded data removed]",
      "text/plain": [
       "<Figure size 432x288 with 1 Axes>"
      ]
     },
     "metadata": {
      "needs_background": "light"
     },
     "output_type": "display_data"
    }
   ],
   "source": [
    "predict_x = 6\n",
    "predict_y = (m*predict_x)+b\n",
    "print(predict_y)\n",
    "\n",
    "plt.plot(grade_test, regression_line, alpha=.3)\n",
    "plt.scatter(grade_test, price_test, alpha=.2)\n",
    "plt.scatter(6, predict_y, alpha=1)"
   ]
  },
  {
   "cell_type": "code",
   "execution_count": 52,
   "metadata": {},
   "outputs": [
    {
     "name": "stdout",
     "output_type": "stream",
     "text": [
      "mean sq : price    1.674657e+10\n",
      "dtype: float64\n",
      "slope : price    0.690384\n",
      "dtype: float64\n"
     ]
    }
   ],
   "source": [
    "# check accuracy with mean sq \n",
    "print('mean sq :', np.mean((y_pred - y_test)**2))\n",
    "print('slope :', calc_slope(y_test, y_pred))"
   ]
  },
  {
   "cell_type": "code",
   "execution_count": null,
   "metadata": {},
   "outputs": [],
   "source": [
    "cv = KFold(n_splits=10)\n",
    "classifier_pipeline = make_pipeline(StandardScaler(), KNeighborsRegressor(n_neighbors=10))\n",
    "k_test = cross_val_predict(classifier_pipeline, x_test, y_test, cv=5)\n",
    "k_train = cross_val_predict(classifier_pipeline, x_train, y_train, cv=5)"
   ]
  },
  {
   "cell_type": "code",
   "execution_count": null,
   "metadata": {},
   "outputs": [],
   "source": [
    "print('test RMSE:  ' + str(round(sqrt(mean_squared_error(y_test, k_test)), 2)))\n",
    "print('test R Squared: ' + str(round(r2_score(y_test, k_test), 2)))\n",
    "print('test Slope: ' + str(calc_slope(y_test, k_test)))"
   ]
  },
  {
   "cell_type": "code",
   "execution_count": null,
   "metadata": {},
   "outputs": [],
   "source": [
    "print('pred RMSE:  ' + str(round(sqrt(mean_squared_error(y_train, k_train)), 2)))\n",
    "print('pred R Squared: ' + str(round(r2_score(k_train, y_train), 2)))\n",
    "print('pred Slope: ' + str(calc_slope(k_train, y_train)))"
   ]
  },
  {
   "cell_type": "code",
   "execution_count": null,
   "metadata": {},
   "outputs": [],
   "source": [
    "plt.scatter(kcx['bedrooms'], kcy, alpha=.02)\n",
    "plt.plot(x_test, y_pred, linewidth= 3, alpha=.03)"
   ]
  },
  {
   "cell_type": "code",
   "execution_count": null,
   "metadata": {},
   "outputs": [],
   "source": [
    "kc_data"
   ]
  },
  {
   "cell_type": "code",
   "execution_count": null,
   "metadata": {},
   "outputs": [],
   "source": [
    "fig_dims = (12, 8)\n",
    "fig, ax = plt.subplots(figsize = fig_dims)\n",
    "sns.heatmap(kc_data.corr(), ax=ax)\n",
    "plt.show()"
   ]
  },
  {
   "cell_type": "code",
   "execution_count": null,
   "metadata": {},
   "outputs": [],
   "source": []
  }
 ],
 "metadata": {
  "kernelspec": {
   "display_name": "Python 3",
   "language": "python",
   "name": "python3"
  },
  "language_info": {
   "codemirror_mode": {
    "name": "ipython",
    "version": 3
   },
   "file_extension": ".py",
   "mimetype": "text/x-python",
   "name": "python",
   "nbconvert_exporter": "python",
   "pygments_lexer": "ipython3",
   "version": "3.8.5"
  },
  "widgets": {
   "application/vnd.jupyter.widget-state+json": {
    "state": {},
    "version_major": 2,
    "version_minor": 0
   }
  }
 },
 "nbformat": 4,
 "nbformat_minor": 4
}
