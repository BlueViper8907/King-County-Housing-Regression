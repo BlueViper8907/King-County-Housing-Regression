{
 "cells": [
  {
   "cell_type": "code",
   "execution_count": 1,
   "metadata": {},
   "outputs": [],
   "source": [
    "import pandas as pd\n",
    "import numpy as np\n",
    "import seaborn as sns\n",
    "import matplotlib.pyplot as plt\n",
    "import scipy \n",
    "import sklearn\n",
    "import datetime"
   ]
  },
  {
   "cell_type": "code",
   "execution_count": 2,
   "metadata": {},
   "outputs": [],
   "source": [
    "from sklearn import linear_model\n",
    "from sklearn.linear_model import LinearRegression\n",
    "from sklearn.model_selection import train_test_split\n",
    "from sklearn.metrics import mean_squared_error, r2_score\n",
    "from sklearn.neighbors import NearestNeighbors, KNeighborsClassifier, KNeighborsRegressor\n",
    "from sklearn.model_selection import cross_val_predict, KFold\n",
    "from sklearn.preprocessing import StandardScaler\n",
    "from sklearn.pipeline import make_pipeline"
   ]
  },
  {
   "cell_type": "code",
   "execution_count": 3,
   "metadata": {},
   "outputs": [],
   "source": [
    "from mlxtend.feature_selection import SequentialFeatureSelector as SFS\n",
    "from math import sqrt\n",
    "from scipy import stats"
   ]
  },
  {
   "cell_type": "code",
   "execution_count": 4,
   "metadata": {},
   "outputs": [],
   "source": [
    "# read data\n",
    "kc_columns = ['id', 'date', 'price', 'bedrooms', 'bathrooms', 'sqft_living', 'sqft_lot', 'floors', 'waterfront', 'view', \n",
    "              'condition', 'grade', 'sqft_above', 'sqft_basment', 'yr_built', 'yr_renovated', 'zipcode', 'lat', 'long', 'sqft_living15',\n",
    "              'sqft_lot15']\n",
    "\n",
    "kc_dtypes = {'id': int, 'date' : str,  'price': float, 'bedrooms' : int, 'bathrooms' : float, 'sqft_living': int, 'sqft_lot': int, 'floors': float, \n",
    "             'waterfront': float, 'view' : float, 'condition': float, 'grade': int, 'sqft_above': int, 'yr_built': int,\n",
    "             'yr_renovated': float, 'zipcode': float, 'lat': float, 'long': float, 'sqft_living15': int, 'sqft_lot15': int}\n",
    "\n",
    "kc_data = pd.read_csv('dsc-phase-2-project/data/kc_house_data.csv', dtype = kc_dtypes, parse_dates = ['date'])\n",
    "\n",
    "kc_data['sqft_basement'] = kc_data['sqft_basement'].astype(dtype=float, errors='ignore')\n",
    "#setting waterfront NaN values equal to the ratio of waterfront/non-waterfront properties, will want to try and narrow by zipcode \n",
    "#filling NaN with easily seperatable/changable values helpful \n",
    "kc_data['waterfront'] = kc_data['waterfront'].fillna(146/19221)\n",
    "kc_data['view'] = kc_data['view'].fillna((957 + (508*2) + (330*3) + (317*4))/21534)"
   ]
  },
  {
   "cell_type": "code",
   "execution_count": 5,
   "metadata": {},
   "outputs": [
    {
     "name": "stdout",
     "output_type": "stream",
     "text": [
      "<class 'pandas.core.frame.DataFrame'>\n",
      "RangeIndex: 21597 entries, 0 to 21596\n",
      "Data columns (total 21 columns):\n",
      " #   Column         Non-Null Count  Dtype         \n",
      "---  ------         --------------  -----         \n",
      " 0   id             21597 non-null  int32         \n",
      " 1   date           21597 non-null  datetime64[ns]\n",
      " 2   price          21597 non-null  float64       \n",
      " 3   bedrooms       21597 non-null  int32         \n",
      " 4   bathrooms      21597 non-null  float64       \n",
      " 5   sqft_living    21597 non-null  int32         \n",
      " 6   sqft_lot       21597 non-null  int32         \n",
      " 7   floors         21597 non-null  float64       \n",
      " 8   waterfront     19221 non-null  float64       \n",
      " 9   view           21534 non-null  float64       \n",
      " 10  condition      21597 non-null  float64       \n",
      " 11  grade          21597 non-null  int32         \n",
      " 12  sqft_above     21597 non-null  int32         \n",
      " 13  sqft_basement  21597 non-null  object        \n",
      " 14  yr_built       21597 non-null  int32         \n",
      " 15  yr_renovated   17755 non-null  float64       \n",
      " 16  zipcode        21597 non-null  float64       \n",
      " 17  lat            21597 non-null  float64       \n",
      " 18  long           21597 non-null  float64       \n",
      " 19  sqft_living15  21597 non-null  int32         \n",
      " 20  sqft_lot15     21597 non-null  int32         \n",
      "dtypes: datetime64[ns](1), float64(10), int32(9), object(1)\n",
      "memory usage: 2.7+ MB\n"
     ]
    }
   ],
   "source": [
    "kc_data.info()"
   ]
  },
  {
   "cell_type": "code",
   "execution_count": 6,
   "metadata": {},
   "outputs": [],
   "source": [
    "# model cannot handle dates? \n",
    "# cannot find a singe question mark by searching but getting errors so swapping for 0\n",
    "# honestly 0 fills all pretty well, it's the mode of most of them and means 'none' for things like basements, which aren't \n",
    "# common here \n",
    "kc_data = kc_data.drop('date', axis=1).copy() \n",
    "kc_data = kc_data.replace({ '?' : '0'}).copy()\n",
    "kc_data = kc_data.fillna('0').copy()"
   ]
  },
  {
   "cell_type": "code",
   "execution_count": 7,
   "metadata": {},
   "outputs": [],
   "source": [
    "# seperate your x and y, here I am looking at price \n",
    "kcy = kc_data['price'].to_frame()\n",
    "kcx = kc_data.drop('price', axis=1)"
   ]
  },
  {
   "cell_type": "code",
   "execution_count": 8,
   "metadata": {},
   "outputs": [],
   "source": [
    "# initialize regression\n",
    "reg = linear_model.LinearRegression()"
   ]
  },
  {
   "cell_type": "code",
   "execution_count": 9,
   "metadata": {},
   "outputs": [],
   "source": [
    "# split data into 80/20 training/testing\n",
    "x_train, x_test, y_train, y_test = train_test_split(kcx, kcy, test_size=0.2, random_state=42)"
   ]
  },
  {
   "cell_type": "code",
   "execution_count": 10,
   "metadata": {},
   "outputs": [
    {
     "data": {
      "text/plain": [
       "LinearRegression()"
      ]
     },
     "execution_count": 10,
     "metadata": {},
     "output_type": "execute_result"
    }
   ],
   "source": [
    "# train the model \n",
    "reg.fit(x_train, y_train)"
   ]
  },
  {
   "cell_type": "code",
   "execution_count": 11,
   "metadata": {
    "scrolled": true
   },
   "outputs": [
    {
     "name": "stdout",
     "output_type": "stream",
     "text": [
      "[[-3.74795857e-07 -3.86967233e+04  4.24178541e+04  1.00165794e+02\n",
      "   1.01226184e-01  9.18601382e+03  6.03902948e+05  5.26429382e+04\n",
      "   2.85288737e+04  9.86813482e+04  7.92629636e+01  5.31652307e+01\n",
      "  -2.69525172e+03  2.21158188e+01 -5.64058150e+02  5.88407220e+05\n",
      "  -2.10705033e+05  2.49129195e+01 -4.45697714e-01]]\n"
     ]
    }
   ],
   "source": [
    "# print coefficients for each feat/column \n",
    "print(reg.coef_)"
   ]
  },
  {
   "cell_type": "code",
   "execution_count": 12,
   "metadata": {},
   "outputs": [
    {
     "data": {
      "text/plain": [
       "array([[ 80554.56957585],\n",
       "       [383192.37801454],\n",
       "       [191513.04388273],\n",
       "       ...,\n",
       "       [506799.50450133],\n",
       "       [323985.88057354],\n",
       "       [217290.52986466]])"
      ]
     },
     "execution_count": 12,
     "metadata": {},
     "output_type": "execute_result"
    }
   ],
   "source": [
    "# print test data predictions \n",
    "y_pred = reg.predict(x_test)\n",
    "y_pred"
   ]
  },
  {
   "cell_type": "code",
   "execution_count": 13,
   "metadata": {},
   "outputs": [
    {
     "data": {
      "text/html": [
       "<div>\n",
       "<style scoped>\n",
       "    .dataframe tbody tr th:only-of-type {\n",
       "        vertical-align: middle;\n",
       "    }\n",
       "\n",
       "    .dataframe tbody tr th {\n",
       "        vertical-align: top;\n",
       "    }\n",
       "\n",
       "    .dataframe thead th {\n",
       "        text-align: right;\n",
       "    }\n",
       "</style>\n",
       "<table border=\"1\" class=\"dataframe\">\n",
       "  <thead>\n",
       "    <tr style=\"text-align: right;\">\n",
       "      <th></th>\n",
       "      <th>price</th>\n",
       "    </tr>\n",
       "  </thead>\n",
       "  <tbody>\n",
       "    <tr>\n",
       "      <th>3686</th>\n",
       "      <td>132500.0</td>\n",
       "    </tr>\n",
       "    <tr>\n",
       "      <th>10247</th>\n",
       "      <td>415000.0</td>\n",
       "    </tr>\n",
       "    <tr>\n",
       "      <th>4037</th>\n",
       "      <td>494000.0</td>\n",
       "    </tr>\n",
       "    <tr>\n",
       "      <th>3437</th>\n",
       "      <td>355000.0</td>\n",
       "    </tr>\n",
       "    <tr>\n",
       "      <th>19291</th>\n",
       "      <td>606000.0</td>\n",
       "    </tr>\n",
       "    <tr>\n",
       "      <th>...</th>\n",
       "      <td>...</td>\n",
       "    </tr>\n",
       "    <tr>\n",
       "      <th>2522</th>\n",
       "      <td>175000.0</td>\n",
       "    </tr>\n",
       "    <tr>\n",
       "      <th>11119</th>\n",
       "      <td>394950.0</td>\n",
       "    </tr>\n",
       "    <tr>\n",
       "      <th>11973</th>\n",
       "      <td>437000.0</td>\n",
       "    </tr>\n",
       "    <tr>\n",
       "      <th>17601</th>\n",
       "      <td>293000.0</td>\n",
       "    </tr>\n",
       "    <tr>\n",
       "      <th>19844</th>\n",
       "      <td>293467.0</td>\n",
       "    </tr>\n",
       "  </tbody>\n",
       "</table>\n",
       "<p>4320 rows × 1 columns</p>\n",
       "</div>"
      ],
      "text/plain": [
       "          price\n",
       "3686   132500.0\n",
       "10247  415000.0\n",
       "4037   494000.0\n",
       "3437   355000.0\n",
       "19291  606000.0\n",
       "...         ...\n",
       "2522   175000.0\n",
       "11119  394950.0\n",
       "11973  437000.0\n",
       "17601  293000.0\n",
       "19844  293467.0\n",
       "\n",
       "[4320 rows x 1 columns]"
      ]
     },
     "execution_count": 13,
     "metadata": {},
     "output_type": "execute_result"
    }
   ],
   "source": [
    "#print vaalues\n",
    "y_test7u"
   ]
  },
  {
   "cell_type": "code",
   "execution_count": 14,
   "metadata": {},
   "outputs": [
    {
     "name": "stdout",
     "output_type": "stream",
     "text": [
      "price    3.984944e+10\n",
      "dtype: float64\n"
     ]
    }
   ],
   "source": [
    "# check accuracy with mean sq \n",
    "print(np.mean((y_pred - y_test)**2))"
   ]
  },
  {
   "cell_type": "code",
   "execution_count": 15,
   "metadata": {},
   "outputs": [
    {
     "name": "stdout",
     "output_type": "stream",
     "text": [
      "39849439175.14964\n"
     ]
    }
   ],
   "source": [
    "# check accuracy with mean sq \n",
    "print(mean_squared_error(y_test, y_pred))\n",
    "# very innaccurate? "
   ]
  },
  {
   "cell_type": "code",
   "execution_count": 16,
   "metadata": {},
   "outputs": [
    {
     "data": {
      "text/plain": [
       "price    0.706947\n",
       "dtype: float64"
      ]
     },
     "execution_count": 16,
     "metadata": {},
     "output_type": "execute_result"
    }
   ],
   "source": [
    "def calc_slope(xs,ys):\n",
    "    m = (((np.mean(xs)*np.mean(ys)) - np.mean(xs*ys)) /\n",
    "         ((np.mean(xs)**2) - np.mean(xs*xs)))\n",
    "    \n",
    "    return m\n",
    "\n",
    "calc_slope(y_test, y_pred)"
   ]
  },
  {
   "cell_type": "code",
   "execution_count": 17,
   "metadata": {},
   "outputs": [],
   "source": [
    "#reassign to save space?\n",
    "# read data\n",
    "kc_columns = ['id', 'date', 'price', 'bedrooms', 'bathrooms', 'sqft_living', 'sqft_lot', 'floors', 'waterfront', 'view', \n",
    "              'condition', 'grade', 'sqft_above', 'sqft_basment', 'yr_built', 'yr_renovated', 'zipcode', 'lat', 'long', 'sqft_living15',\n",
    "              'sqft_lot15']\n",
    "\n",
    "kc_dtypes = {'id': int, 'date' : str,  'price': float, 'bedrooms' : int, 'bathrooms' : float, 'sqft_living': int, 'sqft_lot': int, 'floors': float, \n",
    "             'waterfront': float, 'view' : float, 'condition': float, 'grade': int, 'sqft_above': int, 'yr_built': int,\n",
    "             'yr_renovated': float, 'zipcode': float, 'lat': float, 'long': float, 'sqft_living15': int, 'sqft_lot15': int}\n",
    "\n",
    "kc_data = pd.read_csv('dsc-phase-2-project/data/kc_house_data.csv', dtype = kc_dtypes, parse_dates = ['date'])\n",
    "\n",
    "kc_data['sqft_basement'] = kc_data['sqft_basement'].astype(dtype=float, errors='ignore')\n",
    "\n",
    "# same drops\n",
    "kc_data = kc_data.drop('date', axis=1).copy() \n",
    "kc_data = kc_data.replace({ '?' : '0'}).copy()\n",
    "kc_data = kc_data.fillna('0').copy()\n",
    "\n",
    "\n",
    "kcy = kc_data['price'].to_frame()\n",
    "kcx = kc_data.drop('price', axis=1)\n",
    "\n",
    "#setting waterfront NaN values equal to the ratio of waterfront/non-waterfront properties, will want to try and narrow by zipcode \n",
    "#filling NaN with easily seperatable/changable values helpful \n",
    "kc_data['waterfront'] = kc_data['waterfront'].fillna(146/19221)\n",
    "kc_data['view'] = kc_data['view'].fillna((957 + (508*2) + (330*3) + (317*4))/21534)"
   ]
  },
  {
   "cell_type": "code",
   "execution_count": 96,
   "metadata": {},
   "outputs": [],
   "source": [
    "#Trying KNN\n",
    "# maybe try 60% train , 20% adj, 20% test?\n",
    "cv = KFold(n_splits=10)\n",
    "classifier_pipeline = make_pipeline(StandardScaler(), KNeighborsRegressor(n_neighbors=10))\n",
    "k_pred = cross_val_predict(classifier_pipeline, kcx, kcy, cv=5)"
   ]
  },
  {
   "cell_type": "code",
   "execution_count": 19,
   "metadata": {},
   "outputs": [
    {
     "name": "stdout",
     "output_type": "stream",
     "text": [
      "RMSE:  172283.49\n",
      "R Squared: 0.78\n",
      "Slope: price    0.711626\n",
      "dtype: float64\n"
     ]
    }
   ],
   "source": [
    "print('RMSE:  ' + str(round(sqrt(mean_squared_error(kcy, k_pred)), 2)))\n",
    "print('R Squared: ' + str(round(r2_score(kcy, k_pred), 2)))\n",
    "print('Slope: ' + str(calc_slope(kcy, k_pred)))"
   ]
  },
  {
   "cell_type": "code",
   "execution_count": 20,
   "metadata": {},
   "outputs": [
    {
     "data": {
      "text/plain": [
       "id               1.424928e+18\n",
       "price            1.349594e+11\n",
       "bedrooms         8.580296e-01\n",
       "bathrooms        5.913368e-01\n",
       "sqft_living      8.429189e+05\n",
       "sqft_lot         1.715006e+09\n",
       "floors           2.912575e-01\n",
       "condition        4.232096e-01\n",
       "grade            1.376397e+00\n",
       "sqft_above       6.851862e+05\n",
       "yr_built         8.629044e+02\n",
       "zipcode          2.863649e+03\n",
       "lat              1.919659e-02\n",
       "long             1.980311e-02\n",
       "sqft_living15    4.695408e+05\n",
       "sqft_lot15       7.438952e+08\n",
       "dtype: float64"
      ]
     },
     "execution_count": 20,
     "metadata": {},
     "output_type": "execute_result"
    }
   ],
   "source": [
    "kc_data.var()"
   ]
  },
  {
   "cell_type": "code",
   "execution_count": 21,
   "metadata": {},
   "outputs": [
    {
     "data": {
      "image/png": "[encoded data removed]",
      "text/plain": [
       "<Figure size 864x576 with 2 Axes>"
      ]
     },
     "metadata": {
      "needs_background": "light"
     },
     "output_type": "display_data"
    }
   ],
   "source": [
    "fig_dims = (12, 8)\n",
    "fig, ax = plt.subplots(figsize = fig_dims)\n",
    "sns.heatmap(kc_data.corr(), ax=ax)\n",
    "plt.show()"
   ]
  },
  {
   "cell_type": "code",
   "execution_count": 22,
   "metadata": {},
   "outputs": [],
   "source": [
    "#reassign to save space?\n",
    "# read data\n",
    "kc_columns = ['id', 'date', 'price', 'bedrooms', 'bathrooms', 'sqft_living', 'sqft_lot', 'floors', 'waterfront', 'view', \n",
    "              'condition', 'grade', 'sqft_above', 'sqft_basment', 'yr_built', 'yr_renovated', 'zipcode', 'lat', 'long', 'sqft_living15',\n",
    "              'sqft_lot15']\n",
    "\n",
    "kc_dtypes = {'id': int, 'date' : str,  'price': float, 'bedrooms' : int, 'bathrooms' : float, 'sqft_living': int, 'sqft_lot': int, 'floors': float, \n",
    "             'waterfront': float, 'view' : float, 'condition': float, 'grade': int, 'sqft_above': int, 'yr_built': int,\n",
    "             'yr_renovated': float, 'zipcode': float, 'lat': float, 'long': float, 'sqft_living15': int, 'sqft_lot15': int}\n",
    "\n",
    "kc_data = pd.read_csv('dsc-phase-2-project/data/kc_house_data.csv', dtype = kc_dtypes, parse_dates = ['date'])\n",
    "\n",
    "# new drop, hoping sqft_basement is what's giving me an error, which would make sense bc i cant assign it a dtype \n",
    "kc_data = kc_data.drop('date', axis=1).copy() \n",
    "kc_data = kc_data.drop('sqft_basement', axis=1).copy() \n",
    "kc_data = kc_data.fillna('0').copy()\n",
    "\n",
    "\n",
    "kcy = kc_data['price'].to_frame()\n",
    "kcx = kc_data.drop('price', axis=1)\n"
   ]
  },
  {
   "cell_type": "code",
   "execution_count": 23,
   "metadata": {},
   "outputs": [
    {
     "data": {
      "text/plain": [
       "15279      78000.0\n",
       "465        80000.0\n",
       "16184      81000.0\n",
       "8267       82000.0\n",
       "2139       82500.0\n",
       "           ...    \n",
       "1446     5350000.0\n",
       "4407     5570000.0\n",
       "9245     6890000.0\n",
       "3910     7060000.0\n",
       "7245     7700000.0\n",
       "Name: price, Length: 21597, dtype: float64"
      ]
     },
     "execution_count": 23,
     "metadata": {},
     "output_type": "execute_result"
    }
   ],
   "source": [
    "#kc_data.loc[kc_data['price'] == 0.0]\n",
    "kc_data['price'].sort_values()"
   ]
  },
  {
   "cell_type": "code",
   "execution_count": 24,
   "metadata": {},
   "outputs": [
    {
     "data": {
      "text/plain": [
       "id               0.009315\n",
       "price            1.000000\n",
       "bedrooms         0.308787\n",
       "bathrooms        0.525906\n",
       "sqft_living      0.701917\n",
       "sqft_lot         0.089876\n",
       "floors           0.256804\n",
       "condition        0.036056\n",
       "grade            0.667951\n",
       "sqft_above       0.605368\n",
       "yr_built         0.053953\n",
       "zipcode          0.053402\n",
       "lat              0.306692\n",
       "long             0.022036\n",
       "sqft_living15    0.585241\n",
       "sqft_lot15       0.082845\n",
       "Name: price, dtype: float64"
      ]
     },
     "execution_count": 24,
     "metadata": {},
     "output_type": "execute_result"
    }
   ],
   "source": [
    "abs(kc_data.corr()['price'])"
   ]
  },
  {
   "cell_type": "code",
   "execution_count": 25,
   "metadata": {},
   "outputs": [
    {
     "data": {
      "text/plain": [
       "['sqft_living']"
      ]
     },
     "execution_count": 25,
     "metadata": {},
     "output_type": "execute_result"
    }
   ],
   "source": [
    "abs(kc_data.corr())['price'][abs(kc_data.corr()['price'])>0.7].drop('price').index.tolist()"
   ]
  },
  {
   "cell_type": "code",
   "execution_count": 26,
   "metadata": {},
   "outputs": [
    {
     "name": "stdout",
     "output_type": "stream",
     "text": [
      "['bedrooms', 'bathrooms', 'sqft_living', 'floors', 'grade', 'sqft_above', 'lat', 'sqft_living15']\n",
      "RMSE:  195765.75\n",
      "R Squared: 0.72\n",
      "['bedrooms', 'bathrooms', 'sqft_living', 'floors', 'grade', 'sqft_above', 'lat', 'sqft_living15']\n",
      "RMSE:  195765.75\n",
      "R Squared: 0.72\n",
      "['bedrooms', 'bathrooms', 'sqft_living', 'grade', 'sqft_above', 'lat', 'sqft_living15']\n",
      "RMSE:  197788.25\n",
      "R Squared: 0.71\n",
      "['bathrooms', 'sqft_living', 'grade', 'sqft_above', 'sqft_living15']\n",
      "RMSE:  233598.39\n",
      "R Squared: 0.6\n",
      "['bathrooms', 'sqft_living', 'grade', 'sqft_above', 'sqft_living15']\n",
      "RMSE:  233598.39\n",
      "R Squared: 0.6\n",
      "['sqft_living', 'grade', 'sqft_above']\n",
      "RMSE:  239910.06\n",
      "R Squared: 0.57\n",
      "['sqft_living', 'grade']\n",
      "RMSE:  244892.09\n",
      "R Squared: 0.56\n"
     ]
    }
   ],
   "source": [
    "# rank features by correlation \n",
    "# 0.7 returning empty array, .65 best correlation we're getting \n",
    "\n",
    "vals = [0.1, 0.2, 0.3, 0.4, 0.5, 0.6, 0.65]\n",
    "\n",
    "for val in vals:\n",
    "    features = abs(kc_data.corr())['price'][abs(kc_data.corr()['price'])>val].drop('price').index.tolist()\n",
    "    \n",
    "    x = kc_data.drop(columns='price')\n",
    "    x = x[features]\n",
    "    \n",
    "    y_pred = cross_val_predict(classifier_pipeline, x, kcy, cv=cv)\n",
    "    \n",
    "    print(features)\n",
    "    print('RMSE:  ' + str(round(sqrt(mean_squared_error(kcy, y_pred)), 2)))\n",
    "    print('R Squared: ' + str(round(r2_score(kcy, y_pred), 2)))"
   ]
  },
  {
   "cell_type": "code",
   "execution_count": 27,
   "metadata": {},
   "outputs": [],
   "source": [
    "# feature selection using wrapper \n",
    "kc_data['sqft_living'] = kc_data['sqft_living'].astype('category')\n",
    "dummies = pd.get_dummies(kc_data['sqft_living'])\n",
    "kc_dum = kc_data.drop(columns='sqft_living').merge(dummies, left_index=True, right_index=True )"
   ]
  },
  {
   "cell_type": "code",
   "execution_count": 28,
   "metadata": {},
   "outputs": [],
   "source": [
    "sfs1 = SFS(classifier_pipeline,\n",
    "          k_features = 16,\n",
    "          forward = True,\n",
    "          scoring = 'neg_mean_squared_error',\n",
    "          cv=cv)"
   ]
  },
  {
   "cell_type": "code",
   "execution_count": 29,
   "metadata": {},
   "outputs": [
    {
     "name": "stderr",
     "output_type": "stream",
     "text": [
      "\n",
      "STOPPING EARLY DUE TO KEYBOARD INTERRUPT..."
     ]
    },
    {
     "data": {
      "text/plain": [
       "SequentialFeatureSelector(cv=KFold(n_splits=10, random_state=0, shuffle=False),\n",
       "                          estimator=Pipeline(steps=[('standardscaler',\n",
       "                                                     StandardScaler()),\n",
       "                                                    ('kneighborsregressor',\n",
       "                                                     KNeighborsRegressor(n_neighbors=10))]),\n",
       "                          k_features=16, scoring='neg_mean_squared_error')"
      ]
     },
     "execution_count": 29,
     "metadata": {},
     "output_type": "execute_result"
    }
   ],
   "source": [
    "sfs1.fit(kcx, kcy)"
   ]
  },
  {
   "cell_type": "code",
   "execution_count": 30,
   "metadata": {},
   "outputs": [
    {
     "data": {
      "text/plain": [
       "{1: {'feature_idx': (3,),\n",
       "  'cv_scores': array([-7.65405167e+10, -7.41621602e+10, -6.00211772e+10, -7.31923204e+10,\n",
       "         -5.76794073e+10, -6.87466628e+10, -6.59630158e+10, -6.81309984e+10,\n",
       "         -6.74036508e+10, -7.26405054e+10]),\n",
       "  'avg_score': -68448041485.20564,\n",
       "  'feature_names': ('sqft_living',)},\n",
       " 2: {'feature_idx': (3, 14),\n",
       "  'cv_scores': array([-4.94547308e+10, -4.94881853e+10, -3.64698522e+10, -4.71218952e+10,\n",
       "         -3.35471883e+10, -4.14561617e+10, -3.78249287e+10, -4.24308302e+10,\n",
       "         -4.08797554e+10, -4.30126042e+10]),\n",
       "  'avg_score': -42168613208.40287,\n",
       "  'feature_names': ('sqft_living', 'lat')},\n",
       " 3: {'feature_idx': (3, 14, 15),\n",
       "  'cv_scores': array([-3.28274617e+10, -3.27546516e+10, -2.33726538e+10, -3.19668174e+10,\n",
       "         -2.08911153e+10, -2.57394405e+10, -3.01327467e+10, -2.58881778e+10,\n",
       "         -3.12339151e+10, -2.84817233e+10]),\n",
       "  'avg_score': -28328870320.316357,\n",
       "  'feature_names': ('sqft_living', 'lat', 'long')},\n",
       " 4: {'feature_idx': (3, 6, 14, 15),\n",
       "  'cv_scores': array([-2.52752901e+10, -2.99620175e+10, -2.00725207e+10, -3.08226535e+10,\n",
       "         -2.06802333e+10, -1.96714256e+10, -2.40406984e+10, -2.39054983e+10,\n",
       "         -2.40944504e+10, -2.08824111e+10]),\n",
       "  'avg_score': -23940719894.005836,\n",
       "  'feature_names': ('sqft_living', 'waterfront', 'lat', 'long')}}"
      ]
     },
     "execution_count": 30,
     "metadata": {},
     "output_type": "execute_result"
    }
   ],
   "source": [
    "sfs1.subsets_"
   ]
  },
  {
   "cell_type": "code",
   "execution_count": 31,
   "metadata": {},
   "outputs": [
    {
     "name": "stdout",
     "output_type": "stream",
     "text": [
      "RMSE:  166435.19\n",
      "R Squared: 0.79\n"
     ]
    }
   ],
   "source": [
    "kcy = kc_data['price'].to_frame()\n",
    "kcx = kc_data.drop('price', axis=1)\n",
    "y_pred = cross_val_predict(classifier_pipeline, kcx, kcy, cv=cv)\n",
    "print('RMSE:  ' + str(round(sqrt(mean_squared_error(kcy, y_pred)), 2)))\n",
    "print('R Squared: ' + str(round(r2_score(kcy, y_pred), 2)))"
   ]
  },
  {
   "cell_type": "code",
   "execution_count": 32,
   "metadata": {},
   "outputs": [
    {
     "data": {
      "text/html": [
       "<div>\n",
       "<style scoped>\n",
       "    .dataframe tbody tr th:only-of-type {\n",
       "        vertical-align: middle;\n",
       "    }\n",
       "\n",
       "    .dataframe tbody tr th {\n",
       "        vertical-align: top;\n",
       "    }\n",
       "\n",
       "    .dataframe thead th {\n",
       "        text-align: right;\n",
       "    }\n",
       "</style>\n",
       "<table border=\"1\" class=\"dataframe\">\n",
       "  <thead>\n",
       "    <tr style=\"text-align: right;\">\n",
       "      <th></th>\n",
       "      <th>id</th>\n",
       "      <th>price</th>\n",
       "      <th>bedrooms</th>\n",
       "      <th>bathrooms</th>\n",
       "      <th>sqft_lot</th>\n",
       "      <th>floors</th>\n",
       "      <th>condition</th>\n",
       "      <th>grade</th>\n",
       "      <th>sqft_above</th>\n",
       "      <th>yr_built</th>\n",
       "      <th>zipcode</th>\n",
       "      <th>lat</th>\n",
       "      <th>long</th>\n",
       "      <th>sqft_living15</th>\n",
       "      <th>sqft_lot15</th>\n",
       "    </tr>\n",
       "  </thead>\n",
       "  <tbody>\n",
       "    <tr>\n",
       "      <th>id</th>\n",
       "      <td>1.000000</td>\n",
       "      <td>0.009315</td>\n",
       "      <td>-0.003970</td>\n",
       "      <td>-0.014791</td>\n",
       "      <td>0.014194</td>\n",
       "      <td>-0.010127</td>\n",
       "      <td>0.012977</td>\n",
       "      <td>0.004629</td>\n",
       "      <td>-0.012019</td>\n",
       "      <td>-0.030486</td>\n",
       "      <td>0.008591</td>\n",
       "      <td>0.016554</td>\n",
       "      <td>-0.032385</td>\n",
       "      <td>-0.005970</td>\n",
       "      <td>0.017982</td>\n",
       "    </tr>\n",
       "    <tr>\n",
       "      <th>price</th>\n",
       "      <td>0.009315</td>\n",
       "      <td>1.000000</td>\n",
       "      <td>0.308787</td>\n",
       "      <td>0.525906</td>\n",
       "      <td>0.089876</td>\n",
       "      <td>0.256804</td>\n",
       "      <td>0.036056</td>\n",
       "      <td>0.667951</td>\n",
       "      <td>0.605368</td>\n",
       "      <td>0.053953</td>\n",
       "      <td>-0.053402</td>\n",
       "      <td>0.306692</td>\n",
       "      <td>0.022036</td>\n",
       "      <td>0.585241</td>\n",
       "      <td>0.082845</td>\n",
       "    </tr>\n",
       "    <tr>\n",
       "      <th>bedrooms</th>\n",
       "      <td>-0.003970</td>\n",
       "      <td>0.308787</td>\n",
       "      <td>1.000000</td>\n",
       "      <td>0.514508</td>\n",
       "      <td>0.032471</td>\n",
       "      <td>0.177944</td>\n",
       "      <td>0.026496</td>\n",
       "      <td>0.356563</td>\n",
       "      <td>0.479386</td>\n",
       "      <td>0.155670</td>\n",
       "      <td>-0.154092</td>\n",
       "      <td>-0.009951</td>\n",
       "      <td>0.132054</td>\n",
       "      <td>0.393406</td>\n",
       "      <td>0.030690</td>\n",
       "    </tr>\n",
       "    <tr>\n",
       "      <th>bathrooms</th>\n",
       "      <td>-0.014791</td>\n",
       "      <td>0.525906</td>\n",
       "      <td>0.514508</td>\n",
       "      <td>1.000000</td>\n",
       "      <td>0.088373</td>\n",
       "      <td>0.502582</td>\n",
       "      <td>-0.126479</td>\n",
       "      <td>0.665838</td>\n",
       "      <td>0.686668</td>\n",
       "      <td>0.507173</td>\n",
       "      <td>-0.204786</td>\n",
       "      <td>0.024280</td>\n",
       "      <td>0.224903</td>\n",
       "      <td>0.569884</td>\n",
       "      <td>0.088303</td>\n",
       "    </tr>\n",
       "    <tr>\n",
       "      <th>sqft_lot</th>\n",
       "      <td>0.014194</td>\n",
       "      <td>0.089876</td>\n",
       "      <td>0.032471</td>\n",
       "      <td>0.088373</td>\n",
       "      <td>1.000000</td>\n",
       "      <td>-0.004814</td>\n",
       "      <td>-0.008830</td>\n",
       "      <td>0.114731</td>\n",
       "      <td>0.184139</td>\n",
       "      <td>0.052946</td>\n",
       "      <td>-0.129586</td>\n",
       "      <td>-0.085514</td>\n",
       "      <td>0.230227</td>\n",
       "      <td>0.144763</td>\n",
       "      <td>0.718204</td>\n",
       "    </tr>\n",
       "    <tr>\n",
       "      <th>floors</th>\n",
       "      <td>-0.010127</td>\n",
       "      <td>0.256804</td>\n",
       "      <td>0.177944</td>\n",
       "      <td>0.502582</td>\n",
       "      <td>-0.004814</td>\n",
       "      <td>1.000000</td>\n",
       "      <td>-0.264075</td>\n",
       "      <td>0.458794</td>\n",
       "      <td>0.523989</td>\n",
       "      <td>0.489193</td>\n",
       "      <td>-0.059541</td>\n",
       "      <td>0.049239</td>\n",
       "      <td>0.125943</td>\n",
       "      <td>0.280102</td>\n",
       "      <td>-0.010722</td>\n",
       "    </tr>\n",
       "    <tr>\n",
       "      <th>condition</th>\n",
       "      <td>0.012977</td>\n",
       "      <td>0.036056</td>\n",
       "      <td>0.026496</td>\n",
       "      <td>-0.126479</td>\n",
       "      <td>-0.008830</td>\n",
       "      <td>-0.264075</td>\n",
       "      <td>1.000000</td>\n",
       "      <td>-0.146896</td>\n",
       "      <td>-0.158904</td>\n",
       "      <td>-0.361592</td>\n",
       "      <td>0.002888</td>\n",
       "      <td>-0.015102</td>\n",
       "      <td>-0.105877</td>\n",
       "      <td>-0.093072</td>\n",
       "      <td>-0.003126</td>\n",
       "    </tr>\n",
       "    <tr>\n",
       "      <th>grade</th>\n",
       "      <td>0.004629</td>\n",
       "      <td>0.667951</td>\n",
       "      <td>0.356563</td>\n",
       "      <td>0.665838</td>\n",
       "      <td>0.114731</td>\n",
       "      <td>0.458794</td>\n",
       "      <td>-0.146896</td>\n",
       "      <td>1.000000</td>\n",
       "      <td>0.756073</td>\n",
       "      <td>0.447865</td>\n",
       "      <td>-0.185771</td>\n",
       "      <td>0.113575</td>\n",
       "      <td>0.200341</td>\n",
       "      <td>0.713867</td>\n",
       "      <td>0.120981</td>\n",
       "    </tr>\n",
       "    <tr>\n",
       "      <th>sqft_above</th>\n",
       "      <td>-0.012019</td>\n",
       "      <td>0.605368</td>\n",
       "      <td>0.479386</td>\n",
       "      <td>0.686668</td>\n",
       "      <td>0.184139</td>\n",
       "      <td>0.523989</td>\n",
       "      <td>-0.158904</td>\n",
       "      <td>0.756073</td>\n",
       "      <td>1.000000</td>\n",
       "      <td>0.424037</td>\n",
       "      <td>-0.261570</td>\n",
       "      <td>-0.001199</td>\n",
       "      <td>0.344842</td>\n",
       "      <td>0.731767</td>\n",
       "      <td>0.195077</td>\n",
       "    </tr>\n",
       "    <tr>\n",
       "      <th>yr_built</th>\n",
       "      <td>-0.030486</td>\n",
       "      <td>0.053953</td>\n",
       "      <td>0.155670</td>\n",
       "      <td>0.507173</td>\n",
       "      <td>0.052946</td>\n",
       "      <td>0.489193</td>\n",
       "      <td>-0.361592</td>\n",
       "      <td>0.447865</td>\n",
       "      <td>0.424037</td>\n",
       "      <td>1.000000</td>\n",
       "      <td>-0.347210</td>\n",
       "      <td>-0.148370</td>\n",
       "      <td>0.409993</td>\n",
       "      <td>0.326377</td>\n",
       "      <td>0.070777</td>\n",
       "    </tr>\n",
       "    <tr>\n",
       "      <th>zipcode</th>\n",
       "      <td>0.008591</td>\n",
       "      <td>-0.053402</td>\n",
       "      <td>-0.154092</td>\n",
       "      <td>-0.204786</td>\n",
       "      <td>-0.129586</td>\n",
       "      <td>-0.059541</td>\n",
       "      <td>0.002888</td>\n",
       "      <td>-0.185771</td>\n",
       "      <td>-0.261570</td>\n",
       "      <td>-0.347210</td>\n",
       "      <td>1.000000</td>\n",
       "      <td>0.266742</td>\n",
       "      <td>-0.564259</td>\n",
       "      <td>-0.279299</td>\n",
       "      <td>-0.147294</td>\n",
       "    </tr>\n",
       "    <tr>\n",
       "      <th>lat</th>\n",
       "      <td>0.016554</td>\n",
       "      <td>0.306692</td>\n",
       "      <td>-0.009951</td>\n",
       "      <td>0.024280</td>\n",
       "      <td>-0.085514</td>\n",
       "      <td>0.049239</td>\n",
       "      <td>-0.015102</td>\n",
       "      <td>0.113575</td>\n",
       "      <td>-0.001199</td>\n",
       "      <td>-0.148370</td>\n",
       "      <td>0.266742</td>\n",
       "      <td>1.000000</td>\n",
       "      <td>-0.135371</td>\n",
       "      <td>0.048679</td>\n",
       "      <td>-0.086139</td>\n",
       "    </tr>\n",
       "    <tr>\n",
       "      <th>long</th>\n",
       "      <td>-0.032385</td>\n",
       "      <td>0.022036</td>\n",
       "      <td>0.132054</td>\n",
       "      <td>0.224903</td>\n",
       "      <td>0.230227</td>\n",
       "      <td>0.125943</td>\n",
       "      <td>-0.105877</td>\n",
       "      <td>0.200341</td>\n",
       "      <td>0.344842</td>\n",
       "      <td>0.409993</td>\n",
       "      <td>-0.564259</td>\n",
       "      <td>-0.135371</td>\n",
       "      <td>1.000000</td>\n",
       "      <td>0.335626</td>\n",
       "      <td>0.255586</td>\n",
       "    </tr>\n",
       "    <tr>\n",
       "      <th>sqft_living15</th>\n",
       "      <td>-0.005970</td>\n",
       "      <td>0.585241</td>\n",
       "      <td>0.393406</td>\n",
       "      <td>0.569884</td>\n",
       "      <td>0.144763</td>\n",
       "      <td>0.280102</td>\n",
       "      <td>-0.093072</td>\n",
       "      <td>0.713867</td>\n",
       "      <td>0.731767</td>\n",
       "      <td>0.326377</td>\n",
       "      <td>-0.279299</td>\n",
       "      <td>0.048679</td>\n",
       "      <td>0.335626</td>\n",
       "      <td>1.000000</td>\n",
       "      <td>0.183515</td>\n",
       "    </tr>\n",
       "    <tr>\n",
       "      <th>sqft_lot15</th>\n",
       "      <td>0.017982</td>\n",
       "      <td>0.082845</td>\n",
       "      <td>0.030690</td>\n",
       "      <td>0.088303</td>\n",
       "      <td>0.718204</td>\n",
       "      <td>-0.010722</td>\n",
       "      <td>-0.003126</td>\n",
       "      <td>0.120981</td>\n",
       "      <td>0.195077</td>\n",
       "      <td>0.070777</td>\n",
       "      <td>-0.147294</td>\n",
       "      <td>-0.086139</td>\n",
       "      <td>0.255586</td>\n",
       "      <td>0.183515</td>\n",
       "      <td>1.000000</td>\n",
       "    </tr>\n",
       "  </tbody>\n",
       "</table>\n",
       "</div>"
      ],
      "text/plain": [
       "                     id     price  bedrooms  bathrooms  sqft_lot    floors  \\\n",
       "id             1.000000  0.009315 -0.003970  -0.014791  0.014194 -0.010127   \n",
       "price          0.009315  1.000000  0.308787   0.525906  0.089876  0.256804   \n",
       "bedrooms      -0.003970  0.308787  1.000000   0.514508  0.032471  0.177944   \n",
       "bathrooms     -0.014791  0.525906  0.514508   1.000000  0.088373  0.502582   \n",
       "sqft_lot       0.014194  0.089876  0.032471   0.088373  1.000000 -0.004814   \n",
       "floors        -0.010127  0.256804  0.177944   0.502582 -0.004814  1.000000   \n",
       "condition      0.012977  0.036056  0.026496  -0.126479 -0.008830 -0.264075   \n",
       "grade          0.004629  0.667951  0.356563   0.665838  0.114731  0.458794   \n",
       "sqft_above    -0.012019  0.605368  0.479386   0.686668  0.184139  0.523989   \n",
       "yr_built      -0.030486  0.053953  0.155670   0.507173  0.052946  0.489193   \n",
       "zipcode        0.008591 -0.053402 -0.154092  -0.204786 -0.129586 -0.059541   \n",
       "lat            0.016554  0.306692 -0.009951   0.024280 -0.085514  0.049239   \n",
       "long          -0.032385  0.022036  0.132054   0.224903  0.230227  0.125943   \n",
       "sqft_living15 -0.005970  0.585241  0.393406   0.569884  0.144763  0.280102   \n",
       "sqft_lot15     0.017982  0.082845  0.030690   0.088303  0.718204 -0.010722   \n",
       "\n",
       "               condition     grade  sqft_above  yr_built   zipcode       lat  \\\n",
       "id              0.012977  0.004629   -0.012019 -0.030486  0.008591  0.016554   \n",
       "price           0.036056  0.667951    0.605368  0.053953 -0.053402  0.306692   \n",
       "bedrooms        0.026496  0.356563    0.479386  0.155670 -0.154092 -0.009951   \n",
       "bathrooms      -0.126479  0.665838    0.686668  0.507173 -0.204786  0.024280   \n",
       "sqft_lot       -0.008830  0.114731    0.184139  0.052946 -0.129586 -0.085514   \n",
       "floors         -0.264075  0.458794    0.523989  0.489193 -0.059541  0.049239   \n",
       "condition       1.000000 -0.146896   -0.158904 -0.361592  0.002888 -0.015102   \n",
       "grade          -0.146896  1.000000    0.756073  0.447865 -0.185771  0.113575   \n",
       "sqft_above     -0.158904  0.756073    1.000000  0.424037 -0.261570 -0.001199   \n",
       "yr_built       -0.361592  0.447865    0.424037  1.000000 -0.347210 -0.148370   \n",
       "zipcode         0.002888 -0.185771   -0.261570 -0.347210  1.000000  0.266742   \n",
       "lat            -0.015102  0.113575   -0.001199 -0.148370  0.266742  1.000000   \n",
       "long           -0.105877  0.200341    0.344842  0.409993 -0.564259 -0.135371   \n",
       "sqft_living15  -0.093072  0.713867    0.731767  0.326377 -0.279299  0.048679   \n",
       "sqft_lot15     -0.003126  0.120981    0.195077  0.070777 -0.147294 -0.086139   \n",
       "\n",
       "                   long  sqft_living15  sqft_lot15  \n",
       "id            -0.032385      -0.005970    0.017982  \n",
       "price          0.022036       0.585241    0.082845  \n",
       "bedrooms       0.132054       0.393406    0.030690  \n",
       "bathrooms      0.224903       0.569884    0.088303  \n",
       "sqft_lot       0.230227       0.144763    0.718204  \n",
       "floors         0.125943       0.280102   -0.010722  \n",
       "condition     -0.105877      -0.093072   -0.003126  \n",
       "grade          0.200341       0.713867    0.120981  \n",
       "sqft_above     0.344842       0.731767    0.195077  \n",
       "yr_built       0.409993       0.326377    0.070777  \n",
       "zipcode       -0.564259      -0.279299   -0.147294  \n",
       "lat           -0.135371       0.048679   -0.086139  \n",
       "long           1.000000       0.335626    0.255586  \n",
       "sqft_living15  0.335626       1.000000    0.183515  \n",
       "sqft_lot15     0.255586       0.183515    1.000000  "
      ]
     },
     "execution_count": 32,
     "metadata": {},
     "output_type": "execute_result"
    }
   ],
   "source": [
    "kc_data.corr()"
   ]
  },
  {
   "cell_type": "code",
   "execution_count": 65,
   "metadata": {},
   "outputs": [],
   "source": [
    "# read data\n",
    "kc_columns = ['id', 'date', 'price', 'bedrooms', 'bathrooms', 'sqft_living', 'sqft_lot', 'floors', 'waterfront', 'view', \n",
    "              'condition', 'grade', 'sqft_above', 'sqft_basment', 'yr_built', 'yr_renovated', 'zipcode', 'lat', 'long', 'sqft_living15',\n",
    "              'sqft_lot15']\n",
    "\n",
    "kc_dtypes = {'id': int, 'date' : str,  'price': float, 'bedrooms' : int, 'bathrooms' : float, 'sqft_living': int, 'sqft_lot': int, 'floors': float, \n",
    "             'waterfront': float, 'view' : float, 'condition': float, 'grade': int, 'sqft_above': int, 'yr_built': int,\n",
    "             'yr_renovated': float, 'zipcode': float, 'lat': float, 'long': float, 'sqft_living15': int, 'sqft_lot15': int}\n",
    "\n",
    "kc_data = pd.read_csv('dsc-phase-2-project/data/kc_house_data.csv', dtype = kc_dtypes, parse_dates = ['date'])\n",
    "\n",
    "kc_data['sqft_basement'] = kc_data['sqft_basement'].replace({'?': 0})\n",
    "kc_data['sqft_basement'] = kc_data['sqft_basement'].astype(dtype=float, errors='ignore')"
   ]
  },
  {
   "cell_type": "code",
   "execution_count": 66,
   "metadata": {},
   "outputs": [],
   "source": [
    "#setting waterfront NaN values equal to the ratio of waterfront/non-waterfront properties, will want to try and narrow by zipcode \n",
    "#filling NaN with easily seperatable/changable values helpful \n",
    "kc_data['waterfront'] = kc_data['waterfront'].fillna(146/19221)\n",
    "kc_data['view'] = kc_data['view'].fillna((957 + (508*2) + (330*3) + (317*4))/21534)\n",
    "kc_data['yr_renovated'] = kc_data['waterfront'].fillna(0)"
   ]
  },
  {
   "cell_type": "code",
   "execution_count": 67,
   "metadata": {},
   "outputs": [],
   "source": [
    "z_score = stats.zscore(kc_data[['sqft_basement']])\n",
    "abs_z_score = np.abs(z_score)\n",
    "filtered_entries = (abs_z_score < 3).all(axis=1)\n",
    "kc_data['sqft_basement'] = kc_data['sqft_basement'][filtered_entries]\n",
    "kc_data = kc_data.dropna(axis=0)"
   ]
  },
  {
   "cell_type": "code",
   "execution_count": 68,
   "metadata": {},
   "outputs": [],
   "source": [
    "z_score = stats.zscore(kc_data[['sqft_basement']])\n",
    "abs_z_score = np.abs(z_score)\n",
    "filtered_entries = (abs_z_score < 3).all(axis=1)\n",
    "kc_data['sqft_above'] = kc_data['sqft_above'][filtered_entries]\n",
    "kc_data = kc_data.dropna(axis=0)"
   ]
  },
  {
   "cell_type": "code",
   "execution_count": 69,
   "metadata": {},
   "outputs": [],
   "source": [
    "# filtering out outliers, any price higher or lower than 3 standard deviations away from the mean \n",
    "z_score = stats.zscore(kc_data[['price']])\n",
    "abs_z_score = np.abs(z_score)\n",
    "filtered_entries = (abs_z_score < 3).all(axis=1)\n",
    "kc_data['price'] = kc_data['price'][filtered_entries]\n",
    "kc_data = kc_data.dropna(axis=0)"
   ]
  },
  {
   "cell_type": "code",
   "execution_count": 71,
   "metadata": {},
   "outputs": [],
   "source": [
    "kcy = kc_data['price'].to_frame()\n",
    "kcx = kc_data[['bedrooms', 'bathrooms', 'sqft_living', 'sqft_lot', 'floors', 'waterfront', 'view', \n",
    "              'condition', 'grade', 'sqft_above', 'sqft_basement', 'yr_built', 'yr_renovated', 'zipcode', 'lat', 'long', 'sqft_living15',\n",
    "              'sqft_lot15']]"
   ]
  },
  {
   "cell_type": "code",
   "execution_count": 72,
   "metadata": {},
   "outputs": [
    {
     "name": "stdout",
     "output_type": "stream",
     "text": [
      "<class 'pandas.core.frame.DataFrame'>\n",
      "Int64Index: 20795 entries, 0 to 21596\n",
      "Data columns (total 1 columns):\n",
      " #   Column  Non-Null Count  Dtype  \n",
      "---  ------  --------------  -----  \n",
      " 0   price   20795 non-null  float64\n",
      "dtypes: float64(1)\n",
      "memory usage: 324.9 KB\n"
     ]
    }
   ],
   "source": [
    "kcy.info()"
   ]
  },
  {
   "cell_type": "code",
   "execution_count": 73,
   "metadata": {},
   "outputs": [],
   "source": [
    "reg = linear_model.LinearRegression()"
   ]
  },
  {
   "cell_type": "code",
   "execution_count": 74,
   "metadata": {},
   "outputs": [],
   "source": [
    "x_train, x_test, y_train, y_test = train_test_split(kcx, kcy, test_size=0.2, random_state=42)"
   ]
  },
  {
   "cell_type": "code",
   "execution_count": 75,
   "metadata": {},
   "outputs": [
    {
     "data": {
      "text/plain": [
       "LinearRegression()"
      ]
     },
     "execution_count": 75,
     "metadata": {},
     "output_type": "execute_result"
    }
   ],
   "source": [
    "reg.fit(x_train, y_train)"
   ]
  },
  {
   "cell_type": "code",
   "execution_count": 76,
   "metadata": {},
   "outputs": [
    {
     "name": "stdout",
     "output_type": "stream",
     "text": [
      "[[-1.20253555e+04  2.83430557e+04  8.18099485e+01  1.92936378e-01\n",
      "   3.75942970e+04  1.08137188e+05  4.08941211e+04  2.40277658e+04\n",
      "   8.51828538e+04  6.46450766e+00  7.34615292e+00 -2.22134641e+03\n",
      "   1.08137188e+05 -3.07199757e+02  5.59768129e+05 -8.53983561e+04\n",
      "   4.61911401e+01 -1.51607712e-01]]\n"
     ]
    }
   ],
   "source": [
    "print(reg.coef_)"
   ]
  },
  {
   "cell_type": "code",
   "execution_count": 77,
   "metadata": {},
   "outputs": [
    {
     "data": {
      "text/plain": [
       "array([[614275.91184689],\n",
       "       [305183.3546038 ],\n",
       "       [517331.52444324],\n",
       "       ...,\n",
       "       [180761.35158693],\n",
       "       [958046.96071214],\n",
       "       [223726.37163306]])"
      ]
     },
     "execution_count": 77,
     "metadata": {},
     "output_type": "execute_result"
    }
   ],
   "source": [
    "# print test data predictions \n",
    "y_pred = reg.predict(x_test)\n",
    "y_pred"
   ]
  },
  {
   "cell_type": "code",
   "execution_count": 78,
   "metadata": {},
   "outputs": [
    {
     "data": {
      "text/html": [
       "<div>\n",
       "<style scoped>\n",
       "    .dataframe tbody tr th:only-of-type {\n",
       "        vertical-align: middle;\n",
       "    }\n",
       "\n",
       "    .dataframe tbody tr th {\n",
       "        vertical-align: top;\n",
       "    }\n",
       "\n",
       "    .dataframe thead th {\n",
       "        text-align: right;\n",
       "    }\n",
       "</style>\n",
       "<table border=\"1\" class=\"dataframe\">\n",
       "  <thead>\n",
       "    <tr style=\"text-align: right;\">\n",
       "      <th></th>\n",
       "      <th>price</th>\n",
       "    </tr>\n",
       "  </thead>\n",
       "  <tbody>\n",
       "    <tr>\n",
       "      <th>5238</th>\n",
       "      <td>382000.0</td>\n",
       "    </tr>\n",
       "    <tr>\n",
       "      <th>9453</th>\n",
       "      <td>310000.0</td>\n",
       "    </tr>\n",
       "    <tr>\n",
       "      <th>20025</th>\n",
       "      <td>975000.0</td>\n",
       "    </tr>\n",
       "    <tr>\n",
       "      <th>15920</th>\n",
       "      <td>745000.0</td>\n",
       "    </tr>\n",
       "    <tr>\n",
       "      <th>5421</th>\n",
       "      <td>780000.0</td>\n",
       "    </tr>\n",
       "    <tr>\n",
       "      <th>...</th>\n",
       "      <td>...</td>\n",
       "    </tr>\n",
       "    <tr>\n",
       "      <th>4871</th>\n",
       "      <td>498800.0</td>\n",
       "    </tr>\n",
       "    <tr>\n",
       "      <th>3550</th>\n",
       "      <td>277500.0</td>\n",
       "    </tr>\n",
       "    <tr>\n",
       "      <th>14986</th>\n",
       "      <td>289000.0</td>\n",
       "    </tr>\n",
       "    <tr>\n",
       "      <th>4637</th>\n",
       "      <td>898000.0</td>\n",
       "    </tr>\n",
       "    <tr>\n",
       "      <th>7100</th>\n",
       "      <td>295000.0</td>\n",
       "    </tr>\n",
       "  </tbody>\n",
       "</table>\n",
       "<p>4159 rows × 1 columns</p>\n",
       "</div>"
      ],
      "text/plain": [
       "          price\n",
       "5238   382000.0\n",
       "9453   310000.0\n",
       "20025  975000.0\n",
       "15920  745000.0\n",
       "5421   780000.0\n",
       "...         ...\n",
       "4871   498800.0\n",
       "3550   277500.0\n",
       "14986  289000.0\n",
       "4637   898000.0\n",
       "7100   295000.0\n",
       "\n",
       "[4159 rows x 1 columns]"
      ]
     },
     "execution_count": 78,
     "metadata": {},
     "output_type": "execute_result"
    }
   ],
   "source": [
    "#print vaalues\n",
    "y_test"
   ]
  },
  {
   "cell_type": "code",
   "execution_count": 79,
   "metadata": {},
   "outputs": [
    {
     "name": "stdout",
     "output_type": "stream",
     "text": [
      "price    1.801010e+10\n",
      "dtype: float64\n"
     ]
    }
   ],
   "source": [
    "# check accuracy with mean sq \n",
    "print(np.mean((y_pred - y_test)**2))"
   ]
  },
  {
   "cell_type": "code",
   "execution_count": 80,
   "metadata": {},
   "outputs": [
    {
     "name": "stdout",
     "output_type": "stream",
     "text": [
      "18010104231.78156\n"
     ]
    }
   ],
   "source": [
    "# check accuracy with mean sq \n",
    "print(mean_squared_error(y_test, y_pred))\n",
    "# still bad but a LOT better"
   ]
  },
  {
   "cell_type": "code",
   "execution_count": 81,
   "metadata": {},
   "outputs": [
    {
     "name": "stderr",
     "output_type": "stream",
     "text": [
      "C:\\Users\\fenne\\anaconda3\\lib\\site-packages\\sklearn\\model_selection\\_split.py:293: FutureWarning: Setting a random_state has no effect since shuffle is False. This will raise an error in 0.24. You should leave random_state to its default (None), or set shuffle=True.\n",
      "  warnings.warn(\n"
     ]
    }
   ],
   "source": [
    "#Trying KNN\n",
    "# maybe try 60% train , 20% adj, 20% test?\n",
    "cv = KFold(n_splits=10, random_state=0)\n",
    "classifier_pipeline = make_pipeline(StandardScaler(), KNeighborsRegressor(n_neighbors=10))\n",
    "k_pred = cross_val_predict(classifier_pipeline, kcx, kcy, cv=5)"
   ]
  },
  {
   "cell_type": "code",
   "execution_count": 82,
   "metadata": {},
   "outputs": [
    {
     "name": "stdout",
     "output_type": "stream",
     "text": [
      "RMSE:  112611.16\n",
      "R Squared: 0.79\n",
      "Slope: price    0.757267\n",
      "dtype: float64\n"
     ]
    }
   ],
   "source": [
    "print('RMSE:  ' + str(round(sqrt(mean_squared_error(kcy, k_pred)), 2)))\n",
    "print('R Squared: ' + str(round(r2_score(kcy, k_pred), 2)))\n",
    "print('Slope: ' + str(calc_slope(kcy, k_pred)))"
   ]
  },
  {
   "cell_type": "code",
   "execution_count": 83,
   "metadata": {},
   "outputs": [
    {
     "data": {
      "text/plain": [
       "id               1.426437e+18\n",
       "price            5.956067e+10\n",
       "bedrooms         8.218647e-01\n",
       "bathrooms        5.224567e-01\n",
       "sqft_living      6.285137e+05\n",
       "sqft_lot         1.538795e+09\n",
       "floors           2.899906e-01\n",
       "waterfront       3.450409e-03\n",
       "view             4.498414e-01\n",
       "condition        4.187852e-01\n",
       "grade            1.177307e+00\n",
       "sqft_above       5.786675e+05\n",
       "sqft_basement    1.476807e+05\n",
       "yr_built         8.640734e+02\n",
       "yr_renovated     3.450409e-03\n",
       "zipcode          2.841101e+03\n",
       "lat              1.957790e-02\n",
       "long             2.010402e-02\n",
       "sqft_living15    4.093212e+05\n",
       "sqft_lot15       6.468731e+08\n",
       "dtype: float64"
      ]
     },
     "execution_count": 83,
     "metadata": {},
     "output_type": "execute_result"
    }
   ],
   "source": [
    "kc_data.var()"
   ]
  },
  {
   "cell_type": "code",
   "execution_count": 84,
   "metadata": {},
   "outputs": [
    {
     "data": {
      "image/png": "[encoded data removed]",
      "text/plain": [
       "<Figure size 864x576 with 2 Axes>"
      ]
     },
     "metadata": {
      "needs_background": "light"
     },
     "output_type": "display_data"
    }
   ],
   "source": [
    "fig_dims = (12, 8)\n",
    "fig, ax = plt.subplots(figsize = fig_dims)\n",
    "sns.heatmap(kc_data.corr(), ax=ax)\n",
    "plt.show()"
   ]
  },
  {
   "cell_type": "code",
   "execution_count": 85,
   "metadata": {},
   "outputs": [
    {
     "data": {
      "text/plain": [
       "price            1.000000\n",
       "grade            0.660759\n",
       "sqft_living      0.650119\n",
       "sqft_living15    0.580515\n",
       "sqft_above       0.561723\n",
       "bathrooms        0.478876\n",
       "lat              0.398403\n",
       "bedrooms         0.300396\n",
       "floors           0.295103\n",
       "view             0.285272\n",
       "sqft_basement    0.221662\n",
       "yr_renovated     0.085721\n",
       "waterfront       0.085721\n",
       "sqft_lot         0.081222\n",
       "sqft_lot15       0.072784\n",
       "yr_built         0.057076\n",
       "long             0.048020\n",
       "condition        0.028043\n",
       "zipcode          0.019490\n",
       "id               0.005672\n",
       "Name: price, dtype: float64"
      ]
     },
     "execution_count": 85,
     "metadata": {},
     "output_type": "execute_result"
    }
   ],
   "source": [
    "abs(kc_data.corr()['price']).sort_values(ascending=False)"
   ]
  },
  {
   "cell_type": "code",
   "execution_count": 86,
   "metadata": {},
   "outputs": [
    {
     "name": "stdout",
     "output_type": "stream",
     "text": [
      "['bedrooms', 'bathrooms', 'sqft_living', 'floors', 'view', 'grade', 'sqft_above', 'sqft_basement', 'lat', 'sqft_living15']\n",
      "RMSE:  121253.15\n",
      "R Squared: 0.75\n",
      "['bedrooms', 'bathrooms', 'sqft_living', 'floors', 'view', 'grade', 'sqft_above', 'sqft_basement', 'lat', 'sqft_living15']\n",
      "RMSE:  121253.15\n",
      "R Squared: 0.75\n",
      "['bedrooms', 'bathrooms', 'sqft_living', 'grade', 'sqft_above', 'lat', 'sqft_living15']\n",
      "RMSE:  122820.45\n",
      "R Squared: 0.75\n",
      "['bathrooms', 'sqft_living', 'grade', 'sqft_above', 'sqft_living15']\n",
      "RMSE:  167535.96\n",
      "R Squared: 0.53\n",
      "['sqft_living', 'grade', 'sqft_above', 'sqft_living15']\n",
      "RMSE:  170404.44\n",
      "R Squared: 0.51\n",
      "['sqft_living', 'grade']\n",
      "RMSE:  179224.7\n",
      "R Squared: 0.46\n"
     ]
    }
   ],
   "source": [
    "# rank features by correlation \n",
    "# 0.7 returning empty array, .6 best correlation we're getting \n",
    "\n",
    "vals = [0.1, 0.2, 0.3, 0.4, 0.5, 0.6]\n",
    "\n",
    "for val in vals:\n",
    "    features = abs(kc_data.corr())['price'][abs(kc_data.corr()['price'])>val].drop('price').index.tolist()\n",
    "    \n",
    "    x = kc_data.drop(columns='price')\n",
    "    x = x[features]\n",
    "    \n",
    "    y_pred = cross_val_predict(classifier_pipeline, x, kcy, cv=cv)\n",
    "    \n",
    "    print(features)\n",
    "    print('RMSE:  ' + str(round(sqrt(mean_squared_error(kcy, y_pred)), 2)))\n",
    "    print('R Squared: ' + str(round(r2_score(kcy, y_pred), 2)))"
   ]
  },
  {
   "cell_type": "code",
   "execution_count": 87,
   "metadata": {},
   "outputs": [],
   "source": [
    "# feature selection using wrapper \n",
    "kc_data['sqft_living'] = kc_data['sqft_living'].astype('category')\n",
    "dummies = pd.get_dummies(kc_data['sqft_living'])\n",
    "kc_dum = kc_data.drop(columns='sqft_living').merge(dummies, left_index=True, right_index=True )"
   ]
  },
  {
   "cell_type": "code",
   "execution_count": 88,
   "metadata": {},
   "outputs": [],
   "source": [
    "sfs1 = SFS(classifier_pipeline,\n",
    "          k_features = 18,\n",
    "          forward = True,\n",
    "          scoring = 'neg_mean_squared_error',\n",
    "          cv=cv)"
   ]
  },
  {
   "cell_type": "code",
   "execution_count": 89,
   "metadata": {},
   "outputs": [
    {
     "data": {
      "text/html": [
       "<div>\n",
       "<style scoped>\n",
       "    .dataframe tbody tr th:only-of-type {\n",
       "        vertical-align: middle;\n",
       "    }\n",
       "\n",
       "    .dataframe tbody tr th {\n",
       "        vertical-align: top;\n",
       "    }\n",
       "\n",
       "    .dataframe thead th {\n",
       "        text-align: right;\n",
       "    }\n",
       "</style>\n",
       "<table border=\"1\" class=\"dataframe\">\n",
       "  <thead>\n",
       "    <tr style=\"text-align: right;\">\n",
       "      <th></th>\n",
       "      <th>bedrooms</th>\n",
       "      <th>bathrooms</th>\n",
       "      <th>sqft_living</th>\n",
       "      <th>sqft_lot</th>\n",
       "      <th>floors</th>\n",
       "      <th>waterfront</th>\n",
       "      <th>view</th>\n",
       "      <th>condition</th>\n",
       "      <th>grade</th>\n",
       "      <th>sqft_above</th>\n",
       "      <th>sqft_basement</th>\n",
       "      <th>yr_built</th>\n",
       "      <th>yr_renovated</th>\n",
       "      <th>zipcode</th>\n",
       "      <th>lat</th>\n",
       "      <th>long</th>\n",
       "      <th>sqft_living15</th>\n",
       "      <th>sqft_lot15</th>\n",
       "    </tr>\n",
       "  </thead>\n",
       "  <tbody>\n",
       "    <tr>\n",
       "      <th>0</th>\n",
       "      <td>3</td>\n",
       "      <td>1.00</td>\n",
       "      <td>1180</td>\n",
       "      <td>5650</td>\n",
       "      <td>1.0</td>\n",
       "      <td>0.007596</td>\n",
       "      <td>0.0</td>\n",
       "      <td>3.0</td>\n",
       "      <td>7</td>\n",
       "      <td>1180.0</td>\n",
       "      <td>0.0</td>\n",
       "      <td>1955</td>\n",
       "      <td>0.007596</td>\n",
       "      <td>98178.0</td>\n",
       "      <td>47.5112</td>\n",
       "      <td>-122.257</td>\n",
       "      <td>1340</td>\n",
       "      <td>5650</td>\n",
       "    </tr>\n",
       "    <tr>\n",
       "      <th>1</th>\n",
       "      <td>3</td>\n",
       "      <td>2.25</td>\n",
       "      <td>2570</td>\n",
       "      <td>7242</td>\n",
       "      <td>2.0</td>\n",
       "      <td>0.000000</td>\n",
       "      <td>0.0</td>\n",
       "      <td>3.0</td>\n",
       "      <td>7</td>\n",
       "      <td>2170.0</td>\n",
       "      <td>400.0</td>\n",
       "      <td>1951</td>\n",
       "      <td>0.000000</td>\n",
       "      <td>98125.0</td>\n",
       "      <td>47.7210</td>\n",
       "      <td>-122.319</td>\n",
       "      <td>1690</td>\n",
       "      <td>7639</td>\n",
       "    </tr>\n",
       "    <tr>\n",
       "      <th>2</th>\n",
       "      <td>2</td>\n",
       "      <td>1.00</td>\n",
       "      <td>770</td>\n",
       "      <td>10000</td>\n",
       "      <td>1.0</td>\n",
       "      <td>0.000000</td>\n",
       "      <td>0.0</td>\n",
       "      <td>3.0</td>\n",
       "      <td>6</td>\n",
       "      <td>770.0</td>\n",
       "      <td>0.0</td>\n",
       "      <td>1933</td>\n",
       "      <td>0.000000</td>\n",
       "      <td>98028.0</td>\n",
       "      <td>47.7379</td>\n",
       "      <td>-122.233</td>\n",
       "      <td>2720</td>\n",
       "      <td>8062</td>\n",
       "    </tr>\n",
       "    <tr>\n",
       "      <th>3</th>\n",
       "      <td>4</td>\n",
       "      <td>3.00</td>\n",
       "      <td>1960</td>\n",
       "      <td>5000</td>\n",
       "      <td>1.0</td>\n",
       "      <td>0.000000</td>\n",
       "      <td>0.0</td>\n",
       "      <td>5.0</td>\n",
       "      <td>7</td>\n",
       "      <td>1050.0</td>\n",
       "      <td>910.0</td>\n",
       "      <td>1965</td>\n",
       "      <td>0.000000</td>\n",
       "      <td>98136.0</td>\n",
       "      <td>47.5208</td>\n",
       "      <td>-122.393</td>\n",
       "      <td>1360</td>\n",
       "      <td>5000</td>\n",
       "    </tr>\n",
       "    <tr>\n",
       "      <th>4</th>\n",
       "      <td>3</td>\n",
       "      <td>2.00</td>\n",
       "      <td>1680</td>\n",
       "      <td>8080</td>\n",
       "      <td>1.0</td>\n",
       "      <td>0.000000</td>\n",
       "      <td>0.0</td>\n",
       "      <td>3.0</td>\n",
       "      <td>8</td>\n",
       "      <td>1680.0</td>\n",
       "      <td>0.0</td>\n",
       "      <td>1987</td>\n",
       "      <td>0.000000</td>\n",
       "      <td>98074.0</td>\n",
       "      <td>47.6168</td>\n",
       "      <td>-122.045</td>\n",
       "      <td>1800</td>\n",
       "      <td>7503</td>\n",
       "    </tr>\n",
       "    <tr>\n",
       "      <th>...</th>\n",
       "      <td>...</td>\n",
       "      <td>...</td>\n",
       "      <td>...</td>\n",
       "      <td>...</td>\n",
       "      <td>...</td>\n",
       "      <td>...</td>\n",
       "      <td>...</td>\n",
       "      <td>...</td>\n",
       "      <td>...</td>\n",
       "      <td>...</td>\n",
       "      <td>...</td>\n",
       "      <td>...</td>\n",
       "      <td>...</td>\n",
       "      <td>...</td>\n",
       "      <td>...</td>\n",
       "      <td>...</td>\n",
       "      <td>...</td>\n",
       "      <td>...</td>\n",
       "    </tr>\n",
       "    <tr>\n",
       "      <th>21592</th>\n",
       "      <td>3</td>\n",
       "      <td>2.50</td>\n",
       "      <td>1530</td>\n",
       "      <td>1131</td>\n",
       "      <td>3.0</td>\n",
       "      <td>0.000000</td>\n",
       "      <td>0.0</td>\n",
       "      <td>3.0</td>\n",
       "      <td>8</td>\n",
       "      <td>1530.0</td>\n",
       "      <td>0.0</td>\n",
       "      <td>2009</td>\n",
       "      <td>0.000000</td>\n",
       "      <td>98103.0</td>\n",
       "      <td>47.6993</td>\n",
       "      <td>-122.346</td>\n",
       "      <td>1530</td>\n",
       "      <td>1509</td>\n",
       "    </tr>\n",
       "    <tr>\n",
       "      <th>21593</th>\n",
       "      <td>4</td>\n",
       "      <td>2.50</td>\n",
       "      <td>2310</td>\n",
       "      <td>5813</td>\n",
       "      <td>2.0</td>\n",
       "      <td>0.000000</td>\n",
       "      <td>0.0</td>\n",
       "      <td>3.0</td>\n",
       "      <td>8</td>\n",
       "      <td>2310.0</td>\n",
       "      <td>0.0</td>\n",
       "      <td>2014</td>\n",
       "      <td>0.000000</td>\n",
       "      <td>98146.0</td>\n",
       "      <td>47.5107</td>\n",
       "      <td>-122.362</td>\n",
       "      <td>1830</td>\n",
       "      <td>7200</td>\n",
       "    </tr>\n",
       "    <tr>\n",
       "      <th>21594</th>\n",
       "      <td>2</td>\n",
       "      <td>0.75</td>\n",
       "      <td>1020</td>\n",
       "      <td>1350</td>\n",
       "      <td>2.0</td>\n",
       "      <td>0.000000</td>\n",
       "      <td>0.0</td>\n",
       "      <td>3.0</td>\n",
       "      <td>7</td>\n",
       "      <td>1020.0</td>\n",
       "      <td>0.0</td>\n",
       "      <td>2009</td>\n",
       "      <td>0.000000</td>\n",
       "      <td>98144.0</td>\n",
       "      <td>47.5944</td>\n",
       "      <td>-122.299</td>\n",
       "      <td>1020</td>\n",
       "      <td>2007</td>\n",
       "    </tr>\n",
       "    <tr>\n",
       "      <th>21595</th>\n",
       "      <td>3</td>\n",
       "      <td>2.50</td>\n",
       "      <td>1600</td>\n",
       "      <td>2388</td>\n",
       "      <td>2.0</td>\n",
       "      <td>0.007596</td>\n",
       "      <td>0.0</td>\n",
       "      <td>3.0</td>\n",
       "      <td>8</td>\n",
       "      <td>1600.0</td>\n",
       "      <td>0.0</td>\n",
       "      <td>2004</td>\n",
       "      <td>0.007596</td>\n",
       "      <td>98027.0</td>\n",
       "      <td>47.5345</td>\n",
       "      <td>-122.069</td>\n",
       "      <td>1410</td>\n",
       "      <td>1287</td>\n",
       "    </tr>\n",
       "    <tr>\n",
       "      <th>21596</th>\n",
       "      <td>2</td>\n",
       "      <td>0.75</td>\n",
       "      <td>1020</td>\n",
       "      <td>1076</td>\n",
       "      <td>2.0</td>\n",
       "      <td>0.000000</td>\n",
       "      <td>0.0</td>\n",
       "      <td>3.0</td>\n",
       "      <td>7</td>\n",
       "      <td>1020.0</td>\n",
       "      <td>0.0</td>\n",
       "      <td>2008</td>\n",
       "      <td>0.000000</td>\n",
       "      <td>98144.0</td>\n",
       "      <td>47.5941</td>\n",
       "      <td>-122.299</td>\n",
       "      <td>1020</td>\n",
       "      <td>1357</td>\n",
       "    </tr>\n",
       "  </tbody>\n",
       "</table>\n",
       "<p>20795 rows × 18 columns</p>\n",
       "</div>"
      ],
      "text/plain": [
       "       bedrooms  bathrooms  sqft_living  sqft_lot  floors  waterfront  view  \\\n",
       "0             3       1.00         1180      5650     1.0    0.007596   0.0   \n",
       "1             3       2.25         2570      7242     2.0    0.000000   0.0   \n",
       "2             2       1.00          770     10000     1.0    0.000000   0.0   \n",
       "3             4       3.00         1960      5000     1.0    0.000000   0.0   \n",
       "4             3       2.00         1680      8080     1.0    0.000000   0.0   \n",
       "...         ...        ...          ...       ...     ...         ...   ...   \n",
       "21592         3       2.50         1530      1131     3.0    0.000000   0.0   \n",
       "21593         4       2.50         2310      5813     2.0    0.000000   0.0   \n",
       "21594         2       0.75         1020      1350     2.0    0.000000   0.0   \n",
       "21595         3       2.50         1600      2388     2.0    0.007596   0.0   \n",
       "21596         2       0.75         1020      1076     2.0    0.000000   0.0   \n",
       "\n",
       "       condition  grade  sqft_above  sqft_basement  yr_built  yr_renovated  \\\n",
       "0            3.0      7      1180.0            0.0      1955      0.007596   \n",
       "1            3.0      7      2170.0          400.0      1951      0.000000   \n",
       "2            3.0      6       770.0            0.0      1933      0.000000   \n",
       "3            5.0      7      1050.0          910.0      1965      0.000000   \n",
       "4            3.0      8      1680.0            0.0      1987      0.000000   \n",
       "...          ...    ...         ...            ...       ...           ...   \n",
       "21592        3.0      8      1530.0            0.0      2009      0.000000   \n",
       "21593        3.0      8      2310.0            0.0      2014      0.000000   \n",
       "21594        3.0      7      1020.0            0.0      2009      0.000000   \n",
       "21595        3.0      8      1600.0            0.0      2004      0.007596   \n",
       "21596        3.0      7      1020.0            0.0      2008      0.000000   \n",
       "\n",
       "       zipcode      lat     long  sqft_living15  sqft_lot15  \n",
       "0      98178.0  47.5112 -122.257           1340        5650  \n",
       "1      98125.0  47.7210 -122.319           1690        7639  \n",
       "2      98028.0  47.7379 -122.233           2720        8062  \n",
       "3      98136.0  47.5208 -122.393           1360        5000  \n",
       "4      98074.0  47.6168 -122.045           1800        7503  \n",
       "...        ...      ...      ...            ...         ...  \n",
       "21592  98103.0  47.6993 -122.346           1530        1509  \n",
       "21593  98146.0  47.5107 -122.362           1830        7200  \n",
       "21594  98144.0  47.5944 -122.299           1020        2007  \n",
       "21595  98027.0  47.5345 -122.069           1410        1287  \n",
       "21596  98144.0  47.5941 -122.299           1020        1357  \n",
       "\n",
       "[20795 rows x 18 columns]"
      ]
     },
     "execution_count": 89,
     "metadata": {},
     "output_type": "execute_result"
    }
   ],
   "source": [
    "kcx"
   ]
  },
  {
   "cell_type": "code",
   "execution_count": 90,
   "metadata": {},
   "outputs": [
    {
     "data": {
      "text/plain": [
       "SequentialFeatureSelector(cv=KFold(n_splits=10, random_state=0, shuffle=False),\n",
       "                          estimator=Pipeline(steps=[('standardscaler',\n",
       "                                                     StandardScaler()),\n",
       "                                                    ('kneighborsregressor',\n",
       "                                                     KNeighborsRegressor(n_neighbors=10))]),\n",
       "                          k_features=18, scoring='neg_mean_squared_error')"
      ]
     },
     "execution_count": 90,
     "metadata": {},
     "output_type": "execute_result"
    }
   ],
   "source": [
    "sfs1.fit(kcx, kcy)"
   ]
  },
  {
   "cell_type": "code",
   "execution_count": 91,
   "metadata": {},
   "outputs": [
    {
     "data": {
      "text/plain": [
       "{1: {'feature_idx': (13,),\n",
       "  'cv_scores': array([-3.29500568e+10, -3.56648671e+10, -3.52783661e+10, -3.35966654e+10,\n",
       "         -3.23845255e+10, -3.55981827e+10, -3.26750216e+10, -3.59631814e+10,\n",
       "         -3.58498636e+10, -4.54076869e+10]),\n",
       "  'avg_score': -35536841721.00164,\n",
       "  'feature_names': ('zipcode',)},\n",
       " 2: {'feature_idx': (8, 13),\n",
       "  'cv_scores': array([-1.64544430e+10, -1.79353742e+10, -1.57913649e+10, -1.62587728e+10,\n",
       "         -1.62624165e+10, -1.59236742e+10, -1.62362899e+10, -1.65758279e+10,\n",
       "         -1.79424317e+10, -2.71792852e+10]),\n",
       "  'avg_score': -17655988028.15674,\n",
       "  'feature_names': ('grade', 'zipcode')},\n",
       " 3: {'feature_idx': (8, 13, 14),\n",
       "  'cv_scores': array([-1.43399197e+10, -1.63689026e+10, -1.48705452e+10, -1.45212841e+10,\n",
       "         -1.41725203e+10, -1.42225847e+10, -1.41965476e+10, -1.41840039e+10,\n",
       "         -1.51560060e+10, -2.42442101e+10]),\n",
       "  'avg_score': -15627652402.65517,\n",
       "  'feature_names': ('grade', 'zipcode', 'lat')},\n",
       " 4: {'feature_idx': (2, 8, 13, 14),\n",
       "  'cv_scores': array([-1.20938768e+10, -1.26801341e+10, -1.15847469e+10, -1.27309915e+10,\n",
       "         -1.17572133e+10, -1.13795741e+10, -1.15639812e+10, -1.29819775e+10,\n",
       "         -1.22225487e+10, -1.18621392e+10]),\n",
       "  'avg_score': -12085718328.173004,\n",
       "  'feature_names': ('sqft_living', 'grade', 'zipcode', 'lat')},\n",
       " 5: {'feature_idx': (2, 8, 13, 14, 15),\n",
       "  'cv_scores': array([-1.00145555e+10, -1.10259717e+10, -1.04310980e+10, -1.05250698e+10,\n",
       "         -1.05153129e+10, -9.99507590e+09, -9.98174265e+09, -1.03695498e+10,\n",
       "         -1.05901100e+10, -1.14793654e+10]),\n",
       "  'avg_score': -10492785167.043018,\n",
       "  'feature_names': ('sqft_living', 'grade', 'zipcode', 'lat', 'long')},\n",
       " 6: {'feature_idx': (2, 5, 8, 13, 14, 15),\n",
       "  'cv_scores': array([-9.28696426e+09, -1.06458520e+10, -9.91534040e+09, -9.85393250e+09,\n",
       "         -9.96862004e+09, -9.65435024e+09, -9.73533081e+09, -9.62065562e+09,\n",
       "         -1.03883571e+10, -1.11295200e+10]),\n",
       "  'avg_score': -10019892303.101477,\n",
       "  'feature_names': ('sqft_living',\n",
       "   'waterfront',\n",
       "   'grade',\n",
       "   'zipcode',\n",
       "   'lat',\n",
       "   'long')},\n",
       " 7: {'feature_idx': (2, 5, 8, 13, 14, 15, 17),\n",
       "  'cv_scores': array([-8.82268659e+09, -1.04086796e+10, -9.89222666e+09, -9.73371400e+09,\n",
       "         -9.75450357e+09, -9.34815469e+09, -9.43708526e+09, -9.26468745e+09,\n",
       "         -1.00605141e+10, -1.11684699e+10]),\n",
       "  'avg_score': -9789072174.37157,\n",
       "  'feature_names': ('sqft_living',\n",
       "   'waterfront',\n",
       "   'grade',\n",
       "   'zipcode',\n",
       "   'lat',\n",
       "   'long',\n",
       "   'sqft_lot15')},\n",
       " 8: {'feature_idx': (2, 3, 5, 8, 13, 14, 15, 17),\n",
       "  'cv_scores': array([-8.94569535e+09, -1.02438915e+10, -9.73859960e+09, -9.71311120e+09,\n",
       "         -9.72448762e+09, -9.51725930e+09, -9.31683767e+09, -9.28991450e+09,\n",
       "         -1.02023808e+10, -1.11336618e+10]),\n",
       "  'avg_score': -9782583939.584312,\n",
       "  'feature_names': ('sqft_living',\n",
       "   'sqft_lot',\n",
       "   'waterfront',\n",
       "   'grade',\n",
       "   'zipcode',\n",
       "   'lat',\n",
       "   'long',\n",
       "   'sqft_lot15')},\n",
       " 9: {'feature_idx': (2, 3, 5, 8, 12, 13, 14, 15, 17),\n",
       "  'cv_scores': array([-8.96152949e+09, -1.03146673e+10, -9.72311441e+09, -9.71468985e+09,\n",
       "         -9.78157397e+09, -9.56176708e+09, -9.38021721e+09, -9.29389230e+09,\n",
       "         -1.02423207e+10, -1.11622980e+10]),\n",
       "  'avg_score': -9813607032.008286,\n",
       "  'feature_names': ('sqft_living',\n",
       "   'sqft_lot',\n",
       "   'waterfront',\n",
       "   'grade',\n",
       "   'yr_renovated',\n",
       "   'zipcode',\n",
       "   'lat',\n",
       "   'long',\n",
       "   'sqft_lot15')},\n",
       " 10: {'feature_idx': (2, 3, 5, 6, 8, 12, 13, 14, 15, 17),\n",
       "  'cv_scores': array([-9.47857437e+09, -1.05103392e+10, -9.35488658e+09, -1.02129615e+10,\n",
       "         -9.34636051e+09, -9.50452654e+09, -9.64082580e+09, -9.35879043e+09,\n",
       "         -1.04194631e+10, -1.12850403e+10]),\n",
       "  'avg_score': -9911176837.176197,\n",
       "  'feature_names': ('sqft_living',\n",
       "   'sqft_lot',\n",
       "   'waterfront',\n",
       "   'view',\n",
       "   'grade',\n",
       "   'yr_renovated',\n",
       "   'zipcode',\n",
       "   'lat',\n",
       "   'long',\n",
       "   'sqft_lot15')},\n",
       " 11: {'feature_idx': (2, 3, 5, 6, 8, 11, 12, 13, 14, 15, 17),\n",
       "  'cv_scores': array([-1.00506186e+10, -1.06365088e+10, -9.38562567e+09, -1.02779406e+10,\n",
       "         -9.40780157e+09, -1.00290732e+10, -9.63489840e+09, -9.62925543e+09,\n",
       "         -1.10277283e+10, -1.01595219e+10]),\n",
       "  'avg_score': -10023897240.32899,\n",
       "  'feature_names': ('sqft_living',\n",
       "   'sqft_lot',\n",
       "   'waterfront',\n",
       "   'view',\n",
       "   'grade',\n",
       "   'yr_built',\n",
       "   'yr_renovated',\n",
       "   'zipcode',\n",
       "   'lat',\n",
       "   'long',\n",
       "   'sqft_lot15')},\n",
       " 12: {'feature_idx': (2, 3, 5, 6, 8, 11, 12, 13, 14, 15, 16, 17),\n",
       "  'cv_scores': array([-9.37554757e+09, -1.11416015e+10, -9.84833109e+09, -1.01003303e+10,\n",
       "         -9.88855139e+09, -1.02673974e+10, -9.24596818e+09, -9.92902721e+09,\n",
       "         -1.09155209e+10, -1.06643203e+10]),\n",
       "  'avg_score': -10137659595.478594,\n",
       "  'feature_names': ('sqft_living',\n",
       "   'sqft_lot',\n",
       "   'waterfront',\n",
       "   'view',\n",
       "   'grade',\n",
       "   'yr_built',\n",
       "   'yr_renovated',\n",
       "   'zipcode',\n",
       "   'lat',\n",
       "   'long',\n",
       "   'sqft_living15',\n",
       "   'sqft_lot15')},\n",
       " 13: {'feature_idx': (2, 3, 5, 6, 8, 9, 11, 12, 13, 14, 15, 16, 17),\n",
       "  'cv_scores': array([-9.34033412e+09, -1.14336229e+10, -1.00721016e+10, -1.00229838e+10,\n",
       "         -9.99256206e+09, -1.05857686e+10, -9.38519287e+09, -1.02572182e+10,\n",
       "         -1.13437810e+10, -1.10326820e+10]),\n",
       "  'avg_score': -10346624726.458258,\n",
       "  'feature_names': ('sqft_living',\n",
       "   'sqft_lot',\n",
       "   'waterfront',\n",
       "   'view',\n",
       "   'grade',\n",
       "   'sqft_above',\n",
       "   'yr_built',\n",
       "   'yr_renovated',\n",
       "   'zipcode',\n",
       "   'lat',\n",
       "   'long',\n",
       "   'sqft_living15',\n",
       "   'sqft_lot15')},\n",
       " 14: {'feature_idx': (2, 3, 5, 6, 7, 8, 9, 11, 12, 13, 14, 15, 16, 17),\n",
       "  'cv_scores': array([-9.77274940e+09, -1.11414200e+10, -1.01328729e+10, -1.05369701e+10,\n",
       "         -1.00178646e+10, -1.08374189e+10, -9.74659626e+09, -1.06178727e+10,\n",
       "         -1.20137457e+10, -1.09407207e+10]),\n",
       "  'avg_score': -10575823123.773834,\n",
       "  'feature_names': ('sqft_living',\n",
       "   'sqft_lot',\n",
       "   'waterfront',\n",
       "   'view',\n",
       "   'condition',\n",
       "   'grade',\n",
       "   'sqft_above',\n",
       "   'yr_built',\n",
       "   'yr_renovated',\n",
       "   'zipcode',\n",
       "   'lat',\n",
       "   'long',\n",
       "   'sqft_living15',\n",
       "   'sqft_lot15')},\n",
       " 15: {'feature_idx': (2, 3, 4, 5, 6, 7, 8, 9, 11, 12, 13, 14, 15, 16, 17),\n",
       "  'cv_scores': array([-9.99335274e+09, -1.15085341e+10, -1.08908611e+10, -1.04988043e+10,\n",
       "         -1.05234461e+10, -1.11264914e+10, -9.93446942e+09, -1.09052639e+10,\n",
       "         -1.24955922e+10, -1.13860322e+10]),\n",
       "  'avg_score': -10926284754.76662,\n",
       "  'feature_names': ('sqft_living',\n",
       "   'sqft_lot',\n",
       "   'floors',\n",
       "   'waterfront',\n",
       "   'view',\n",
       "   'condition',\n",
       "   'grade',\n",
       "   'sqft_above',\n",
       "   'yr_built',\n",
       "   'yr_renovated',\n",
       "   'zipcode',\n",
       "   'lat',\n",
       "   'long',\n",
       "   'sqft_living15',\n",
       "   'sqft_lot15')},\n",
       " 16: {'feature_idx': (1, 2, 3, 4, 5, 6, 7, 8, 9, 11, 12, 13, 14, 15, 16, 17),\n",
       "  'cv_scores': array([-1.04922703e+10, -1.18732725e+10, -1.11079884e+10, -1.16034551e+10,\n",
       "         -1.12141336e+10, -1.13205301e+10, -1.03797040e+10, -1.13970636e+10,\n",
       "         -1.31245135e+10, -1.20122213e+10]),\n",
       "  'avg_score': -11452515230.774118,\n",
       "  'feature_names': ('bathrooms',\n",
       "   'sqft_living',\n",
       "   'sqft_lot',\n",
       "   'floors',\n",
       "   'waterfront',\n",
       "   'view',\n",
       "   'condition',\n",
       "   'grade',\n",
       "   'sqft_above',\n",
       "   'yr_built',\n",
       "   'yr_renovated',\n",
       "   'zipcode',\n",
       "   'lat',\n",
       "   'long',\n",
       "   'sqft_living15',\n",
       "   'sqft_lot15')},\n",
       " 17: {'feature_idx': (0,\n",
       "   1,\n",
       "   2,\n",
       "   3,\n",
       "   4,\n",
       "   5,\n",
       "   6,\n",
       "   7,\n",
       "   8,\n",
       "   9,\n",
       "   11,\n",
       "   12,\n",
       "   13,\n",
       "   14,\n",
       "   15,\n",
       "   16,\n",
       "   17),\n",
       "  'cv_scores': array([-1.10382441e+10, -1.24946021e+10, -1.13058758e+10, -1.19662679e+10,\n",
       "         -1.18005327e+10, -1.18327734e+10, -1.06561955e+10, -1.20250836e+10,\n",
       "         -1.33981052e+10, -1.25729172e+10]),\n",
       "  'avg_score': -11909059751.627,\n",
       "  'feature_names': ('bedrooms',\n",
       "   'bathrooms',\n",
       "   'sqft_living',\n",
       "   'sqft_lot',\n",
       "   'floors',\n",
       "   'waterfront',\n",
       "   'view',\n",
       "   'condition',\n",
       "   'grade',\n",
       "   'sqft_above',\n",
       "   'yr_built',\n",
       "   'yr_renovated',\n",
       "   'zipcode',\n",
       "   'lat',\n",
       "   'long',\n",
       "   'sqft_living15',\n",
       "   'sqft_lot15')},\n",
       " 18: {'feature_idx': (0,\n",
       "   1,\n",
       "   2,\n",
       "   3,\n",
       "   4,\n",
       "   5,\n",
       "   6,\n",
       "   7,\n",
       "   8,\n",
       "   9,\n",
       "   10,\n",
       "   11,\n",
       "   12,\n",
       "   13,\n",
       "   14,\n",
       "   15,\n",
       "   16,\n",
       "   17),\n",
       "  'cv_scores': array([-1.14964505e+10, -1.33721592e+10, -1.19904482e+10, -1.28345962e+10,\n",
       "         -1.22263350e+10, -1.25409306e+10, -1.11761509e+10, -1.27314926e+10,\n",
       "         -1.40260632e+10, -1.27590762e+10]),\n",
       "  'avg_score': -12515370269.02927,\n",
       "  'feature_names': ('bedrooms',\n",
       "   'bathrooms',\n",
       "   'sqft_living',\n",
       "   'sqft_lot',\n",
       "   'floors',\n",
       "   'waterfront',\n",
       "   'view',\n",
       "   'condition',\n",
       "   'grade',\n",
       "   'sqft_above',\n",
       "   'sqft_basement',\n",
       "   'yr_built',\n",
       "   'yr_renovated',\n",
       "   'zipcode',\n",
       "   'lat',\n",
       "   'long',\n",
       "   'sqft_living15',\n",
       "   'sqft_lot15')}}"
      ]
     },
     "execution_count": 91,
     "metadata": {},
     "output_type": "execute_result"
    }
   ],
   "source": [
    "#hide these from view, very long \n",
    "sfs1.subsets_"
   ]
  },
  {
   "cell_type": "code",
   "execution_count": 95,
   "metadata": {},
   "outputs": [
    {
     "name": "stdout",
     "output_type": "stream",
     "text": [
      "RMSE:  109935.35\n",
      "R Squared: 0.8\n"
     ]
    }
   ],
   "source": [
    "# using our top 4 features to build our new model \n",
    "kcy = kc_data['price'].to_frame()\n",
    "kcx = kc_data[['sqft_living', 'grade', 'zipcode', 'lat']].copy()\n",
    "y_pred = cross_val_predict(classifier_pipeline, kcx, kcy, cv=cv)\n",
    "print('RMSE:  ' + str(round(sqrt(mean_squared_error(kcy, y_pred)), 2)))\n",
    "print('R Squared: ' + str(round(r2_score(kcy, y_pred), 2)))"
   ]
  },
  {
   "cell_type": "code",
   "execution_count": 93,
   "metadata": {},
   "outputs": [
    {
     "data": {
      "text/html": [
       "<div>\n",
       "<style scoped>\n",
       "    .dataframe tbody tr th:only-of-type {\n",
       "        vertical-align: middle;\n",
       "    }\n",
       "\n",
       "    .dataframe tbody tr th {\n",
       "        vertical-align: top;\n",
       "    }\n",
       "\n",
       "    .dataframe thead th {\n",
       "        text-align: right;\n",
       "    }\n",
       "</style>\n",
       "<table border=\"1\" class=\"dataframe\">\n",
       "  <thead>\n",
       "    <tr style=\"text-align: right;\">\n",
       "      <th></th>\n",
       "      <th>price</th>\n",
       "      <th>grade</th>\n",
       "      <th>zipcode</th>\n",
       "      <th>lat</th>\n",
       "    </tr>\n",
       "  </thead>\n",
       "  <tbody>\n",
       "    <tr>\n",
       "      <th>price</th>\n",
       "      <td>1.000000</td>\n",
       "      <td>0.660759</td>\n",
       "      <td>-0.019490</td>\n",
       "      <td>0.398403</td>\n",
       "    </tr>\n",
       "    <tr>\n",
       "      <th>grade</th>\n",
       "      <td>0.660759</td>\n",
       "      <td>1.000000</td>\n",
       "      <td>-0.179026</td>\n",
       "      <td>0.100266</td>\n",
       "    </tr>\n",
       "    <tr>\n",
       "      <th>zipcode</th>\n",
       "      <td>-0.019490</td>\n",
       "      <td>-0.179026</td>\n",
       "      <td>1.000000</td>\n",
       "      <td>0.273857</td>\n",
       "    </tr>\n",
       "    <tr>\n",
       "      <th>lat</th>\n",
       "      <td>0.398403</td>\n",
       "      <td>0.100266</td>\n",
       "      <td>0.273857</td>\n",
       "      <td>1.000000</td>\n",
       "    </tr>\n",
       "  </tbody>\n",
       "</table>\n",
       "</div>"
      ],
      "text/plain": [
       "            price     grade   zipcode       lat\n",
       "price    1.000000  0.660759 -0.019490  0.398403\n",
       "grade    0.660759  1.000000 -0.179026  0.100266\n",
       "zipcode -0.019490 -0.179026  1.000000  0.273857\n",
       "lat      0.398403  0.100266  0.273857  1.000000"
      ]
     },
     "execution_count": 93,
     "metadata": {},
     "output_type": "execute_result"
    }
   ],
   "source": [
    "kc_data[['price', 'sqft_living', 'grade', 'zipcode', 'lat']].corr()"
   ]
  },
  {
   "cell_type": "code",
   "execution_count": 94,
   "metadata": {},
   "outputs": [
    {
     "data": {
      "text/plain": [
       "<seaborn.axisgrid.PairGrid at 0x1d4779de3d0>"
      ]
     },
     "execution_count": 94,
     "metadata": {},
     "output_type": "execute_result"
    },
    {
     "data": {
      "image/png": "[encoded data removed]",
      "text/plain": [
       "<Figure size 720x720 with 20 Axes>"
      ]
     },
     "metadata": {
      "needs_background": "light"
     },
     "output_type": "display_data"
    }
   ],
   "source": [
    "sns.pairplot(kc_data[['price', 'sqft_living', 'grade', 'zipcode', 'lat']])"
   ]
  },
  {
   "cell_type": "code",
   "execution_count": null,
   "metadata": {},
   "outputs": [],
   "source": []
  },
  {
   "cell_type": "code",
   "execution_count": null,
   "metadata": {},
   "outputs": [],
   "source": []
  }
 ],
 "metadata": {
  "kernelspec": {
   "display_name": "Python 3",
   "language": "python",
   "name": "python3"
  },
  "language_info": {
   "codemirror_mode": {
    "name": "ipython",
    "version": 3
   },
   "file_extension": ".py",
   "mimetype": "text/x-python",
   "name": "python",
   "nbconvert_exporter": "python",
   "pygments_lexer": "ipython3",
   "version": "3.8.5"
  },
  "widgets": {
   "application/vnd.jupyter.widget-state+json": {
    "state": {},
    "version_major": 2,
    "version_minor": 0
   }
  }
 },
 "nbformat": 4,
 "nbformat_minor": 4
}
